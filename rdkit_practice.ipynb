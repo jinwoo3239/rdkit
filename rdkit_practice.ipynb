{
  "nbformat": 4,
  "nbformat_minor": 0,
  "metadata": {
    "colab": {
      "name": "rdkit_practice.ipynb",
      "provenance": [],
      "authorship_tag": "ABX9TyPtdRiwUrx932f6jOmOlwnj",
      "include_colab_link": true
    },
    "kernelspec": {
      "name": "python3",
      "display_name": "Python 3"
    },
    "language_info": {
      "name": "python"
    }
  },
  "cells": [
    {
      "cell_type": "markdown",
      "metadata": {
        "id": "view-in-github",
        "colab_type": "text"
      },
      "source": [
        "<a href=\"https://colab.research.google.com/github/jinwoo3239/rdkit/blob/main/rdkit_practice.ipynb\" target=\"_parent\"><img src=\"https://colab.research.google.com/assets/colab-badge.svg\" alt=\"Open In Colab\"/></a>"
      ]
    },
    {
      "cell_type": "code",
      "execution_count": 1,
      "metadata": {
        "colab": {
          "base_uri": "https://localhost:8080/"
        },
        "id": "kXyHWmEXFbP3",
        "outputId": "34c0bb59-a32c-4575-ce8c-6339298f36ac"
      },
      "outputs": [
        {
          "output_type": "stream",
          "name": "stdout",
          "text": [
            "Looking in indexes: https://pypi.org/simple, https://us-python.pkg.dev/colab-wheels/public/simple/\n",
            "Collecting DeepChem\n",
            "  Downloading deepchem-2.6.1-py3-none-any.whl (608 kB)\n",
            "\u001b[K     |████████████████████████████████| 608 kB 30.7 MB/s \n",
            "\u001b[?25hRequirement already satisfied: pandas in /usr/local/lib/python3.7/dist-packages (from DeepChem) (1.3.5)\n",
            "Collecting rdkit-pypi\n",
            "  Downloading rdkit_pypi-2022.3.5-cp37-cp37m-manylinux_2_17_x86_64.manylinux2014_x86_64.whl (36.8 MB)\n",
            "\u001b[K     |████████████████████████████████| 36.8 MB 38 kB/s \n",
            "\u001b[?25hRequirement already satisfied: scikit-learn in /usr/local/lib/python3.7/dist-packages (from DeepChem) (1.0.2)\n",
            "Requirement already satisfied: scipy in /usr/local/lib/python3.7/dist-packages (from DeepChem) (1.7.3)\n",
            "Requirement already satisfied: numpy>=1.21 in /usr/local/lib/python3.7/dist-packages (from DeepChem) (1.21.6)\n",
            "Requirement already satisfied: joblib in /usr/local/lib/python3.7/dist-packages (from DeepChem) (1.1.0)\n",
            "Requirement already satisfied: python-dateutil>=2.7.3 in /usr/local/lib/python3.7/dist-packages (from pandas->DeepChem) (2.8.2)\n",
            "Requirement already satisfied: pytz>=2017.3 in /usr/local/lib/python3.7/dist-packages (from pandas->DeepChem) (2022.1)\n",
            "Requirement already satisfied: six>=1.5 in /usr/local/lib/python3.7/dist-packages (from python-dateutil>=2.7.3->pandas->DeepChem) (1.15.0)\n",
            "Requirement already satisfied: Pillow in /usr/local/lib/python3.7/dist-packages (from rdkit-pypi->DeepChem) (7.1.2)\n",
            "Requirement already satisfied: threadpoolctl>=2.0.0 in /usr/local/lib/python3.7/dist-packages (from scikit-learn->DeepChem) (3.1.0)\n",
            "Installing collected packages: rdkit-pypi, DeepChem\n",
            "Successfully installed DeepChem-2.6.1 rdkit-pypi-2022.3.5\n"
          ]
        }
      ],
      "source": [
        "!pip install DeepChem"
      ]
    },
    {
      "cell_type": "code",
      "source": [
        "import rdkit\n",
        "from rdkit import Chem\n",
        "from rdkit.Chem import AllChem\n",
        "from rdkit import DataStructs"
      ],
      "metadata": {
        "id": "guSg28gJwUeQ"
      },
      "execution_count": null,
      "outputs": []
    },
    {
      "cell_type": "code",
      "source": [
        "rdkit.__version__"
      ],
      "metadata": {
        "id": "-p5TxKXvFcB-",
        "colab": {
          "base_uri": "https://localhost:8080/",
          "height": 36
        },
        "outputId": "83c1acdf-8f93-4582-e720-8801c2f01ad8"
      },
      "execution_count": null,
      "outputs": [
        {
          "output_type": "execute_result",
          "data": {
            "text/plain": [
              "'2022.03.4'"
            ],
            "application/vnd.google.colaboratory.intrinsic+json": {
              "type": "string"
            }
          },
          "metadata": {},
          "execution_count": 5
        }
      ]
    },
    {
      "cell_type": "code",
      "source": [
        "m = Chem.MolFromSmiles('Cc1ccccc1')\n",
        "m"
      ],
      "metadata": {
        "colab": {
          "base_uri": "https://localhost:8080/"
        },
        "id": "ZQhn6pwVFnlq",
        "outputId": "6759905a-5b25-46d6-ce58-fbdd66eeab1f"
      },
      "execution_count": null,
      "outputs": [
        {
          "output_type": "execute_result",
          "data": {
            "text/plain": [
              "<rdkit.Chem.rdchem.Mol at 0x7f2d1e7923f0>"
            ]
          },
          "metadata": {},
          "execution_count": 6
        }
      ]
    },
    {
      "cell_type": "code",
      "source": [
        "Chem.Draw.MolToImage(m, size=(150, 150))"
      ],
      "metadata": {
        "colab": {
          "base_uri": "https://localhost:8080/",
          "height": 167
        },
        "id": "CGRr3cpA6U-1",
        "outputId": "680df47d-2f9a-4fc6-b509-519a6e2ca436"
      },
      "execution_count": null,
      "outputs": [
        {
          "output_type": "execute_result",
          "data": {
            "text/plain": [
              "<PIL.PngImagePlugin.PngImageFile image mode=RGB size=150x150 at 0x7F2D1E59CBD0>"
            ],
            "image/png": "[encoded data removed]"
          },
          "metadata": {},
          "execution_count": 34
        }
      ]
    },
    {
      "cell_type": "code",
      "source": [
        "print(Chem.MolToSmiles(m)) # Caconical form\n",
        "print(Chem.MolToSmiles(m, kekuleSmiles=True)) # Kekular form"
      ],
      "metadata": {
        "colab": {
          "base_uri": "https://localhost:8080/"
        },
        "id": "yjFYj4NK6VHu",
        "outputId": "aacd11de-a0f7-4a57-dfc3-7632199c2684"
      },
      "execution_count": null,
      "outputs": [
        {
          "output_type": "stream",
          "name": "stdout",
          "text": [
            "Cc1cccc2[nH]ccc12\n",
            "CC1=CC=CC2=C1C=CN2\n"
          ]
        }
      ]
    },
    {
      "cell_type": "code",
      "source": [
        "!wget https://raw.githubusercontent.com/rdkit/rdkit/master/Docs/Book/data/input.mol"
      ],
      "metadata": {
        "colab": {
          "base_uri": "https://localhost:8080/"
        },
        "id": "8c0psRBaI_q-",
        "outputId": "44484490-5cf1-47e0-c2b2-b60c8c5b216a"
      },
      "execution_count": null,
      "outputs": [
        {
          "output_type": "stream",
          "name": "stdout",
          "text": [
            "--2022-08-07 01:01:33--  https://raw.githubusercontent.com/rdkit/rdkit/master/Docs/Book/data/input.mol\n",
            "Resolving raw.githubusercontent.com (raw.githubusercontent.com)... 185.199.108.133, 185.199.109.133, 185.199.110.133, ...\n",
            "Connecting to raw.githubusercontent.com (raw.githubusercontent.com)|185.199.108.133|:443... connected.\n",
            "HTTP request sent, awaiting response... 200 OK\n",
            "Length: 1024 (1.0K) [text/plain]\n",
            "Saving to: ‘input.mol’\n",
            "\n",
            "\rinput.mol             0%[                    ]       0  --.-KB/s               \rinput.mol           100%[===================>]   1.00K  --.-KB/s    in 0s      \n",
            "\n",
            "2022-08-07 01:01:34 (63.8 MB/s) - ‘input.mol’ saved [1024/1024]\n",
            "\n"
          ]
        }
      ]
    },
    {
      "cell_type": "code",
      "source": [
        "m = Chem.MolFromMolFile('input.mol')\n",
        "m\n",
        "Chem.Draw.MolToImage(m, size=(100, 100))"
      ],
      "metadata": {
        "colab": {
          "base_uri": "https://localhost:8080/",
          "height": 117
        },
        "id": "4lIqBP6LJQqK",
        "outputId": "4f7318a7-0bae-428b-d485-364d85f69ecd"
      },
      "execution_count": null,
      "outputs": [
        {
          "output_type": "execute_result",
          "data": {
            "text/plain": [
              "<PIL.PngImagePlugin.PngImageFile image mode=RGB size=100x100 at 0x7F2D1E689B50>"
            ],
            "image/png": "[encoded data removed]"
          },
          "metadata": {},
          "execution_count": 21
        }
      ]
    },
    {
      "cell_type": "code",
      "source": [
        "type(m)"
      ],
      "metadata": {
        "colab": {
          "base_uri": "https://localhost:8080/"
        },
        "id": "ze4IiuAEFukM",
        "outputId": "344fb32f-0fbd-4545-9e00-b08ecb68eddd"
      },
      "execution_count": null,
      "outputs": [
        {
          "output_type": "execute_result",
          "data": {
            "text/plain": [
              "rdkit.Chem.rdchem.Mol"
            ]
          },
          "metadata": {},
          "execution_count": 22
        }
      ]
    },
    {
      "cell_type": "code",
      "source": [
        "!wget https://raw.githubusercontent.com/rdkit/rdkit/master/Docs/Book/data/5ht3ligs.sdf"
      ],
      "metadata": {
        "colab": {
          "base_uri": "https://localhost:8080/"
        },
        "id": "G2000ftBGRSy",
        "outputId": "72dce98e-b356-4926-d5a6-0954f8c60b23"
      },
      "execution_count": null,
      "outputs": [
        {
          "output_type": "stream",
          "name": "stdout",
          "text": [
            "--2022-08-07 01:10:16--  https://raw.githubusercontent.com/rdkit/rdkit/master/Docs/Book/data/5ht3ligs.sdf\n",
            "Resolving raw.githubusercontent.com (raw.githubusercontent.com)... 185.199.110.133, 185.199.109.133, 185.199.108.133, ...\n",
            "Connecting to raw.githubusercontent.com (raw.githubusercontent.com)|185.199.110.133|:443... connected.\n",
            "HTTP request sent, awaiting response... 200 OK\n",
            "Length: 9578 (9.4K) [text/plain]\n",
            "Saving to: ‘5ht3ligs.sdf’\n",
            "\n",
            "\r5ht3ligs.sdf          0%[                    ]       0  --.-KB/s               \r5ht3ligs.sdf        100%[===================>]   9.35K  --.-KB/s    in 0s      \n",
            "\n",
            "2022-08-07 01:10:16 (68.5 MB/s) - ‘5ht3ligs.sdf’ saved [9578/9578]\n",
            "\n"
          ]
        }
      ]
    },
    {
      "cell_type": "code",
      "source": [
        "# $$$$ 로 끊어져서 있음\n",
        "# sdf 파일은 여러개의 분자 표현식"
      ],
      "metadata": {
        "id": "QwYhbgvR3DME"
      },
      "execution_count": null,
      "outputs": []
    },
    {
      "cell_type": "code",
      "source": [
        "suppl = Chem.SDMolSupplier('5ht3ligs.sdf')\n",
        "\n",
        "mols = []\n",
        "for mol in suppl:\n",
        "    mols.append(mol)\n",
        "    print(mol.GetNumAtoms())"
      ],
      "metadata": {
        "colab": {
          "base_uri": "https://localhost:8080/"
        },
        "id": "rIiakYl5GZgT",
        "outputId": "9e7dba47-b416-4e36-a160-1ec432c932d0"
      },
      "execution_count": null,
      "outputs": [
        {
          "output_type": "stream",
          "name": "stdout",
          "text": [
            "20\n",
            "24\n",
            "24\n",
            "26\n"
          ]
        }
      ]
    },
    {
      "cell_type": "code",
      "source": [
        "# 3차원 구조를 2차원 구조로 표현하다가 보니까, 링이 찌그러져 있는 것 처럼 보인다\n",
        "Chem.Draw.MolsToGridImage(mols, molsPerRow=4)"
      ],
      "metadata": {
        "colab": {
          "base_uri": "https://localhost:8080/",
          "height": 217
        },
        "id": "tmseS0cGHfIt",
        "outputId": "0084c7f6-e907-467a-9f82-b27766b3f36b"
      },
      "execution_count": null,
      "outputs": [
        {
          "output_type": "execute_result",
          "data": {
            "text/plain": [
              "<PIL.PngImagePlugin.PngImageFile image mode=RGB size=800x200 at 0x7F2D1E6891D0>"
            ],
            "image/png": "[encoded data removed]"
          },
          "metadata": {},
          "execution_count": 28
        }
      ]
    },
    {
      "cell_type": "code",
      "source": [
        "# Caconical smiles 로 내보니기로 해준다."
      ],
      "metadata": {
        "id": "u9jrtjqR69of"
      },
      "execution_count": null,
      "outputs": []
    },
    {
      "cell_type": "code",
      "source": [
        "Chem.MolToSmiles(Chem.MolFromSmiles('C1=CC=CN=C1'))"
      ],
      "metadata": {
        "colab": {
          "base_uri": "https://localhost:8080/",
          "height": 36
        },
        "id": "7V6QN5nj5ZGH",
        "outputId": "11639f16-d4e7-4163-c381-e51833220b52"
      },
      "execution_count": null,
      "outputs": [
        {
          "output_type": "execute_result",
          "data": {
            "text/plain": [
              "'c1ccncc1'"
            ],
            "application/vnd.google.colaboratory.intrinsic+json": {
              "type": "string"
            }
          },
          "metadata": {},
          "execution_count": 36
        }
      ]
    },
    {
      "cell_type": "code",
      "source": [
        "Chem.MolToSmiles(Chem.MolFromSmiles('c1cccnc1'))"
      ],
      "metadata": {
        "colab": {
          "base_uri": "https://localhost:8080/",
          "height": 36
        },
        "id": "qv1uLhmb625K",
        "outputId": "f83e3b2f-2456-4ff2-fa05-3fff000230a4"
      },
      "execution_count": null,
      "outputs": [
        {
          "output_type": "execute_result",
          "data": {
            "text/plain": [
              "'c1ccncc1'"
            ],
            "application/vnd.google.colaboratory.intrinsic+json": {
              "type": "string"
            }
          },
          "metadata": {},
          "execution_count": 37
        }
      ]
    },
    {
      "cell_type": "code",
      "source": [
        "Chem.MolToSmiles(Chem.MolFromSmiles('c1cccnc1'))"
      ],
      "metadata": {
        "colab": {
          "base_uri": "https://localhost:8080/",
          "height": 36
        },
        "id": "8QeforQ366c9",
        "outputId": "fd097c33-cd26-4b59-9d22-92ff5f6d0721"
      },
      "execution_count": null,
      "outputs": [
        {
          "output_type": "execute_result",
          "data": {
            "text/plain": [
              "'c1ccncc1'"
            ],
            "application/vnd.google.colaboratory.intrinsic+json": {
              "type": "string"
            }
          },
          "metadata": {},
          "execution_count": 38
        }
      ]
    },
    {
      "cell_type": "code",
      "source": [
        "Chem.MolToMolFile(m, \"test.mol\")"
      ],
      "metadata": {
        "id": "hzszYF_Q68ip"
      },
      "execution_count": null,
      "outputs": []
    },
    {
      "cell_type": "code",
      "source": [
        "m_test = Chem.MolFromMolFile('test.mol')\n",
        "Chem.Draw.MolToImage(m_test, size=(100, 100))"
      ],
      "metadata": {
        "colab": {
          "base_uri": "https://localhost:8080/",
          "height": 117
        },
        "id": "R4D905CW8ePn",
        "outputId": "9a19dd5f-c374-4756-9e71-4958b260d4b8"
      },
      "execution_count": null,
      "outputs": [
        {
          "output_type": "execute_result",
          "data": {
            "text/plain": [
              "<PIL.PngImagePlugin.PngImageFile image mode=RGB size=100x100 at 0x7F2D25E7F210>"
            ],
            "image/png": "[encoded data removed]"
          },
          "metadata": {},
          "execution_count": 41
        }
      ]
    },
    {
      "cell_type": "code",
      "source": [
        "m_test.SetProp(\"_Name\", 'test_name')\n",
        "print(Chem.MolToMolBlock(m_test))"
      ],
      "metadata": {
        "colab": {
          "base_uri": "https://localhost:8080/"
        },
        "id": "W93zef4V8u27",
        "outputId": "5ed2e3da-33aa-4603-f602-33e23e1a1140"
      },
      "execution_count": null,
      "outputs": [
        {
          "output_type": "stream",
          "name": "stdout",
          "text": [
            "test_name\n",
            "     RDKit          2D\n",
            "\n",
            " 10 11  0  0  0  0  0  0  0  0999 V2000\n",
            "   -3.2411   -0.5303    0.0000 C   0  0  0  0  0  0  0  0  0  0  0  0\n",
            "   -3.9555   -0.9428    0.0000 C   0  0  0  0  0  0  0  0  0  0  0  0\n",
            "   -3.9555   -1.7679    0.0000 C   0  0  0  0  0  0  0  0  0  0  0  0\n",
            "   -3.2411   -2.1804    0.0000 C   0  0  0  0  0  0  0  0  0  0  0  0\n",
            "   -2.5266   -1.7679    0.0000 C   0  0  0  0  0  0  0  0  0  0  0  0\n",
            "   -2.5266   -0.9428    0.0000 C   0  0  0  0  0  0  0  0  0  0  0  0\n",
            "   -1.8122   -2.1803    0.0000 N   0  0  0  0  0  0  0  0  0  0  0  0\n",
            "   -1.0977   -0.9428    0.0000 C   0  0  0  0  0  0  0  0  0  0  0  0\n",
            "   -1.0977   -1.7678    0.0000 C   0  0  0  0  0  0  0  0  0  0  0  0\n",
            "   -3.2411    0.2947    0.0000 C   0  0  0  0  0  0  0  0  0  0  0  0\n",
            "  1  2  2  0\n",
            "  1  6  1  0\n",
            "  2  3  1  0\n",
            "  3  4  2  0\n",
            "  4  5  1  0\n",
            "  6  8  1  0\n",
            "  5  6  2  0\n",
            "  7  5  1  0\n",
            "  7  9  1  0\n",
            "  8  9  2  0\n",
            "  1 10  1  0\n",
            "M  END\n",
            "\n"
          ]
        }
      ]
    },
    {
      "cell_type": "code",
      "source": [
        "!wget https://github.com/rdkit/rdkit/raw/master/Docs/Book/data/actives_5ht3.sdf.gz"
      ],
      "metadata": {
        "id": "rzX92YrLqb7v",
        "outputId": "e2ca24b5-dbb1-44df-f0b0-829a1d7d30e2",
        "colab": {
          "base_uri": "https://localhost:8080/"
        }
      },
      "execution_count": null,
      "outputs": [
        {
          "output_type": "stream",
          "name": "stdout",
          "text": [
            "--2022-08-07 04:56:59--  https://github.com/rdkit/rdkit/raw/master/Docs/Book/data/actives_5ht3.sdf.gz\n",
            "Resolving github.com (github.com)... 140.82.114.3\n",
            "Connecting to github.com (github.com)|140.82.114.3|:443... connected.\n",
            "HTTP request sent, awaiting response... 302 Found\n",
            "Location: https://raw.githubusercontent.com/rdkit/rdkit/master/Docs/Book/data/actives_5ht3.sdf.gz [following]\n",
            "--2022-08-07 04:56:59--  https://raw.githubusercontent.com/rdkit/rdkit/master/Docs/Book/data/actives_5ht3.sdf.gz\n",
            "Resolving raw.githubusercontent.com (raw.githubusercontent.com)... 185.199.108.133, 185.199.110.133, 185.199.111.133, ...\n",
            "Connecting to raw.githubusercontent.com (raw.githubusercontent.com)|185.199.108.133|:443... connected.\n",
            "HTTP request sent, awaiting response... 200 OK\n",
            "Length: 36077 (35K) [application/octet-stream]\n",
            "Saving to: ‘actives_5ht3.sdf.gz’\n",
            "\n",
            "actives_5ht3.sdf.gz 100%[===================>]  35.23K  --.-KB/s    in 0.006s  \n",
            "\n",
            "2022-08-07 04:56:59 (6.02 MB/s) - ‘actives_5ht3.sdf.gz’ saved [36077/36077]\n",
            "\n"
          ]
        }
      ]
    },
    {
      "cell_type": "code",
      "source": [
        "# 분자에 문제가 있으면 none 을 return\n",
        "import gzip\n",
        "\n",
        "fp = gzip.open('actives_5ht3.sdf.gz')\n",
        "suppl = Chem.ForwardSDMolSupplier(fp)\n",
        "\n",
        "mols = [mol for mol in suppl if mol is not None]\n",
        "len(mols)"
      ],
      "metadata": {
        "colab": {
          "base_uri": "https://localhost:8080/"
        },
        "id": "Bi-Jf-KK9qZN",
        "outputId": "dd1ec591-7fbe-4b19-b02b-d51eb02471e0"
      },
      "execution_count": null,
      "outputs": [
        {
          "output_type": "execute_result",
          "data": {
            "text/plain": [
              "180"
            ]
          },
          "metadata": {},
          "execution_count": 45
        }
      ]
    },
    {
      "cell_type": "code",
      "source": [
        "mols[0]"
      ],
      "metadata": {
        "colab": {
          "base_uri": "https://localhost:8080/"
        },
        "id": "mRJCZWyFBG9e",
        "outputId": "4c8d92ad-822b-4395-f4bc-70c7ec3f2e77"
      },
      "execution_count": null,
      "outputs": [
        {
          "output_type": "execute_result",
          "data": {
            "text/plain": [
              "<rdkit.Chem.rdchem.Mol at 0x7f2d1e5f6cb0>"
            ]
          },
          "metadata": {},
          "execution_count": 46
        }
      ]
    },
    {
      "cell_type": "code",
      "source": [
        "Chem.Draw.MolToImage(mols[0], size=(150, 150))"
      ],
      "metadata": {
        "colab": {
          "base_uri": "https://localhost:8080/",
          "height": 167
        },
        "id": "K70lbYufBkIZ",
        "outputId": "2a51ea40-2999-4d3a-eec0-36f9d900a6aa"
      },
      "execution_count": null,
      "outputs": [
        {
          "output_type": "execute_result",
          "data": {
            "text/plain": [
              "<PIL.PngImagePlugin.PngImageFile image mode=RGB size=150x150 at 0x7F2D1E576FD0>"
            ],
            "image/png": "[encoded data removed]"
          },
          "metadata": {},
          "execution_count": 47
        }
      ]
    },
    {
      "cell_type": "code",
      "source": [
        "# file 로 저장하기\n",
        "with Chem.SDWriter('test_mols.sdf') as fout:\n",
        "    for mol in mols:\n",
        "        fout.write(mol)"
      ],
      "metadata": {
        "id": "j3xAeQmHBp9w"
      },
      "execution_count": null,
      "outputs": []
    },
    {
      "cell_type": "code",
      "source": [
        "# 이 분자들은 수소가 보통 없음...\n",
        "test_suppl = Chem.SDMolSupplier('test_mols.sdf')\n",
        "\n",
        "# Chem.Draw.MolsToGridImage(test_suppl, molsPerRow=4, )"
      ],
      "metadata": {
        "id": "9y53Gb6WChOu"
      },
      "execution_count": null,
      "outputs": []
    },
    {
      "cell_type": "code",
      "source": [
        "# 수소를 붙여보기\n",
        "\n",
        "# Chem.AddHs function 을 이용함.. 이때 새로운 분자를 return\n",
        "\n",
        "m1 = test_suppl[0]"
      ],
      "metadata": {
        "id": "lJPQbL9aC7qv"
      },
      "execution_count": null,
      "outputs": []
    },
    {
      "cell_type": "code",
      "source": [
        "Chem.AddHs(m1)"
      ],
      "metadata": {
        "colab": {
          "base_uri": "https://localhost:8080/"
        },
        "id": "p_MfGNeoDyaF",
        "outputId": "68e91842-6100-4ba5-e710-fc7b6c09a4ac"
      },
      "execution_count": null,
      "outputs": [
        {
          "output_type": "execute_result",
          "data": {
            "text/plain": [
              "<rdkit.Chem.rdchem.Mol at 0x7f2d1e568990>"
            ]
          },
          "metadata": {},
          "execution_count": 55
        }
      ]
    },
    {
      "cell_type": "code",
      "source": [
        "Chem.Draw.MolToImage(Chem.AddHs(m1), size=(150, 150))\n",
        "# 단순히 수소를 붙이면, 수소의 좌표가 입력이 되지 않는다"
      ],
      "metadata": {
        "colab": {
          "base_uri": "https://localhost:8080/",
          "height": 167
        },
        "id": "W7HMGPbNEVRZ",
        "outputId": "5a10a9ae-4dd0-4a61-ffb8-8f25c8867c8f"
      },
      "execution_count": null,
      "outputs": [
        {
          "output_type": "execute_result",
          "data": {
            "text/plain": [
              "<PIL.PngImagePlugin.PngImageFile image mode=RGB size=150x150 at 0x7F2D1E587950>"
            ],
            "image/png": "[encoded data removed]"
          },
          "metadata": {},
          "execution_count": 60
        }
      ]
    },
    {
      "cell_type": "code",
      "source": [
        "print(Chem.MolToMolBlock(m1))"
      ],
      "metadata": {
        "colab": {
          "base_uri": "https://localhost:8080/"
        },
        "id": "axhTUDnbD6RA",
        "outputId": "ca852290-9998-455c-a30b-65e0e728e3ea"
      },
      "execution_count": null,
      "outputs": [
        {
          "output_type": "stream",
          "name": "stdout",
          "text": [
            "tpls\\mol-1.tpl\n",
            "     RDKit          3D\n",
            "\n",
            " 20 22  0  0  0  0  0  0  0  0999 V2000\n",
            "    1.1200   -0.6200   -1.0800 C   0  0  2  0  0  0  0  0  0  0  0  0\n",
            "    1.5400    0.8200   -1.0600 N   0  0  0  0  0  0  0  0  0  0  0  0\n",
            "   -0.4200   -0.6400   -1.3200 C   0  0  0  0  0  0  0  0  0  0  0  0\n",
            "    1.5600   -1.1800    0.3000 C   0  0  0  0  0  0  0  0  0  0  0  0\n",
            "    1.1400    1.2200    0.3200 C   0  0  2  0  0  0  0  0  0  0  0  0\n",
            "    2.9600    1.0600   -1.3800 C   0  0  0  0  0  0  0  0  0  0  0  0\n",
            "   -1.2400    0.2400   -0.3000 C   0  0  2  0  0  0  0  0  0  0  0  0\n",
            "    1.5600    0.0600    1.2400 C   0  0  0  0  0  0  0  0  0  0  0  0\n",
            "   -0.4200    1.4600    0.2600 C   0  0  0  0  0  0  0  0  0  0  0  0\n",
            "   -1.7800   -0.5600    0.7600 N   0  0  0  0  0  0  0  0  0  0  0  0\n",
            "   -2.6400   -0.1600    1.7400 C   0  0  0  0  0  0  0  0  0  0  0  0\n",
            "   -3.0600   -1.0400    2.6800 N   0  0  0  0  0  0  0  0  0  0  0  0\n",
            "   -3.0200    1.0000    1.7600 O   0  0  0  0  0  0  0  0  0  0  0  0\n",
            "   -3.9400   -0.9400    3.7800 C   0  0  0  0  0  0  0  0  0  0  0  0\n",
            "   -4.2000   -2.0200    4.6000 C   0  0  0  0  0  0  0  0  0  0  0  0\n",
            "   -4.7400    0.5200    4.2000 S   0  0  0  0  0  0  0  0  0  0  0  0\n",
            "   -5.1000   -1.6400    5.6200 C   0  0  0  0  0  0  0  0  0  0  0  0\n",
            "   -3.7000   -3.1800    4.4200 O   0  0  0  0  0  0  0  0  0  0  0  0\n",
            "   -5.4600   -0.3200    5.5200 C   0  0  0  0  0  0  0  0  0  0  0  0\n",
            "   -3.7800   -4.3600    5.0400 C   0  0  0  0  0  0  0  0  0  0  0  0\n",
            "  1  2  1  0\n",
            "  1  3  1  1\n",
            "  1  4  1  0\n",
            "  2  5  1  0\n",
            "  2  6  1  0\n",
            "  3  7  1  0\n",
            "  4  8  1  0\n",
            "  5  9  1  6\n",
            "  7 10  1  1\n",
            " 10 11  1  0\n",
            " 11 12  1  0\n",
            " 11 13  2  0\n",
            " 12 14  1  0\n",
            " 14 15  2  0\n",
            " 14 16  1  0\n",
            " 15 17  1  0\n",
            " 15 18  1  0\n",
            " 16 19  1  0\n",
            " 18 20  1  0\n",
            "  5  8  1  0\n",
            "  7  9  1  0\n",
            " 17 19  2  0\n",
            "M  END\n",
            "\n"
          ]
        }
      ]
    },
    {
      "cell_type": "code",
      "source": [
        "# 수소의 좌표가 존재하지 않음\n",
        "\n",
        "m2 = Chem.AddHs(m1)\n",
        "print(Chem.MolToMolBlock(m2))"
      ],
      "metadata": {
        "colab": {
          "base_uri": "https://localhost:8080/"
        },
        "id": "mUNT04EuEIMy",
        "outputId": "71731c3d-548b-42bc-f2c6-ba90f966555c"
      },
      "execution_count": null,
      "outputs": [
        {
          "output_type": "stream",
          "name": "stdout",
          "text": [
            "tpls\\mol-1.tpl\n",
            "     RDKit          3D\n",
            "\n",
            " 41 43  0  0  0  0  0  0  0  0999 V2000\n",
            "    1.1200   -0.6200   -1.0800 C   0  0  1  0  0  0  0  0  0  0  0  0\n",
            "    1.5400    0.8200   -1.0600 N   0  0  0  0  0  0  0  0  0  0  0  0\n",
            "   -0.4200   -0.6400   -1.3200 C   0  0  0  0  0  0  0  0  0  0  0  0\n",
            "    1.5600   -1.1800    0.3000 C   0  0  0  0  0  0  0  0  0  0  0  0\n",
            "    1.1400    1.2200    0.3200 C   0  0  1  0  0  0  0  0  0  0  0  0\n",
            "    2.9600    1.0600   -1.3800 C   0  0  0  0  0  0  0  0  0  0  0  0\n",
            "   -1.2400    0.2400   -0.3000 C   0  0  1  0  0  0  0  0  0  0  0  0\n",
            "    1.5600    0.0600    1.2400 C   0  0  0  0  0  0  0  0  0  0  0  0\n",
            "   -0.4200    1.4600    0.2600 C   0  0  0  0  0  0  0  0  0  0  0  0\n",
            "   -1.7800   -0.5600    0.7600 N   0  0  0  0  0  0  0  0  0  0  0  0\n",
            "   -2.6400   -0.1600    1.7400 C   0  0  0  0  0  0  0  0  0  0  0  0\n",
            "   -3.0600   -1.0400    2.6800 N   0  0  0  0  0  0  0  0  0  0  0  0\n",
            "   -3.0200    1.0000    1.7600 O   0  0  0  0  0  0  0  0  0  0  0  0\n",
            "   -3.9400   -0.9400    3.7800 C   0  0  0  0  0  0  0  0  0  0  0  0\n",
            "   -4.2000   -2.0200    4.6000 C   0  0  0  0  0  0  0  0  0  0  0  0\n",
            "   -4.7400    0.5200    4.2000 S   0  0  0  0  0  0  0  0  0  0  0  0\n",
            "   -5.1000   -1.6400    5.6200 C   0  0  0  0  0  0  0  0  0  0  0  0\n",
            "   -3.7000   -3.1800    4.4200 O   0  0  0  0  0  0  0  0  0  0  0  0\n",
            "   -5.4600   -0.3200    5.5200 C   0  0  0  0  0  0  0  0  0  0  0  0\n",
            "   -3.7800   -4.3600    5.0400 C   0  0  0  0  0  0  0  0  0  0  0  0\n",
            "    0.0000    0.0000    0.0000 H   0  0  0  0  0  0  0  0  0  0  0  0\n",
            "    0.0000    0.0000    0.0000 H   0  0  0  0  0  0  0  0  0  0  0  0\n",
            "    0.0000    0.0000    0.0000 H   0  0  0  0  0  0  0  0  0  0  0  0\n",
            "    0.0000    0.0000    0.0000 H   0  0  0  0  0  0  0  0  0  0  0  0\n",
            "    0.0000    0.0000    0.0000 H   0  0  0  0  0  0  0  0  0  0  0  0\n",
            "    0.0000    0.0000    0.0000 H   0  0  0  0  0  0  0  0  0  0  0  0\n",
            "    0.0000    0.0000    0.0000 H   0  0  0  0  0  0  0  0  0  0  0  0\n",
            "    0.0000    0.0000    0.0000 H   0  0  0  0  0  0  0  0  0  0  0  0\n",
            "    0.0000    0.0000    0.0000 H   0  0  0  0  0  0  0  0  0  0  0  0\n",
            "    0.0000    0.0000    0.0000 H   0  0  0  0  0  0  0  0  0  0  0  0\n",
            "    0.0000    0.0000    0.0000 H   0  0  0  0  0  0  0  0  0  0  0  0\n",
            "    0.0000    0.0000    0.0000 H   0  0  0  0  0  0  0  0  0  0  0  0\n",
            "    0.0000    0.0000    0.0000 H   0  0  0  0  0  0  0  0  0  0  0  0\n",
            "    0.0000    0.0000    0.0000 H   0  0  0  0  0  0  0  0  0  0  0  0\n",
            "    0.0000    0.0000    0.0000 H   0  0  0  0  0  0  0  0  0  0  0  0\n",
            "    0.0000    0.0000    0.0000 H   0  0  0  0  0  0  0  0  0  0  0  0\n",
            "    0.0000    0.0000    0.0000 H   0  0  0  0  0  0  0  0  0  0  0  0\n",
            "    0.0000    0.0000    0.0000 H   0  0  0  0  0  0  0  0  0  0  0  0\n",
            "    0.0000    0.0000    0.0000 H   0  0  0  0  0  0  0  0  0  0  0  0\n",
            "    0.0000    0.0000    0.0000 H   0  0  0  0  0  0  0  0  0  0  0  0\n",
            "    0.0000    0.0000    0.0000 H   0  0  0  0  0  0  0  0  0  0  0  0\n",
            "  1  2  1  0\n",
            "  1  3  1  0\n",
            "  1  4  1  0\n",
            "  2  5  1  0\n",
            "  2  6  1  0\n",
            "  3  7  1  0\n",
            "  4  8  1  0\n",
            "  5  9  1  0\n",
            "  7 10  1  0\n",
            " 10 11  1  0\n",
            " 11 12  1  0\n",
            " 11 13  2  0\n",
            " 12 14  1  0\n",
            " 14 15  2  0\n",
            " 14 16  1  0\n",
            " 15 17  1  0\n",
            " 15 18  1  0\n",
            " 16 19  1  0\n",
            " 18 20  1  0\n",
            "  5  8  1  0\n",
            "  7  9  1  0\n",
            " 17 19  2  0\n",
            "  1 21  1  6\n",
            "  3 22  1  0\n",
            "  3 23  1  0\n",
            "  4 24  1  0\n",
            "  4 25  1  0\n",
            "  5 26  1  1\n",
            "  6 27  1  0\n",
            "  6 28  1  0\n",
            "  6 29  1  0\n",
            "  7 30  1  6\n",
            "  8 31  1  0\n",
            "  8 32  1  0\n",
            "  9 33  1  0\n",
            "  9 34  1  0\n",
            " 10 35  1  0\n",
            " 12 36  1  0\n",
            " 17 37  1  0\n",
            " 19 38  1  0\n",
            " 20 39  1  0\n",
            " 20 40  1  0\n",
            " 20 41  1  0\n",
            "M  END\n",
            "\n"
          ]
        }
      ]
    },
    {
      "cell_type": "code",
      "source": [
        "# 수소를 지울 때에는 Chem.RemoveHs..\n",
        "\n",
        "m3 = Chem.RemoveHs(m2)\n",
        "Chem.Draw.MolToImage(m3, size=(150, 150))"
      ],
      "metadata": {
        "colab": {
          "base_uri": "https://localhost:8080/",
          "height": 167
        },
        "id": "yg3hguPsEstK",
        "outputId": "981ed9b7-ed9e-461f-b9f0-c41f2bb06ce3"
      },
      "execution_count": null,
      "outputs": [
        {
          "output_type": "execute_result",
          "data": {
            "text/plain": [
              "<PIL.PngImagePlugin.PngImageFile image mode=RGB size=150x150 at 0x7F2D1CD3E450>"
            ],
            "image/png": "[encoded data removed]"
          },
          "metadata": {},
          "execution_count": 62
        }
      ]
    },
    {
      "cell_type": "code",
      "source": [
        "print(Chem.MolToMolBlock(m3))"
      ],
      "metadata": {
        "colab": {
          "base_uri": "https://localhost:8080/"
        },
        "id": "AFtuXugjFkfJ",
        "outputId": "b88b2683-7065-4c25-c9db-008bf342b81a"
      },
      "execution_count": null,
      "outputs": [
        {
          "output_type": "stream",
          "name": "stdout",
          "text": [
            "tpls\\mol-1.tpl\n",
            "     RDKit          3D\n",
            "\n",
            " 20 22  0  0  0  0  0  0  0  0999 V2000\n",
            "    1.1200   -0.6200   -1.0800 C   0  0  2  0  0  0  0  0  0  0  0  0\n",
            "    1.5400    0.8200   -1.0600 N   0  0  0  0  0  0  0  0  0  0  0  0\n",
            "   -0.4200   -0.6400   -1.3200 C   0  0  0  0  0  0  0  0  0  0  0  0\n",
            "    1.5600   -1.1800    0.3000 C   0  0  0  0  0  0  0  0  0  0  0  0\n",
            "    1.1400    1.2200    0.3200 C   0  0  2  0  0  0  0  0  0  0  0  0\n",
            "    2.9600    1.0600   -1.3800 C   0  0  0  0  0  0  0  0  0  0  0  0\n",
            "   -1.2400    0.2400   -0.3000 C   0  0  2  0  0  0  0  0  0  0  0  0\n",
            "    1.5600    0.0600    1.2400 C   0  0  0  0  0  0  0  0  0  0  0  0\n",
            "   -0.4200    1.4600    0.2600 C   0  0  0  0  0  0  0  0  0  0  0  0\n",
            "   -1.7800   -0.5600    0.7600 N   0  0  0  0  0  0  0  0  0  0  0  0\n",
            "   -2.6400   -0.1600    1.7400 C   0  0  0  0  0  0  0  0  0  0  0  0\n",
            "   -3.0600   -1.0400    2.6800 N   0  0  0  0  0  0  0  0  0  0  0  0\n",
            "   -3.0200    1.0000    1.7600 O   0  0  0  0  0  0  0  0  0  0  0  0\n",
            "   -3.9400   -0.9400    3.7800 C   0  0  0  0  0  0  0  0  0  0  0  0\n",
            "   -4.2000   -2.0200    4.6000 C   0  0  0  0  0  0  0  0  0  0  0  0\n",
            "   -4.7400    0.5200    4.2000 S   0  0  0  0  0  0  0  0  0  0  0  0\n",
            "   -5.1000   -1.6400    5.6200 C   0  0  0  0  0  0  0  0  0  0  0  0\n",
            "   -3.7000   -3.1800    4.4200 O   0  0  0  0  0  0  0  0  0  0  0  0\n",
            "   -5.4600   -0.3200    5.5200 C   0  0  0  0  0  0  0  0  0  0  0  0\n",
            "   -3.7800   -4.3600    5.0400 C   0  0  0  0  0  0  0  0  0  0  0  0\n",
            "  1  2  1  0\n",
            "  1  3  1  1\n",
            "  1  4  1  0\n",
            "  2  5  1  0\n",
            "  2  6  1  0\n",
            "  3  7  1  0\n",
            "  4  8  1  0\n",
            "  5  9  1  6\n",
            "  7 10  1  1\n",
            " 10 11  1  0\n",
            " 11 12  1  0\n",
            " 11 13  2  0\n",
            " 12 14  1  0\n",
            " 14 15  2  0\n",
            " 14 16  1  0\n",
            " 15 17  1  0\n",
            " 15 18  1  0\n",
            " 16 19  1  0\n",
            " 18 20  1  0\n",
            "  5  8  1  0\n",
            "  7  9  1  0\n",
            " 17 19  2  0\n",
            "M  END\n",
            "\n"
          ]
        }
      ]
    },
    {
      "cell_type": "code",
      "source": [
        "# 분자의 3차원 구조 만들기\n",
        "# 분자의 3차원 crystal 구조를 만드는 것은 매우 어려움\n",
        "# 아주 정확한 3차원 구조를 얻기 위해서는 양자 계산 및 전역 최적화 (Global optimization)\n",
        "# 회전 가능한 bond 의 수가 많은 수록 기하 급수적으로 늘어나게 됨...\n",
        "# 3차원 구조를 만들어주는 알고리즘은, 어느 정도의 가정하고 만들게 됨... (정확하지 않음)\n",
        "\n",
        "# RDkit 에서는 ETKDG\n",
        "# AllChem.EmbedMolecule\n",
        "# 입력 받은 변수를 inplace 변화를 일으킴\n"
      ],
      "metadata": {
        "id": "nM3D17wcFsF4"
      },
      "execution_count": null,
      "outputs": []
    },
    {
      "cell_type": "code",
      "source": [
        "from rdkit.Chem import AllChem\n",
        "\n",
        "Chem.Draw.MolToImage(m2, size=(150, 150))"
      ],
      "metadata": {
        "colab": {
          "base_uri": "https://localhost:8080/",
          "height": 167
        },
        "id": "wGZvqG4rHLUd",
        "outputId": "e8cfc7d7-2da8-4b34-b917-ce101c926a86"
      },
      "execution_count": null,
      "outputs": [
        {
          "output_type": "execute_result",
          "data": {
            "text/plain": [
              "<PIL.PngImagePlugin.PngImageFile image mode=RGB size=150x150 at 0x7F2D1E576110>"
            ],
            "image/png": "[encoded data removed]"
          },
          "metadata": {},
          "execution_count": 64
        }
      ]
    },
    {
      "cell_type": "code",
      "source": [
        "AllChem.EmbedMolecule(m2) # error 가 생성되지 않으면 0 이 return "
      ],
      "metadata": {
        "colab": {
          "base_uri": "https://localhost:8080/"
        },
        "id": "Kf6N7JKfHXvp",
        "outputId": "4a925016-b792-414f-8959-ab66a80ecaed"
      },
      "execution_count": null,
      "outputs": [
        {
          "output_type": "execute_result",
          "data": {
            "text/plain": [
              "0"
            ]
          },
          "metadata": {},
          "execution_count": 65
        }
      ]
    },
    {
      "cell_type": "code",
      "source": [
        "Chem.Draw.MolToImage(m2, size=(150, 150))"
      ],
      "metadata": {
        "colab": {
          "base_uri": "https://localhost:8080/",
          "height": 167
        },
        "id": "o71EdZ5DHcVF",
        "outputId": "bb8ef994-4dc9-4347-cf7a-f041c52a4825"
      },
      "execution_count": null,
      "outputs": [
        {
          "output_type": "execute_result",
          "data": {
            "text/plain": [
              "<PIL.PngImagePlugin.PngImageFile image mode=RGB size=150x150 at 0x7F2D1CD44890>"
            ],
            "image/png": "[encoded data removed]"
          },
          "metadata": {},
          "execution_count": 66
        }
      ]
    },
    {
      "cell_type": "code",
      "source": [
        "print(Chem.MolToMolBlock(m2))"
      ],
      "metadata": {
        "colab": {
          "base_uri": "https://localhost:8080/"
        },
        "id": "qlZJMZ8-HfPQ",
        "outputId": "de218c48-46b7-4d69-e9ad-cfe6c53252d6"
      },
      "execution_count": null,
      "outputs": [
        {
          "output_type": "stream",
          "name": "stdout",
          "text": [
            "tpls\\mol-1.tpl\n",
            "     RDKit          3D\n",
            "\n",
            " 41 43  0  0  0  0  0  0  0  0999 V2000\n",
            "   -3.2477    0.0333   -1.6341 C   0  0  2  0  0  0  0  0  0  0  0  0\n",
            "   -3.5614   -0.6266   -0.3905 N   0  0  0  0  0  0  0  0  0  0  0  0\n",
            "   -1.7722    0.3722   -1.6891 C   0  0  0  0  0  0  0  0  0  0  0  0\n",
            "   -4.0795    1.2988   -1.5942 C   0  0  0  0  0  0  0  0  0  0  0  0\n",
            "   -3.4943    0.4722    0.5551 C   0  0  2  0  0  0  0  0  0  0  0  0\n",
            "   -4.8329   -1.2725   -0.3870 C   0  0  0  0  0  0  0  0  0  0  0  0\n",
            "   -1.1730    0.1250   -0.3443 C   0  0  2  0  0  0  0  0  0  0  0  0\n",
            "   -4.2942    1.5383   -0.1205 C   0  0  0  0  0  0  0  0  0  0  0  0\n",
            "   -2.0248    0.8488    0.6808 C   0  0  0  0  0  0  0  0  0  0  0  0\n",
            "    0.1789    0.5563   -0.2038 N   0  0  0  0  0  0  0  0  0  0  0  0\n",
            "    1.2636   -0.2823    0.1786 C   0  0  0  0  0  0  0  0  0  0  0  0\n",
            "    2.5871    0.1608    0.3115 N   0  0  0  0  0  0  0  0  0  0  0  0\n",
            "    1.0007   -1.4856    0.4059 O   0  0  0  0  0  0  0  0  0  0  0  0\n",
            "    3.6165   -0.7554    0.7016 C   0  0  0  0  0  0  0  0  0  0  0  0\n",
            "    4.9458   -0.5173    0.8822 C   0  0  0  0  0  0  0  0  0  0  0  0\n",
            "    3.4703   -2.4146    1.0528 S   0  0  0  0  0  0  0  0  0  0  0  0\n",
            "    5.7180   -1.5529    1.2540 C   0  0  0  0  0  0  0  0  0  0  0  0\n",
            "    5.4687    0.7839    0.6789 O   0  0  0  0  0  0  0  0  0  0  0  0\n",
            "    5.1003   -2.7646    1.4203 C   0  0  0  0  0  0  0  0  0  0  0  0\n",
            "    6.8140    1.1058    0.8433 C   0  0  0  0  0  0  0  0  0  0  0  0\n",
            "   -3.5706   -0.6101   -2.4587 H   0  0  0  0  0  0  0  0  0  0  0  0\n",
            "   -1.3364   -0.2566   -2.4911 H   0  0  0  0  0  0  0  0  0  0  0  0\n",
            "   -1.6878    1.4456   -1.9344 H   0  0  0  0  0  0  0  0  0  0  0  0\n",
            "   -3.5235    2.1425   -2.0634 H   0  0  0  0  0  0  0  0  0  0  0  0\n",
            "   -5.0160    1.1342   -2.1464 H   0  0  0  0  0  0  0  0  0  0  0  0\n",
            "   -3.8744    0.1977    1.5528 H   0  0  0  0  0  0  0  0  0  0  0  0\n",
            "   -5.5584   -0.6321    0.1548 H   0  0  0  0  0  0  0  0  0  0  0  0\n",
            "   -5.2513   -1.4543   -1.3958 H   0  0  0  0  0  0  0  0  0  0  0  0\n",
            "   -4.7687   -2.2183    0.2112 H   0  0  0  0  0  0  0  0  0  0  0  0\n",
            "   -1.2612   -0.9574   -0.1130 H   0  0  0  0  0  0  0  0  0  0  0  0\n",
            "   -5.3631    1.3982    0.1290 H   0  0  0  0  0  0  0  0  0  0  0  0\n",
            "   -3.9727    2.5652    0.1448 H   0  0  0  0  0  0  0  0  0  0  0  0\n",
            "   -1.6412    0.7196    1.7026 H   0  0  0  0  0  0  0  0  0  0  0  0\n",
            "   -1.9731    1.9425    0.4401 H   0  0  0  0  0  0  0  0  0  0  0  0\n",
            "    0.4047    1.5582   -0.3919 H   0  0  0  0  0  0  0  0  0  0  0  0\n",
            "    2.8348    1.1535    0.1296 H   0  0  0  0  0  0  0  0  0  0  0  0\n",
            "    6.8180   -1.4959    1.4353 H   0  0  0  0  0  0  0  0  0  0  0  0\n",
            "    5.5740   -3.7193    1.7209 H   0  0  0  0  0  0  0  0  0  0  0  0\n",
            "    7.2056    0.4961    1.7028 H   0  0  0  0  0  0  0  0  0  0  0  0\n",
            "    7.3781    0.9360   -0.0799 H   0  0  0  0  0  0  0  0  0  0  0  0\n",
            "    6.8993    2.1618    1.1491 H   0  0  0  0  0  0  0  0  0  0  0  0\n",
            "  1  2  1  0\n",
            "  1  3  1  0\n",
            "  1  4  1  0\n",
            "  2  5  1  0\n",
            "  2  6  1  0\n",
            "  3  7  1  0\n",
            "  4  8  1  0\n",
            "  5  9  1  0\n",
            "  7 10  1  0\n",
            " 10 11  1  0\n",
            " 11 12  1  0\n",
            " 11 13  2  0\n",
            " 12 14  1  0\n",
            " 14 15  2  0\n",
            " 14 16  1  0\n",
            " 15 17  1  0\n",
            " 15 18  1  0\n",
            " 16 19  1  0\n",
            " 18 20  1  0\n",
            "  5  8  1  0\n",
            "  7  9  1  0\n",
            " 17 19  2  0\n",
            "  1 21  1  6\n",
            "  3 22  1  0\n",
            "  3 23  1  0\n",
            "  4 24  1  0\n",
            "  4 25  1  0\n",
            "  5 26  1  1\n",
            "  6 27  1  0\n",
            "  6 28  1  0\n",
            "  6 29  1  0\n",
            "  7 30  1  1\n",
            "  8 31  1  0\n",
            "  8 32  1  0\n",
            "  9 33  1  0\n",
            "  9 34  1  0\n",
            " 10 35  1  0\n",
            " 12 36  1  0\n",
            " 17 37  1  0\n",
            " 19 38  1  0\n",
            " 20 39  1  0\n",
            " 20 40  1  0\n",
            " 20 41  1  0\n",
            "M  END\n",
            "\n"
          ]
        }
      ]
    },
    {
      "cell_type": "code",
      "source": [
        "m = Chem.MolFromSmiles('c1ccccc1')\n",
        "\n",
        "Chem.Draw.MolToImage(m, size=(150, 150))"
      ],
      "metadata": {
        "colab": {
          "base_uri": "https://localhost:8080/",
          "height": 167
        },
        "id": "VyuqNqYuHvTt",
        "outputId": "34ae076f-cc25-4704-b62c-3f5de71d56dc"
      },
      "execution_count": null,
      "outputs": [
        {
          "output_type": "execute_result",
          "data": {
            "text/plain": [
              "<PIL.PngImagePlugin.PngImageFile image mode=RGB size=150x150 at 0x7F2D1A216910>"
            ],
            "image/png": "[encoded data removed]"
          },
          "metadata": {},
          "execution_count": 68
        }
      ]
    },
    {
      "cell_type": "code",
      "source": [
        "m_H = Chem.AddHs(m)\n",
        "Chem.Draw.MolToImage(m_H, size=(150, 150))"
      ],
      "metadata": {
        "colab": {
          "base_uri": "https://localhost:8080/",
          "height": 167
        },
        "id": "D05gjsTZIFPp",
        "outputId": "49065467-8a3e-4798-8215-d37ef0070dad"
      },
      "execution_count": null,
      "outputs": [
        {
          "output_type": "execute_result",
          "data": {
            "text/plain": [
              "<PIL.PngImagePlugin.PngImageFile image mode=RGB size=150x150 at 0x7F2D1A201550>"
            ],
            "image/png": "[encoded data removed]"
          },
          "metadata": {},
          "execution_count": 70
        }
      ]
    },
    {
      "cell_type": "code",
      "source": [
        "AllChem.EmbedMolecule(m_H)\n",
        "Chem.Draw.MolToImage(m_H, size=(150, 150))"
      ],
      "metadata": {
        "colab": {
          "base_uri": "https://localhost:8080/",
          "height": 167
        },
        "id": "JIUhfuVpISza",
        "outputId": "3b67713e-3197-46c1-890a-129df1716793"
      },
      "execution_count": null,
      "outputs": [
        {
          "output_type": "execute_result",
          "data": {
            "text/plain": [
              "<PIL.PngImagePlugin.PngImageFile image mode=RGB size=150x150 at 0x7F2D1ADD7FD0>"
            ],
            "image/png": "[encoded data removed]"
          },
          "metadata": {},
          "execution_count": 72
        }
      ]
    },
    {
      "cell_type": "code",
      "source": [
        "# Fingerprint using RDKits\n",
        "\n",
        "from rdkit import DataStructs\n",
        "\n",
        "ms = [Chem.MolFromSmiles('CCOC'), Chem.MolFromSmiles('CCO'), Chem.MolFromSmiles('COC')]\n",
        "\n",
        "fps = [Chem.RDKFingerprint(mol) for mol in ms]"
      ],
      "metadata": {
        "id": "gExRF3DxIdJN"
      },
      "execution_count": null,
      "outputs": []
    },
    {
      "cell_type": "code",
      "source": [
        "fps"
      ],
      "metadata": {
        "colab": {
          "base_uri": "https://localhost:8080/"
        },
        "id": "4eUuR8HUOiTj",
        "outputId": "cca3222f-fbca-435c-a5a5-0fa0c7cff3a8"
      },
      "execution_count": null,
      "outputs": [
        {
          "output_type": "execute_result",
          "data": {
            "text/plain": [
              "[<rdkit.DataStructs.cDataStructs.ExplicitBitVect at 0x7f2d1a21c3f0>,\n",
              " <rdkit.DataStructs.cDataStructs.ExplicitBitVect at 0x7f2d1cd0f6c0>,\n",
              " <rdkit.DataStructs.cDataStructs.ExplicitBitVect at 0x7f2d1cd0fa30>]"
            ]
          },
          "metadata": {},
          "execution_count": 74
        }
      ]
    },
    {
      "cell_type": "code",
      "source": [
        "# Similarity\n",
        "\n",
        "DataStructs.FingerprintSimilarity(fps[0], fps[1]) # Taminoto smiliary"
      ],
      "metadata": {
        "colab": {
          "base_uri": "https://localhost:8080/"
        },
        "id": "trEzbPi4Oixo",
        "outputId": "8f84ac0e-8d9d-4ba0-be70-6e0b0b805cec"
      },
      "execution_count": null,
      "outputs": [
        {
          "output_type": "execute_result",
          "data": {
            "text/plain": [
              "0.6"
            ]
          },
          "metadata": {},
          "execution_count": 82
        }
      ]
    },
    {
      "cell_type": "code",
      "source": [
        "DataStructs.FingerprintSimilarity(fps[0], fps[1], metric=DataStructs.DiceSimilarity)"
      ],
      "metadata": {
        "colab": {
          "base_uri": "https://localhost:8080/"
        },
        "id": "IwPj6SZVOtbc",
        "outputId": "a770cd05-f0fa-4d5f-8413-e4f3f611a971"
      },
      "execution_count": null,
      "outputs": [
        {
          "output_type": "execute_result",
          "data": {
            "text/plain": [
              "0.75"
            ]
          },
          "metadata": {},
          "execution_count": 83
        }
      ]
    },
    {
      "cell_type": "code",
      "source": [
        "# MACCSKeys - 166 public keys\n",
        "\n",
        "from rdkit.Chem import MACCSkeys\n",
        "\n",
        "fps = [MACCSkeys.GenMACCSKeys(mol) for mol in ms]\n",
        "fps"
      ],
      "metadata": {
        "colab": {
          "base_uri": "https://localhost:8080/"
        },
        "id": "2jfES6iaP_iP",
        "outputId": "7cbbde5f-77fd-4ce9-a2e7-34be9a4f81c7"
      },
      "execution_count": null,
      "outputs": [
        {
          "output_type": "execute_result",
          "data": {
            "text/plain": [
              "[<rdkit.DataStructs.cDataStructs.ExplicitBitVect at 0x7f2d1a21cdf0>,\n",
              " <rdkit.DataStructs.cDataStructs.ExplicitBitVect at 0x7f2d1a21c8f0>,\n",
              " <rdkit.DataStructs.cDataStructs.ExplicitBitVect at 0x7f2d1a1c7ee0>]"
            ]
          },
          "metadata": {},
          "execution_count": 86
        }
      ]
    },
    {
      "cell_type": "code",
      "source": [
        "DataStructs.FingerprintSimilarity(fps[0], fps[1])"
      ],
      "metadata": {
        "colab": {
          "base_uri": "https://localhost:8080/"
        },
        "id": "zJN--cJFQbNT",
        "outputId": "8abf96b4-7fc1-4080-adba-2b765103e3ba"
      },
      "execution_count": null,
      "outputs": [
        {
          "output_type": "execute_result",
          "data": {
            "text/plain": [
              "0.5"
            ]
          },
          "metadata": {},
          "execution_count": 87
        }
      ]
    },
    {
      "cell_type": "code",
      "source": [
        "DataStructs.FingerprintSimilarity(fps[0], fps[1], metric=DataStructs.DiceSimilarity)\n"
      ],
      "metadata": {
        "colab": {
          "base_uri": "https://localhost:8080/"
        },
        "id": "Mw0c0SemQyl0",
        "outputId": "a0270567-1ce7-4315-8f72-13d5b5660877"
      },
      "execution_count": null,
      "outputs": [
        {
          "output_type": "execute_result",
          "data": {
            "text/plain": [
              "0.6666666666666666"
            ]
          },
          "metadata": {},
          "execution_count": 88
        }
      ]
    },
    {
      "cell_type": "code",
      "source": [
        "# Morgan FingerPrints, 다른 말로 ECFP\n",
        "# radius 를 확인해봐야함 1 - ECFP2, 2 - ECFP4\n",
        "\n",
        "from rdkit.Chem import AllChem\n",
        "\n",
        "fps = [AllChem.GetMorganFingerprint(mol, 2) for mol in ms]\n",
        "fps"
      ],
      "metadata": {
        "colab": {
          "base_uri": "https://localhost:8080/"
        },
        "id": "MyalE5PkQy-k",
        "outputId": "a51f49c3-fd65-40da-ae13-1548a9dee077"
      },
      "execution_count": null,
      "outputs": [
        {
          "output_type": "execute_result",
          "data": {
            "text/plain": [
              "[<rdkit.DataStructs.cDataStructs.UIntSparseIntVect at 0x7f2d1a1e9210>,\n",
              " <rdkit.DataStructs.cDataStructs.UIntSparseIntVect at 0x7f2d1a1e98a0>,\n",
              " <rdkit.DataStructs.cDataStructs.UIntSparseIntVect at 0x7f2d1a1e9620>]"
            ]
          },
          "metadata": {},
          "execution_count": 96
        }
      ]
    },
    {
      "cell_type": "code",
      "source": [
        "# 정수 list 가 아니라 bit vector 로 변환하여 보통 사용\n",
        "\n",
        "fps = [AllChem.GetMorganFingerprintAsBitVect(mol, 2) for mol in ms]\n",
        "fps"
      ],
      "metadata": {
        "colab": {
          "base_uri": "https://localhost:8080/"
        },
        "id": "nQ5tNb-wRMeM",
        "outputId": "5f42ac1d-57c9-4c79-8c33-54b026bf7653"
      },
      "execution_count": null,
      "outputs": [
        {
          "output_type": "execute_result",
          "data": {
            "text/plain": [
              "[<rdkit.DataStructs.cDataStructs.ExplicitBitVect at 0x7f2d1a215b20>,\n",
              " <rdkit.DataStructs.cDataStructs.ExplicitBitVect at 0x7f2d1a221170>,\n",
              " <rdkit.DataStructs.cDataStructs.ExplicitBitVect at 0x7f2d1a221e40>]"
            ]
          },
          "metadata": {},
          "execution_count": 98
        }
      ]
    },
    {
      "cell_type": "code",
      "source": [
        "fps[0]"
      ],
      "metadata": {
        "colab": {
          "base_uri": "https://localhost:8080/"
        },
        "id": "DcuUD4VuRmRL",
        "outputId": "501f73f8-6ca5-42d8-f7ab-1c363b403efd"
      },
      "execution_count": null,
      "outputs": [
        {
          "output_type": "execute_result",
          "data": {
            "text/plain": [
              "<rdkit.DataStructs.cDataStructs.ExplicitBitVect at 0x7f2d1a215b20>"
            ]
          },
          "metadata": {},
          "execution_count": 99
        }
      ]
    },
    {
      "cell_type": "code",
      "source": [
        "len(fps[0])"
      ],
      "metadata": {
        "colab": {
          "base_uri": "https://localhost:8080/"
        },
        "id": "KQyyCEhOSdJR",
        "outputId": "35e361c3-4245-45e6-97e9-9a5a2395f5da"
      },
      "execution_count": null,
      "outputs": [
        {
          "output_type": "execute_result",
          "data": {
            "text/plain": [
              "2048"
            ]
          },
          "metadata": {},
          "execution_count": 100
        }
      ]
    },
    {
      "cell_type": "code",
      "source": [
        "DataStructs.FingerprintSimilarity(fps[0], fps[1])\n",
        "# 특정 분자와 매우 유사한 것들만 고르겠다... 이런 것에 이용 한다"
      ],
      "metadata": {
        "colab": {
          "base_uri": "https://localhost:8080/"
        },
        "id": "Nxyrf-UnSpDz",
        "outputId": "14c20153-9b8c-46d5-e74b-6fe1e28dba02"
      },
      "execution_count": null,
      "outputs": [
        {
          "output_type": "execute_result",
          "data": {
            "text/plain": [
              "0.2727272727272727"
            ]
          },
          "metadata": {},
          "execution_count": 102
        }
      ]
    },
    {
      "cell_type": "markdown",
      "source": [
        ""
      ],
      "metadata": {
        "id": "xXd_0ESupXl2"
      }
    },
    {
      "cell_type": "code",
      "source": [
        "from rdkit.Chem.rdMolDescriptors import GetMorganFingerprint\n",
        "from rdkit.SimDivFilters.rdSimDivPickers import MaxMinPicker"
      ],
      "metadata": {
        "id": "TMudTJnoS4MY"
      },
      "execution_count": null,
      "outputs": []
    },
    {
      "cell_type": "code",
      "source": [
        "# !wget https://github.com/rdkit/rdkit/raw/master/Docs/Book/data/actives_5ht3.sdf.gz"
      ],
      "metadata": {
        "id": "nz-tHljSp5w7"
      },
      "execution_count": null,
      "outputs": []
    },
    {
      "cell_type": "code",
      "source": [
        "import gzip\n",
        "\n",
        "fp = gzip.open('actives_5ht3.sdf.gz')\n",
        "suppl = Chem.ForwardSDMolSupplier(fp)\n",
        "\n",
        "mols = [mol for mol in suppl if mol is not None]"
      ],
      "metadata": {
        "id": "9LfUMNSxqjhE"
      },
      "execution_count": null,
      "outputs": []
    },
    {
      "cell_type": "code",
      "source": [
        "from rdkit.Chem import Draw\n",
        "\n",
        "print(mols[0])\n",
        "\n",
        "Draw.MolToImage(mols[0], size=(100, 100))"
      ],
      "metadata": {
        "id": "AZv_yNyHq3N1",
        "outputId": "9923f84b-103f-4382-8de1-45d81cf225cf",
        "colab": {
          "base_uri": "https://localhost:8080/",
          "height": 135
        }
      },
      "execution_count": null,
      "outputs": [
        {
          "output_type": "stream",
          "name": "stdout",
          "text": [
            "<rdkit.Chem.rdchem.Mol object at 0x7f007c775da0>\n"
          ]
        },
        {
          "output_type": "execute_result",
          "data": {
            "text/plain": [
              "<PIL.PngImagePlugin.PngImageFile image mode=RGB size=100x100 at 0x7F007C6E2210>"
            ],
            "image/png": "[encoded data removed]"
          },
          "metadata": {},
          "execution_count": 10
        }
      ]
    },
    {
      "cell_type": "code",
      "source": [
        "# 2d cordinate\n",
        "\n",
        "AllChem.Compute2DCoords(mols[0])\n",
        "Draw.MolToImage(mols[0], size=(100, 100))"
      ],
      "metadata": {
        "id": "6fsbhsU7rPNW",
        "outputId": "fbcd041b-fe96-416a-f4ba-79b726ab7570",
        "colab": {
          "base_uri": "https://localhost:8080/",
          "height": 117
        }
      },
      "execution_count": null,
      "outputs": [
        {
          "output_type": "execute_result",
          "data": {
            "text/plain": [
              "<PIL.PngImagePlugin.PngImageFile image mode=RGB size=100x100 at 0x7F0071E71810>"
            ],
            "image/png": "[encoded data removed]"
          },
          "metadata": {},
          "execution_count": 12
        }
      ]
    },
    {
      "cell_type": "code",
      "source": [
        "# 180 개 에서 최대한 다른 10개의 분자를 뽑아 내는 방법\n",
        "\n",
        "fps = [GetMorganFingerprint(mol, 3) for mol in mols]"
      ],
      "metadata": {
        "id": "GdgNGVZFq_BP"
      },
      "execution_count": null,
      "outputs": []
    },
    {
      "cell_type": "code",
      "source": [
        "fps[0]"
      ],
      "metadata": {
        "id": "Ey8jQ_OAsfIH",
        "outputId": "c6139351-f414-4d27-8397-fde9342c61c5",
        "colab": {
          "base_uri": "https://localhost:8080/"
        }
      },
      "execution_count": null,
      "outputs": [
        {
          "output_type": "execute_result",
          "data": {
            "text/plain": [
              "<rdkit.DataStructs.cDataStructs.UIntSparseIntVect at 0x7f0071ef1580>"
            ]
          },
          "metadata": {},
          "execution_count": 14
        }
      ]
    },
    {
      "cell_type": "code",
      "source": [
        "# define the disfunc\n",
        "\n",
        "def dist_fun(i, j, fps=fps):\n",
        "    return 1 - DataStructs.DiceSimilarity(fps[i], fps[j])\n",
        "\n",
        "\n",
        "picker = MaxMinPicker()\n",
        "pickIndices = picker.LazyPick(dist_fun, len(fps), 10, seed=100)"
      ],
      "metadata": {
        "id": "BAdmyeLNsht6"
      },
      "execution_count": null,
      "outputs": []
    },
    {
      "cell_type": "code",
      "source": [
        "pickIndices"
      ],
      "metadata": {
        "id": "4XI373ymurAP",
        "outputId": "eef30a86-1666-41c7-cb17-622632a40028",
        "colab": {
          "base_uri": "https://localhost:8080/"
        }
      },
      "execution_count": null,
      "outputs": [
        {
          "output_type": "execute_result",
          "data": {
            "text/plain": [
              "<rdkit.rdBase._vecti at 0x7f0071ec3630>"
            ]
          },
          "metadata": {},
          "execution_count": 16
        }
      ]
    },
    {
      "cell_type": "code",
      "source": [
        "pick_list = sorted(list(pickIndices))"
      ],
      "metadata": {
        "id": "Dbi1_sklur3v"
      },
      "execution_count": null,
      "outputs": []
    },
    {
      "cell_type": "code",
      "source": [
        "pick_mol = [mols[i] for i in pick_list]\n",
        "\n",
        "Draw.MolsToGridImage(pick_mol, molsPerRow=5)"
      ],
      "metadata": {
        "id": "rO4HACHruwr8",
        "outputId": "27ce3c96-50ef-43a5-8a54-c7961a4ca3a6",
        "colab": {
          "base_uri": "https://localhost:8080/",
          "height": 417
        }
      },
      "execution_count": null,
      "outputs": [
        {
          "output_type": "execute_result",
          "data": {
            "text/plain": [
              "<PIL.PngImagePlugin.PngImageFile image mode=RGB size=1000x400 at 0x7F007152C490>"
            ],
            "image/png": "[encoded data removed]"
          },
          "metadata": {},
          "execution_count": 28
        }
      ]
    },
    {
      "cell_type": "code",
      "source": [
        "# Similarity map\n",
        "\n",
        "mol = Chem.MolFromSmiles('COc1cccc2cc(C(=O)NCCCCN3CCN(c4cccc5nccnc54)CC3)oc21')\n",
        "refmol = Chem.MolFromSmiles('CCCN(CCCCN1CCN(c2ccccc2OC)CC1)Cc1ccc2ccccc2c1')\n",
        "\n",
        "Draw.MolsToGridImage([refmol, mol])"
      ],
      "metadata": {
        "id": "S99l4t7LvR5O",
        "outputId": "f61e0772-fb1a-4d18-8fae-d62a112db606",
        "colab": {
          "base_uri": "https://localhost:8080/",
          "height": 217
        }
      },
      "execution_count": null,
      "outputs": [
        {
          "output_type": "execute_result",
          "data": {
            "text/plain": [
              "<PIL.PngImagePlugin.PngImageFile image mode=RGB size=600x200 at 0x7F0071518850>"
            ],
            "image/png": "[encoded data removed]"
          },
          "metadata": {},
          "execution_count": 30
        }
      ]
    },
    {
      "cell_type": "code",
      "source": [
        "Draw.SimilarityMaps.GetSimilarityMapForFingerprint(refmol, mol)"
      ],
      "metadata": {
        "id": "rLo2vVoKw83M",
        "outputId": "370987ff-501c-4c0a-8111-fb9a97003b5c",
        "colab": {
          "base_uri": "https://localhost:8080/",
          "height": 170
        }
      },
      "execution_count": null,
      "outputs": [
        {
          "output_type": "error",
          "ename": "AttributeError",
          "evalue": "ignored",
          "traceback": [
            "\u001b[0;31m---------------------------------------------------------------------------\u001b[0m",
            "\u001b[0;31mAttributeError\u001b[0m                            Traceback (most recent call last)",
            "\u001b[0;32m<ipython-input-31-355b4d31ed21>\u001b[0m in \u001b[0;36m<module>\u001b[0;34m()\u001b[0m\n\u001b[0;32m----> 1\u001b[0;31m \u001b[0mDraw\u001b[0m\u001b[0;34m.\u001b[0m\u001b[0mSimilarityMaps\u001b[0m\u001b[0;34m.\u001b[0m\u001b[0mGetSimilarityMapForFingerprint\u001b[0m\u001b[0;34m(\u001b[0m\u001b[0mrefmol\u001b[0m\u001b[0;34m,\u001b[0m \u001b[0mmol\u001b[0m\u001b[0;34m)\u001b[0m\u001b[0;34m\u001b[0m\u001b[0;34m\u001b[0m\u001b[0m\n\u001b[0m",
            "\u001b[0;31mAttributeError\u001b[0m: module 'rdkit.Chem.Draw' has no attribute 'SimilarityMaps'"
          ]
        }
      ]
    },
    {
      "cell_type": "code",
      "source": [
        "from rdkit.Chem import Draw\n",
        "from rdkit.Chem.Draw import SimilarityMaps\n",
        "\n",
        "fig, maxweight = SimilarityMaps.GetSimilarityMapForFingerprint(refmol, mol, SimilarityMaps.GetMorganFingerprint)"
      ],
      "metadata": {
        "id": "MZI1D-uUxnqa",
        "outputId": "d86eb4ca-b7d4-4c68-d20b-b68938bfb53e",
        "colab": {
          "base_uri": "https://localhost:8080/",
          "height": 481
        }
      },
      "execution_count": null,
      "outputs": [
        {
          "output_type": "display_data",
          "data": {
            "text/plain": [
              "<Figure size 180x180 with 1 Axes>"
            ],
            "image/png": "[encoded data removed]"
          },
          "metadata": {
            "needs_background": "light"
          }
        }
      ]
    },
    {
      "cell_type": "code",
      "source": [
        "# Descriptor calculation\n",
        "\n",
        "# 두 군데의 submodule 안에 들어 있음\n",
        "# rdkit.Chem.Descriptors, rdMolDescriptors\n",
        "# rdMolDescriptors 안에 더 많은 함수가 들어 있음"
      ],
      "metadata": {
        "id": "Co_0T164xr6I"
      },
      "execution_count": null,
      "outputs": []
    },
    {
      "cell_type": "code",
      "source": [
        "from rdkit.Chem import Descriptors, rdMolDescriptors"
      ],
      "metadata": {
        "id": "53Tds7-7zICj"
      },
      "execution_count": 2,
      "outputs": []
    },
    {
      "cell_type": "code",
      "source": [
        "mol_nH = Chem.MolFromSmiles('CC')\n",
        "mol_H = Chem.AddHs(mol_nH)\n",
        "\n",
        "Draw.MolsToGridImage([mol_nH, mol_H])"
      ],
      "metadata": {
        "id": "7MP6OT01zX1k",
        "outputId": "664f0656-6ef9-40d8-f86b-8fe538b502bd",
        "colab": {
          "base_uri": "https://localhost:8080/",
          "height": 223
        }
      },
      "execution_count": 3,
      "outputs": [
        {
          "output_type": "error",
          "ename": "NameError",
          "evalue": "ignored",
          "traceback": [
            "\u001b[0;31m---------------------------------------------------------------------------\u001b[0m",
            "\u001b[0;31mNameError\u001b[0m                                 Traceback (most recent call last)",
            "\u001b[0;32m<ipython-input-3-24d0f720342b>\u001b[0m in \u001b[0;36m<module>\u001b[0;34m()\u001b[0m\n\u001b[0;32m----> 1\u001b[0;31m \u001b[0mmol_nH\u001b[0m \u001b[0;34m=\u001b[0m \u001b[0mChem\u001b[0m\u001b[0;34m.\u001b[0m\u001b[0mMolFromSmiles\u001b[0m\u001b[0;34m(\u001b[0m\u001b[0;34m'CC'\u001b[0m\u001b[0;34m)\u001b[0m\u001b[0;34m\u001b[0m\u001b[0;34m\u001b[0m\u001b[0m\n\u001b[0m\u001b[1;32m      2\u001b[0m \u001b[0mmol_H\u001b[0m \u001b[0;34m=\u001b[0m \u001b[0mChem\u001b[0m\u001b[0;34m.\u001b[0m\u001b[0mAddHs\u001b[0m\u001b[0;34m(\u001b[0m\u001b[0mmol_nH\u001b[0m\u001b[0;34m)\u001b[0m\u001b[0;34m\u001b[0m\u001b[0;34m\u001b[0m\u001b[0m\n\u001b[1;32m      3\u001b[0m \u001b[0;34m\u001b[0m\u001b[0m\n\u001b[1;32m      4\u001b[0m \u001b[0mDraw\u001b[0m\u001b[0;34m.\u001b[0m\u001b[0mMolsToGridImage\u001b[0m\u001b[0;34m(\u001b[0m\u001b[0;34m[\u001b[0m\u001b[0mmol_nH\u001b[0m\u001b[0;34m,\u001b[0m \u001b[0mmol_H\u001b[0m\u001b[0;34m]\u001b[0m\u001b[0;34m)\u001b[0m\u001b[0;34m\u001b[0m\u001b[0;34m\u001b[0m\u001b[0m\n",
            "\u001b[0;31mNameError\u001b[0m: name 'Chem' is not defined"
          ]
        }
      ]
    },
    {
      "cell_type": "code",
      "source": [
        "print(Descriptors.MolWt(mol_nH))\n",
        "print(Descriptors.MolWt(mol_H))\n",
        "\n",
        "print(Descriptors.ExactMolWt(mol_nH))\n",
        "print(Descriptors.ExactMolWt(mol_H))"
      ],
      "metadata": {
        "id": "zeYZqgir0IMG",
        "outputId": "91dc5122-53a7-427a-dd3d-629387c969a4",
        "colab": {
          "base_uri": "https://localhost:8080/",
          "height": 241
        }
      },
      "execution_count": 4,
      "outputs": [
        {
          "output_type": "error",
          "ename": "NameError",
          "evalue": "ignored",
          "traceback": [
            "\u001b[0;31m---------------------------------------------------------------------------\u001b[0m",
            "\u001b[0;31mNameError\u001b[0m                                 Traceback (most recent call last)",
            "\u001b[0;32m<ipython-input-4-663fdb86507a>\u001b[0m in \u001b[0;36m<module>\u001b[0;34m()\u001b[0m\n\u001b[0;32m----> 1\u001b[0;31m \u001b[0mprint\u001b[0m\u001b[0;34m(\u001b[0m\u001b[0mDescriptors\u001b[0m\u001b[0;34m.\u001b[0m\u001b[0mMolWt\u001b[0m\u001b[0;34m(\u001b[0m\u001b[0mmol_nH\u001b[0m\u001b[0;34m)\u001b[0m\u001b[0;34m)\u001b[0m\u001b[0;34m\u001b[0m\u001b[0;34m\u001b[0m\u001b[0m\n\u001b[0m\u001b[1;32m      2\u001b[0m \u001b[0mprint\u001b[0m\u001b[0;34m(\u001b[0m\u001b[0mDescriptors\u001b[0m\u001b[0;34m.\u001b[0m\u001b[0mMolWt\u001b[0m\u001b[0;34m(\u001b[0m\u001b[0mmol_H\u001b[0m\u001b[0;34m)\u001b[0m\u001b[0;34m)\u001b[0m\u001b[0;34m\u001b[0m\u001b[0;34m\u001b[0m\u001b[0m\n\u001b[1;32m      3\u001b[0m \u001b[0;34m\u001b[0m\u001b[0m\n\u001b[1;32m      4\u001b[0m \u001b[0mprint\u001b[0m\u001b[0;34m(\u001b[0m\u001b[0mDescriptors\u001b[0m\u001b[0;34m.\u001b[0m\u001b[0mExactMolWt\u001b[0m\u001b[0;34m(\u001b[0m\u001b[0mmol_nH\u001b[0m\u001b[0;34m)\u001b[0m\u001b[0;34m)\u001b[0m\u001b[0;34m\u001b[0m\u001b[0;34m\u001b[0m\u001b[0m\n\u001b[1;32m      5\u001b[0m \u001b[0mprint\u001b[0m\u001b[0;34m(\u001b[0m\u001b[0mDescriptors\u001b[0m\u001b[0;34m.\u001b[0m\u001b[0mExactMolWt\u001b[0m\u001b[0;34m(\u001b[0m\u001b[0mmol_H\u001b[0m\u001b[0;34m)\u001b[0m\u001b[0;34m)\u001b[0m\u001b[0;34m\u001b[0m\u001b[0;34m\u001b[0m\u001b[0m\n",
            "\u001b[0;31mNameError\u001b[0m: name 'mol_nH' is not defined"
          ]
        }
      ]
    },
    {
      "cell_type": "code",
      "source": [
        "print(rdMolDescriptors.CalcExactMolWt(mol_nH))\n",
        "print(rdMolDescriptors.CalcExactMolWt(mol_H))"
      ],
      "metadata": {
        "id": "KZXhR1YR0hA1",
        "outputId": "72ea0e81-e645-43b8-9c9c-4e01615da43f",
        "colab": {
          "base_uri": "https://localhost:8080/"
        }
      },
      "execution_count": null,
      "outputs": [
        {
          "output_type": "stream",
          "name": "stdout",
          "text": [
            "30.046950192\n",
            "30.046950191999997\n"
          ]
        }
      ]
    },
    {
      "cell_type": "code",
      "source": [
        "Descriptors.qed(mol_nH)\n",
        "\n",
        "# QED 얼마나 기존의 약과 유사한 물성을 가지는가 8가지의 특성\n",
        "# https://www.nature.com/articles/nchem.1243\n",
        "# 0 ~ 1 사이로 나타남, 0은 상당히 약과 다름... 1에 가까우면 기존의 알려진 약과 유사한 물성을 가짐"
      ],
      "metadata": {
        "id": "VqMh9MM50vRA",
        "outputId": "d3c574a2-4055-448c-ff3f-c43b28dfebd7",
        "colab": {
          "base_uri": "https://localhost:8080/"
        }
      },
      "execution_count": null,
      "outputs": [
        {
          "output_type": "execute_result",
          "data": {
            "text/plain": [
              "0.3727855551576051"
            ]
          },
          "metadata": {},
          "execution_count": 50
        }
      ]
    },
    {
      "cell_type": "code",
      "source": [
        "# 3차원 구조 생성"
      ],
      "metadata": {
        "id": "LoKhDs6f3al_"
      },
      "execution_count": null,
      "outputs": []
    },
    {
      "cell_type": "code",
      "source": [
        "import rdkit\n",
        "from rdkit import Chem\n",
        "from rdkit.Chem import Draw, AllChem"
      ],
      "metadata": {
        "id": "Y4eoSaO0MnBe"
      },
      "execution_count": 5,
      "outputs": []
    },
    {
      "cell_type": "code",
      "source": [
        "m = 'C1CCC1OC'\n",
        "m = Chem.MolFromSmiles(m)\n",
        "Draw.MolToImage(m, size=(100, 100))"
      ],
      "metadata": {
        "id": "ZmD0_ycn_aJe",
        "outputId": "784b9940-e566-4758-c532-6efc7c68f083",
        "colab": {
          "base_uri": "https://localhost:8080/",
          "height": 117
        }
      },
      "execution_count": 6,
      "outputs": [
        {
          "output_type": "execute_result",
          "data": {
            "text/plain": [
              "<PIL.PngImagePlugin.PngImageFile image mode=RGB size=100x100 at 0x7FE8F197FE90>"
            ],
            "image/png": "[encoded data removed]"
          },
          "metadata": {},
          "execution_count": 6
        }
      ]
    },
    {
      "cell_type": "code",
      "source": [
        "m_H = Chem.AddHs(m)\n",
        "AllChem.EmbedMolecule(m_H) # 매우 근사적인 구조\n",
        "\n",
        "Draw.MolToImage(m_H, size=(100, 100))"
      ],
      "metadata": {
        "id": "sMwwjnWtM6gw",
        "outputId": "27324db0-d2d0-4824-f123-c299637ef068",
        "colab": {
          "base_uri": "https://localhost:8080/",
          "height": 117
        }
      },
      "execution_count": 7,
      "outputs": [
        {
          "output_type": "execute_result",
          "data": {
            "text/plain": [
              "<PIL.PngImagePlugin.PngImageFile image mode=RGB size=100x100 at 0x7FE8F197F890>"
            ],
            "image/png": "[encoded data removed]"
          },
          "metadata": {},
          "execution_count": 7
        }
      ]
    },
    {
      "cell_type": "code",
      "source": [
        "# 좀 더 최적화 된 function (양자역학적 계산은 X)\n",
        "m_H = Chem.AddHs(m)\n",
        "AllChem.EmbedMolecule(m_H) # 매우 근사적인 구조\n",
        "AllChem.MMFFOptimizeMolecule(m_H)\n",
        "Draw.MolToImage(m_H, size=(100, 100))\n"
      ],
      "metadata": {
        "id": "cM9Rp9TpNK6I",
        "outputId": "33a17345-8e8b-4706-ba91-951315d71200",
        "colab": {
          "base_uri": "https://localhost:8080/",
          "height": 117
        }
      },
      "execution_count": 8,
      "outputs": [
        {
          "output_type": "execute_result",
          "data": {
            "text/plain": [
              "<PIL.PngImagePlugin.PngImageFile image mode=RGB size=100x100 at 0x7FE8F154CC50>"
            ],
            "image/png": "[encoded data removed]"
          },
          "metadata": {},
          "execution_count": 8
        }
      ]
    },
    {
      "cell_type": "code",
      "source": [
        "# 다양한 conformational isomer 형성하기\n",
        "\n",
        "m = 'C1CCC1OC'\n",
        "m = Chem.MolFromSmiles(m)\n",
        "Draw.MolToImage(m, size=(100, 100))"
      ],
      "metadata": {
        "id": "sylgFNNcN1-2",
        "outputId": "4c8c9eb2-a457-4bd8-af7c-a889685a4220",
        "colab": {
          "base_uri": "https://localhost:8080/",
          "height": 117
        }
      },
      "execution_count": 9,
      "outputs": [
        {
          "output_type": "execute_result",
          "data": {
            "text/plain": [
              "<PIL.PngImagePlugin.PngImageFile image mode=RGB size=100x100 at 0x7FE8F155A9D0>"
            ],
            "image/png": "[encoded data removed]"
          },
          "metadata": {},
          "execution_count": 9
        }
      ]
    },
    {
      "cell_type": "code",
      "source": [
        "m_H = Chem.AddHs(m)\n",
        "Draw.MolToImage(m_H)"
      ],
      "metadata": {
        "id": "RungBNboObdt",
        "outputId": "c8bce117-ee2d-495f-cd5c-cf9635234c08",
        "colab": {
          "base_uri": "https://localhost:8080/",
          "height": 317
        }
      },
      "execution_count": 10,
      "outputs": [
        {
          "output_type": "execute_result",
          "data": {
            "text/plain": [
              "<PIL.PngImagePlugin.PngImageFile image mode=RGB size=300x300 at 0x7FE8F155AB50>"
            ],
            "image/png": "[encoded data removed]"
          },
          "metadata": {},
          "execution_count": 10
        }
      ]
    },
    {
      "cell_type": "code",
      "source": [
        "AllChem.EmbedMultipleConfs(m_H, 10)"
      ],
      "metadata": {
        "id": "QcV8YKFOOhEj",
        "outputId": "a9b399fb-5232-425a-d1da-d2973b3fa358",
        "colab": {
          "base_uri": "https://localhost:8080/"
        }
      },
      "execution_count": 11,
      "outputs": [
        {
          "output_type": "execute_result",
          "data": {
            "text/plain": [
              "<rdkit.rdBase._vecti at 0x7fe8f1556f30>"
            ]
          },
          "metadata": {},
          "execution_count": 11
        }
      ]
    },
    {
      "cell_type": "code",
      "source": [
        "print(Chem.MolToMolBlock(m_H, confId=0))"
      ],
      "metadata": {
        "id": "NlyAhFqlPF19",
        "outputId": "0f41e3ae-ecd9-46d8-b331-543ba09d7089",
        "colab": {
          "base_uri": "https://localhost:8080/"
        }
      },
      "execution_count": 12,
      "outputs": [
        {
          "output_type": "stream",
          "name": "stdout",
          "text": [
            "\n",
            "     RDKit          3D\n",
            "\n",
            " 16 16  0  0  0  0  0  0  0  0999 V2000\n",
            "   -0.8468   -0.5165   -0.8571 C   0  0  0  0  0  0  0  0  0  0  0  0\n",
            "   -1.9491    0.0908    0.0173 C   0  0  0  0  0  0  0  0  0  0  0  0\n",
            "   -0.8667    1.0347    0.5557 C   0  0  0  0  0  0  0  0  0  0  0  0\n",
            "    0.1337   -0.0368    0.2219 C   0  0  0  0  0  0  0  0  0  0  0  0\n",
            "    1.3001    0.3501   -0.3643 O   0  0  0  0  0  0  0  0  0  0  0  0\n",
            "    2.3484   -0.2870    0.2983 C   0  0  0  0  0  0  0  0  0  0  0  0\n",
            "   -0.8317   -1.6207   -0.8591 H   0  0  0  0  0  0  0  0  0  0  0  0\n",
            "   -0.7202   -0.0077   -1.8166 H   0  0  0  0  0  0  0  0  0  0  0  0\n",
            "   -2.7510    0.5775   -0.5381 H   0  0  0  0  0  0  0  0  0  0  0  0\n",
            "   -2.2479   -0.6520    0.7914 H   0  0  0  0  0  0  0  0  0  0  0  0\n",
            "   -0.7718    1.9800    0.0101 H   0  0  0  0  0  0  0  0  0  0  0  0\n",
            "   -1.0497    1.1906    1.6379 H   0  0  0  0  0  0  0  0  0  0  0  0\n",
            "    0.2521   -0.7307    1.0478 H   0  0  0  0  0  0  0  0  0  0  0  0\n",
            "    3.3335    0.0023   -0.1515 H   0  0  0  0  0  0  0  0  0  0  0  0\n",
            "    2.4221    0.0235    1.3685 H   0  0  0  0  0  0  0  0  0  0  0  0\n",
            "    2.2450   -1.3981    0.2683 H   0  0  0  0  0  0  0  0  0  0  0  0\n",
            "  1  2  1  0\n",
            "  2  3  1  0\n",
            "  3  4  1  0\n",
            "  4  5  1  0\n",
            "  5  6  1  0\n",
            "  4  1  1  0\n",
            "  1  7  1  0\n",
            "  1  8  1  0\n",
            "  2  9  1  0\n",
            "  2 10  1  0\n",
            "  3 11  1  0\n",
            "  3 12  1  0\n",
            "  4 13  1  0\n",
            "  6 14  1  0\n",
            "  6 15  1  0\n",
            "  6 16  1  0\n",
            "M  END\n",
            "\n"
          ]
        }
      ]
    },
    {
      "cell_type": "code",
      "source": [
        "print(Chem.MolToMolBlock(m_H, confId=1))"
      ],
      "metadata": {
        "id": "_GghBAYoOwDU",
        "outputId": "84fbd981-68e2-4769-cbfe-2881c3310a1a",
        "colab": {
          "base_uri": "https://localhost:8080/"
        }
      },
      "execution_count": 13,
      "outputs": [
        {
          "output_type": "stream",
          "name": "stdout",
          "text": [
            "\n",
            "     RDKit          3D\n",
            "\n",
            " 16 16  0  0  0  0  0  0  0  0999 V2000\n",
            "   -0.8553    1.0728    0.1056 C   0  0  0  0  0  0  0  0  0  0  0  0\n",
            "   -1.9396    0.0222   -0.0778 C   0  0  0  0  0  0  0  0  0  0  0  0\n",
            "   -0.9793   -0.9357    0.6461 C   0  0  0  0  0  0  0  0  0  0  0  0\n",
            "    0.1411   -0.0718    0.1043 C   0  0  0  0  0  0  0  0  0  0  0  0\n",
            "    1.1618    0.1904    0.9979 O   0  0  0  0  0  0  0  0  0  0  0  0\n",
            "    2.4268   -0.0162    0.4689 C   0  0  0  0  0  0  0  0  0  0  0  0\n",
            "   -0.9385    1.5165    1.1343 H   0  0  0  0  0  0  0  0  0  0  0  0\n",
            "   -0.7535    1.7966   -0.7112 H   0  0  0  0  0  0  0  0  0  0  0  0\n",
            "   -2.8354    0.2825    0.5091 H   0  0  0  0  0  0  0  0  0  0  0  0\n",
            "   -2.0991   -0.2996   -1.1179 H   0  0  0  0  0  0  0  0  0  0  0  0\n",
            "   -1.1097   -0.8805    1.7457 H   0  0  0  0  0  0  0  0  0  0  0  0\n",
            "   -0.9963   -1.9549    0.2127 H   0  0  0  0  0  0  0  0  0  0  0  0\n",
            "    0.4351   -0.4065   -0.9014 H   0  0  0  0  0  0  0  0  0  0  0  0\n",
            "    3.1529    0.2267    1.2784 H   0  0  0  0  0  0  0  0  0  0  0  0\n",
            "    2.5532   -1.0999    0.2266 H   0  0  0  0  0  0  0  0  0  0  0  0\n",
            "    2.6359    0.5573   -0.4381 H   0  0  0  0  0  0  0  0  0  0  0  0\n",
            "  1  2  1  0\n",
            "  2  3  1  0\n",
            "  3  4  1  0\n",
            "  4  5  1  0\n",
            "  5  6  1  0\n",
            "  4  1  1  0\n",
            "  1  7  1  0\n",
            "  1  8  1  0\n",
            "  2  9  1  0\n",
            "  2 10  1  0\n",
            "  3 11  1  0\n",
            "  3 12  1  0\n",
            "  4 13  1  0\n",
            "  6 14  1  0\n",
            "  6 15  1  0\n",
            "  6 16  1  0\n",
            "M  END\n",
            "\n"
          ]
        }
      ]
    },
    {
      "cell_type": "code",
      "source": [
        "# conformational isomer 구조의 차이\n",
        "rmslist = []\n",
        "AllChem.AlignMolConformers(m_H, RMSlist=rmslist)\n",
        "\n",
        "rmslist"
      ],
      "metadata": {
        "id": "5dNT1dx7O1IN",
        "outputId": "6dbc9fc3-f827-4759-f8ac-58295c2151da",
        "colab": {
          "base_uri": "https://localhost:8080/"
        }
      },
      "execution_count": 14,
      "outputs": [
        {
          "output_type": "execute_result",
          "data": {
            "text/plain": [
              "[0.6692887585152989,\n",
              " 1.0081688745922002,\n",
              " 0.918542555598729,\n",
              " 1.2833498181215108,\n",
              " 1.1377799205521424,\n",
              " 1.3578283763324632,\n",
              " 1.5608728079042353,\n",
              " 1.2768911248534551,\n",
              " 1.2129135750883848]"
            ]
          },
          "metadata": {},
          "execution_count": 14
        }
      ]
    },
    {
      "cell_type": "code",
      "source": [
        "AllChem.GetConformerRMS(m_H, 0, 1)"
      ],
      "metadata": {
        "id": "e9wJQOqAQSCl",
        "outputId": "6fcb3ee1-ff86-448d-c663-a7a87effa2eb",
        "colab": {
          "base_uri": "https://localhost:8080/"
        }
      },
      "execution_count": 15,
      "outputs": [
        {
          "output_type": "execute_result",
          "data": {
            "text/plain": [
              "0.669288758515298"
            ]
          },
          "metadata": {},
          "execution_count": 15
        }
      ]
    },
    {
      "cell_type": "code",
      "source": [
        "# 분자 구조식 그리기"
      ],
      "metadata": {
        "id": "nyKdsF-_Qo31"
      },
      "execution_count": 16,
      "outputs": []
    },
    {
      "cell_type": "code",
      "source": [
        "!wget https://raw.githubusercontent.com/rdkit/rdkit/master/Docs/Book/data/cdk2.sdf"
      ],
      "metadata": {
        "id": "LObq6b1aRcfp",
        "outputId": "3e678b04-39ed-45f4-d333-b0d260f12c7e",
        "colab": {
          "base_uri": "https://localhost:8080/"
        }
      },
      "execution_count": 17,
      "outputs": [
        {
          "output_type": "stream",
          "name": "stdout",
          "text": [
            "--2022-08-10 11:46:48--  https://raw.githubusercontent.com/rdkit/rdkit/master/Docs/Book/data/cdk2.sdf\n",
            "Resolving raw.githubusercontent.com (raw.githubusercontent.com)... 185.199.108.133, 185.199.109.133, 185.199.110.133, ...\n",
            "Connecting to raw.githubusercontent.com (raw.githubusercontent.com)|185.199.108.133|:443... connected.\n",
            "HTTP request sent, awaiting response... 200 OK\n",
            "Length: 160134 (156K) [text/plain]\n",
            "Saving to: ‘cdk2.sdf’\n",
            "\n",
            "\rcdk2.sdf              0%[                    ]       0  --.-KB/s               \rcdk2.sdf            100%[===================>] 156.38K  --.-KB/s    in 0.003s  \n",
            "\n",
            "2022-08-10 11:46:49 (51.0 MB/s) - ‘cdk2.sdf’ saved [160134/160134]\n",
            "\n"
          ]
        }
      ]
    },
    {
      "cell_type": "code",
      "source": [
        "suppl = Chem.SDMolSupplier('cdk2.sdf')\n",
        "mols = [mol for mol in suppl if mol is not None]\n",
        "len(mols)\n",
        "\n",
        "for mol in mols:\n",
        "    AllChem.Compute2DCoords(mol)"
      ],
      "metadata": {
        "id": "iMjhTAKeRdy2"
      },
      "execution_count": 18,
      "outputs": []
    },
    {
      "cell_type": "code",
      "source": [
        "Draw.MolToFile(mols[0], 'test_mol_save.png')"
      ],
      "metadata": {
        "id": "LMcevdm8Rk5h"
      },
      "execution_count": 19,
      "outputs": []
    },
    {
      "cell_type": "code",
      "source": [
        "img = Draw.MolsToGridImage(mols[:8], molsPerRow=4, subImgSize=(200, 200),\n",
        "                           legends=[mol.GetProp(\"_Name\") for mol in mols[:8]], )"
      ],
      "metadata": {
        "id": "4xZIAOeNSEIV"
      },
      "execution_count": 20,
      "outputs": []
    },
    {
      "cell_type": "code",
      "source": [
        "img.save('a.png')"
      ],
      "metadata": {
        "id": "rOD-rvyzSyhh"
      },
      "execution_count": 21,
      "outputs": []
    },
    {
      "cell_type": "code",
      "source": [
        "# 공통된 구조를 이용하여 정렬하기\n",
        "\n",
        "p = Chem.MolFromSmiles('[nH]1cnc2cncnc21')\n",
        "AllChem.Compute2DCoords(p)\n",
        "\n",
        "Draw.MolToImage(p, size=(100, 100))"
      ],
      "metadata": {
        "id": "LOwhKUQ0Sy75",
        "outputId": "98b32861-0a8d-4f04-c4d4-3917a3558d0c",
        "colab": {
          "base_uri": "https://localhost:8080/",
          "height": 117
        }
      },
      "execution_count": 22,
      "outputs": [
        {
          "output_type": "execute_result",
          "data": {
            "text/plain": [
              "<PIL.PngImagePlugin.PngImageFile image mode=RGB size=100x100 at 0x7FE8F154CD90>"
            ],
            "image/png": "[encoded data removed]"
          },
          "metadata": {},
          "execution_count": 22
        }
      ]
    },
    {
      "cell_type": "code",
      "source": [
        "# 특정 core 구조를 가지는 분자만 선택\n",
        "\n",
        "subms = [mol for mol in mols if mol.HasSubstructMatch(p)]\n",
        "subms"
      ],
      "metadata": {
        "id": "7zRQ2g3PT1Q2",
        "outputId": "edb29c01-b26f-4893-9f74-36247fec9a69",
        "colab": {
          "base_uri": "https://localhost:8080/"
        }
      },
      "execution_count": 23,
      "outputs": [
        {
          "output_type": "execute_result",
          "data": {
            "text/plain": [
              "[<rdkit.Chem.rdchem.Mol at 0x7fe8f157cd00>,\n",
              " <rdkit.Chem.rdchem.Mol at 0x7fe8f1508d50>,\n",
              " <rdkit.Chem.rdchem.Mol at 0x7fe8f1508da0>,\n",
              " <rdkit.Chem.rdchem.Mol at 0x7fe8f1508df0>,\n",
              " <rdkit.Chem.rdchem.Mol at 0x7fe8f1508e40>,\n",
              " <rdkit.Chem.rdchem.Mol at 0x7fe8f1508e90>,\n",
              " <rdkit.Chem.rdchem.Mol at 0x7fe8f1508ee0>,\n",
              " <rdkit.Chem.rdchem.Mol at 0x7fe8f1508f30>,\n",
              " <rdkit.Chem.rdchem.Mol at 0x7fe8f1504620>,\n",
              " <rdkit.Chem.rdchem.Mol at 0x7fe8f1504670>,\n",
              " <rdkit.Chem.rdchem.Mol at 0x7fe8f1504800>,\n",
              " <rdkit.Chem.rdchem.Mol at 0x7fe8f1504850>,\n",
              " <rdkit.Chem.rdchem.Mol at 0x7fe8f15048a0>,\n",
              " <rdkit.Chem.rdchem.Mol at 0x7fe8f1504b20>]"
            ]
          },
          "metadata": {},
          "execution_count": 23
        }
      ]
    },
    {
      "cell_type": "code",
      "source": [
        "for mol in subms:\n",
        "    _ = AllChem.GenerateDepictionMatching2DStructure(mol, p)"
      ],
      "metadata": {
        "id": "FxuVCW9LUbNC"
      },
      "execution_count": 24,
      "outputs": []
    },
    {
      "cell_type": "code",
      "source": [
        "img = Draw.MolsToGridImage(subms, molsPerRow=4, subImgSize=(100, 100),\n",
        "                           legends=[mol.GetProp('_Name') for mol in subms])\n",
        "\n",
        "img"
      ],
      "metadata": {
        "id": "zGnILX8qVOi3",
        "outputId": "66c9e351-b32e-4fdb-b2ec-bdcd728d1f73",
        "colab": {
          "base_uri": "https://localhost:8080/",
          "height": 417
        }
      },
      "execution_count": 25,
      "outputs": [
        {
          "output_type": "execute_result",
          "data": {
            "text/plain": [
              "<PIL.PngImagePlugin.PngImageFile image mode=RGB size=400x400 at 0x7FE8FBA23310>"
            ],
            "image/png": "[encoded data removed]"
          },
          "metadata": {},
          "execution_count": 25
        }
      ]
    },
    {
      "cell_type": "code",
      "source": [
        "# 밑에 다르게 표기하고 싶을 때...\n",
        "\n",
        "for mol in subms:\n",
        "    logp = Chem.Descriptors.MolLogP(mol)\n",
        "    mol.SetProp(\"LogP\", f'logP : {logp:.3f}') # property 를 넣을 때에는 string 으로 넣어야 한다\n",
        "\n",
        "img = Chem.Draw.MolsToGridImage(subms, molsPerRow=4, subImgSize=(100, 100),\n",
        "                                legends=[mol.GetProp('LogP') for mol in subms])\n",
        "img"
      ],
      "metadata": {
        "id": "LIEbRCXtVhI_",
        "outputId": "b855491f-b738-437d-aa48-c0be26cb6883",
        "colab": {
          "base_uri": "https://localhost:8080/",
          "height": 417
        }
      },
      "execution_count": 29,
      "outputs": [
        {
          "output_type": "execute_result",
          "data": {
            "text/plain": [
              "<PIL.PngImagePlugin.PngImageFile image mode=RGB size=400x400 at 0x7FE8F0BA1210>"
            ],
            "image/png": "[encoded data removed]"
          },
          "metadata": {},
          "execution_count": 29
        }
      ]
    },
    {
      "cell_type": "code",
      "source": [
        "# 특정 구조에 highlight 주기\n",
        "\n",
        "smi = 'c1cc(F)ccc1Cl'\n",
        "mol = Chem.MolFromSmiles(smi)\n",
        "patt = Chem.MolFromSmarts('ClccccF')\n",
        "\n",
        "Chem.Draw.MolsToGridImage([mol, patt])"
      ],
      "metadata": {
        "id": "Q7Jp34XrlDP0",
        "outputId": "82490f34-ad3b-44a0-eb58-c8d1bc837d00",
        "colab": {
          "base_uri": "https://localhost:8080/",
          "height": 217
        }
      },
      "execution_count": 31,
      "outputs": [
        {
          "output_type": "execute_result",
          "data": {
            "text/plain": [
              "<PIL.PngImagePlugin.PngImageFile image mode=RGB size=600x200 at 0x7FE8E83AE090>"
            ],
            "image/png": "[encoded data removed]"
          },
          "metadata": {},
          "execution_count": 31
        }
      ]
    },
    {
      "cell_type": "code",
      "source": [
        "hit_ats = list(mol.GetSubstructMatch(patt))\n",
        "hit_ats"
      ],
      "metadata": {
        "id": "0gGQ_1-QmzX9",
        "outputId": "d0ad4752-564d-475c-848d-0344ae548a42",
        "colab": {
          "base_uri": "https://localhost:8080/"
        }
      },
      "execution_count": 32,
      "outputs": [
        {
          "output_type": "execute_result",
          "data": {
            "text/plain": [
              "[7, 6, 5, 4, 2, 3]"
            ]
          },
          "metadata": {},
          "execution_count": 32
        }
      ]
    },
    {
      "cell_type": "code",
      "source": [
        "# bond 를 찾는 법\n",
        "\n",
        "hit_bonds = []\n",
        "\n",
        "for bond in patt.GetBonds():\n",
        "    aid1 = hit_ats[bond.GetBeginAtomIdx()]\n",
        "    aid2 = hit_ats[bond.GetEndAtomIdx()]\n",
        "    hit_bonds.append(mol.GetBondBetweenAtoms(aid1, aid2).GetIdx())\n"
      ],
      "metadata": {
        "id": "FSlUVGm0nU5H"
      },
      "execution_count": 37,
      "outputs": []
    },
    {
      "cell_type": "code",
      "source": [
        "hit_bonds"
      ],
      "metadata": {
        "id": "7IE0Ybfanptc",
        "outputId": "ee607a56-c134-41ba-c7ca-87efb73f040b",
        "colab": {
          "base_uri": "https://localhost:8080/"
        }
      },
      "execution_count": 38,
      "outputs": [
        {
          "output_type": "execute_result",
          "data": {
            "text/plain": [
              "[6, 5, 4, 3, 2]"
            ]
          },
          "metadata": {},
          "execution_count": 38
        }
      ]
    },
    {
      "cell_type": "code",
      "source": [
        "Chem.Draw.MolToImage(mol, highlightAtoms=hit_ats, highlightBonds=hit_bonds)"
      ],
      "metadata": {
        "id": "a4leZ3N1nrXe",
        "outputId": "ac44255c-871a-4141-acca-10e6f38d2286",
        "colab": {
          "base_uri": "https://localhost:8080/",
          "height": 317
        }
      },
      "execution_count": 42,
      "outputs": [
        {
          "output_type": "execute_result",
          "data": {
            "text/plain": [
              "<PIL.PngImagePlugin.PngImageFile image mode=RGB size=300x300 at 0x7FE8E83C5750>"
            ],
            "image/png": "[encoded data removed]"
          },
          "metadata": {},
          "execution_count": 42
        }
      ]
    },
    {
      "cell_type": "code",
      "source": [
        "from rdkit.Chem.Draw import rdMolDraw2D\n",
        "\n",
        "d = rdMolDraw2D.MolDraw2DSVG(500, 500) # svg 로 저장하겠다\n",
        "rdMolDraw2D.PrepareAndDrawMolecule(d, mol, highlightAtoms=hit_ats, highlightBonds=hit_bonds)\n",
        "d.FinishDrawing()"
      ],
      "metadata": {
        "id": "89_PsucQozV_"
      },
      "execution_count": 44,
      "outputs": []
    },
    {
      "cell_type": "code",
      "source": [
        "d"
      ],
      "metadata": {
        "id": "AN1pXy3dpxi-",
        "outputId": "75ccc52f-be78-4867-85c0-e93d47ac604c",
        "colab": {
          "base_uri": "https://localhost:8080/"
        }
      },
      "execution_count": 45,
      "outputs": [
        {
          "output_type": "execute_result",
          "data": {
            "text/plain": [
              "<rdkit.Chem.Draw.rdMolDraw2D.MolDraw2DSVG at 0x7fe8e8310630>"
            ]
          },
          "metadata": {},
          "execution_count": 45
        }
      ]
    },
    {
      "cell_type": "code",
      "source": [
        "from IPython.display import SVG\n",
        "\n",
        "SVG(d.GetDrawingText())"
      ],
      "metadata": {
        "id": "2ejpkh-6p72e",
        "outputId": "30ba5598-a43a-4575-bc55-5bb4ee60d433",
        "colab": {
          "base_uri": "https://localhost:8080/",
          "height": 522
        }
      },
      "execution_count": 47,
      "outputs": [
        {
          "output_type": "execute_result",
          "data": {
            "text/plain": [
              "<IPython.core.display.SVG object>"
            ],
            "image/svg+xml": "<svg baseProfile=\"full\" height=\"500px\" version=\"1.1\" viewBox=\"0 0 500 500\" width=\"500px\" xml:space=\"preserve\" xmlns=\"http://www.w3.org/2000/svg\" xmlns:rdkit=\"http://www.rdkit.org/xml\" xmlns:xlink=\"http://www.w3.org/1999/xlink\">\n<!-- END OF HEADER -->\n<rect height=\"500.0\" style=\"opacity:1.0;fill:#FFFFFF;stroke:none\" width=\"500.0\" x=\"0.0\" y=\"0.0\"> </rect>\n<path class=\"bond-2 atom-2 atom-3\" d=\"M 132.0,250.0 L 31.2,250.0\" style=\"fill:none;fill-rule:evenodd;stroke:#FF7F7F;stroke-width:21.5px;stroke-linecap:butt;stroke-linejoin:miter;stroke-opacity:1\"/>\n<path class=\"bond-3 atom-2 atom-4\" d=\"M 132.0,250.0 L 182.3,162.7\" style=\"fill:none;fill-rule:evenodd;stroke:#FF7F7F;stroke-width:21.5px;stroke-linecap:butt;stroke-linejoin:miter;stroke-opacity:1\"/>\n<path class=\"bond-4 atom-4 atom-5\" d=\"M 182.3,162.7 L 283.1,162.7\" style=\"fill:none;fill-rule:evenodd;stroke:#FF7F7F;stroke-width:21.5px;stroke-linecap:butt;stroke-linejoin:miter;stroke-opacity:1\"/>\n<path class=\"bond-5 atom-5 atom-6\" d=\"M 283.1,162.7 L 333.5,250.0\" style=\"fill:none;fill-rule:evenodd;stroke:#FF7F7F;stroke-width:21.5px;stroke-linecap:butt;stroke-linejoin:miter;stroke-opacity:1\"/>\n<path class=\"bond-6 atom-6 atom-7\" d=\"M 333.5,250.0 L 434.3,250.0\" style=\"fill:none;fill-rule:evenodd;stroke:#FF7F7F;stroke-width:21.5px;stroke-linecap:butt;stroke-linejoin:miter;stroke-opacity:1\"/>\n<ellipse class=\"atom-2\" cx=\"132.0\" cy=\"250.0\" rx=\"20.2\" ry=\"20.2\" style=\"fill:#FF7F7F;fill-rule:evenodd;stroke:#FF7F7F;stroke-width:1.0px;stroke-linecap:butt;stroke-linejoin:miter;stroke-opacity:1\"/>\n<ellipse class=\"atom-3\" cx=\"31.2\" cy=\"250.0\" rx=\"20.2\" ry=\"20.2\" style=\"fill:#FF7F7F;fill-rule:evenodd;stroke:#FF7F7F;stroke-width:1.0px;stroke-linecap:butt;stroke-linejoin:miter;stroke-opacity:1\"/>\n<ellipse class=\"atom-4\" cx=\"182.3\" cy=\"162.7\" rx=\"20.2\" ry=\"20.2\" style=\"fill:#FF7F7F;fill-rule:evenodd;stroke:#FF7F7F;stroke-width:1.0px;stroke-linecap:butt;stroke-linejoin:miter;stroke-opacity:1\"/>\n<ellipse class=\"atom-5\" cx=\"283.1\" cy=\"162.7\" rx=\"20.2\" ry=\"20.2\" style=\"fill:#FF7F7F;fill-rule:evenodd;stroke:#FF7F7F;stroke-width:1.0px;stroke-linecap:butt;stroke-linejoin:miter;stroke-opacity:1\"/>\n<ellipse class=\"atom-6\" cx=\"333.5\" cy=\"250.0\" rx=\"20.2\" ry=\"20.2\" style=\"fill:#FF7F7F;fill-rule:evenodd;stroke:#FF7F7F;stroke-width:1.0px;stroke-linecap:butt;stroke-linejoin:miter;stroke-opacity:1\"/>\n<ellipse class=\"atom-7\" cx=\"436.9\" cy=\"250.2\" rx=\"20.2\" ry=\"21.7\" style=\"fill:#FF7F7F;fill-rule:evenodd;stroke:#FF7F7F;stroke-width:1.0px;stroke-linecap:butt;stroke-linejoin:miter;stroke-opacity:1\"/>\n<path class=\"bond-0 atom-0 atom-1\" d=\"M 283.1,337.3 L 182.3,337.3\" style=\"fill:none;fill-rule:evenodd;stroke:#000000;stroke-width:2.0px;stroke-linecap:butt;stroke-linejoin:miter;stroke-opacity:1\"/>\n<path class=\"bond-0 atom-0 atom-1\" d=\"M 268.0,317.1 L 197.5,317.1\" style=\"fill:none;fill-rule:evenodd;stroke:#000000;stroke-width:2.0px;stroke-linecap:butt;stroke-linejoin:miter;stroke-opacity:1\"/>\n<path class=\"bond-1 atom-1 atom-2\" d=\"M 182.3,337.3 L 132.0,250.0\" style=\"fill:none;fill-rule:evenodd;stroke:#000000;stroke-width:2.0px;stroke-linecap:butt;stroke-linejoin:miter;stroke-opacity:1\"/>\n<path class=\"bond-2 atom-2 atom-3\" d=\"M 132.0,250.0 L 87.4,250.0\" style=\"fill:none;fill-rule:evenodd;stroke:#000000;stroke-width:2.0px;stroke-linecap:butt;stroke-linejoin:miter;stroke-opacity:1\"/>\n<path class=\"bond-2 atom-2 atom-3\" d=\"M 87.4,250.0 L 42.9,250.0\" style=\"fill:none;fill-rule:evenodd;stroke:#33CCCC;stroke-width:2.0px;stroke-linecap:butt;stroke-linejoin:miter;stroke-opacity:1\"/>\n<path class=\"bond-3 atom-2 atom-4\" d=\"M 132.0,250.0 L 182.3,162.7\" style=\"fill:none;fill-rule:evenodd;stroke:#000000;stroke-width:2.0px;stroke-linecap:butt;stroke-linejoin:miter;stroke-opacity:1\"/>\n<path class=\"bond-3 atom-2 atom-4\" d=\"M 157.0,247.0 L 192.2,185.9\" style=\"fill:none;fill-rule:evenodd;stroke:#000000;stroke-width:2.0px;stroke-linecap:butt;stroke-linejoin:miter;stroke-opacity:1\"/>\n<path class=\"bond-4 atom-4 atom-5\" d=\"M 182.3,162.7 L 283.1,162.7\" style=\"fill:none;fill-rule:evenodd;stroke:#000000;stroke-width:2.0px;stroke-linecap:butt;stroke-linejoin:miter;stroke-opacity:1\"/>\n<path class=\"bond-5 atom-5 atom-6\" d=\"M 283.1,162.7 L 333.5,250.0\" style=\"fill:none;fill-rule:evenodd;stroke:#000000;stroke-width:2.0px;stroke-linecap:butt;stroke-linejoin:miter;stroke-opacity:1\"/>\n<path class=\"bond-5 atom-5 atom-6\" d=\"M 273.2,185.9 L 308.5,247.0\" style=\"fill:none;fill-rule:evenodd;stroke:#000000;stroke-width:2.0px;stroke-linecap:butt;stroke-linejoin:miter;stroke-opacity:1\"/>\n<path class=\"bond-6 atom-6 atom-7\" d=\"M 333.5,250.0 L 376.8,250.0\" style=\"fill:none;fill-rule:evenodd;stroke:#000000;stroke-width:2.0px;stroke-linecap:butt;stroke-linejoin:miter;stroke-opacity:1\"/>\n<path class=\"bond-6 atom-6 atom-7\" d=\"M 376.8,250.0 L 420.0,250.0\" style=\"fill:none;fill-rule:evenodd;stroke:#00CC00;stroke-width:2.0px;stroke-linecap:butt;stroke-linejoin:miter;stroke-opacity:1\"/>\n<path class=\"bond-7 atom-6 atom-0\" d=\"M 333.5,250.0 L 283.1,337.3\" style=\"fill:none;fill-rule:evenodd;stroke:#000000;stroke-width:2.0px;stroke-linecap:butt;stroke-linejoin:miter;stroke-opacity:1\"/>\n<path class=\"atom-3\" d=\"M 22.8 235.8 L 39.6 235.8 L 39.6 239.1 L 26.6 239.1 L 26.6 247.7 L 38.2 247.7 L 38.2 251.0 L 26.6 251.0 L 26.6 264.2 L 22.8 264.2 L 22.8 235.8 \" fill=\"#33CCCC\"/>\n<path class=\"atom-7\" d=\"M 423.4 251.0 Q 423.4 243.9, 426.6 240.3 Q 430.0 236.5, 436.2 236.5 Q 442.1 236.5, 445.2 240.7 L 442.6 242.8 Q 440.3 239.8, 436.2 239.8 Q 432.0 239.8, 429.7 242.7 Q 427.4 245.5, 427.4 251.0 Q 427.4 256.6, 429.8 259.5 Q 432.1 262.3, 436.7 262.3 Q 439.8 262.3, 443.4 260.5 L 444.6 263.5 Q 443.1 264.4, 440.8 265.0 Q 438.6 265.5, 436.1 265.5 Q 430.0 265.5, 426.6 261.8 Q 423.4 258.0, 423.4 251.0 \" fill=\"#00CC00\"/>\n<path class=\"atom-7\" d=\"M 446.8 234.8 L 450.5 234.8 L 450.5 265.2 L 446.8 265.2 L 446.8 234.8 \" fill=\"#00CC00\"/>\n</svg>"
          },
          "metadata": {},
          "execution_count": 47
        }
      ]
    },
    {
      "cell_type": "code",
      "source": [
        "# save\n",
        "with open('a.svg', 'w') as fp:\n",
        "    fp.write(d.GetDrawingText())"
      ],
      "metadata": {
        "id": "1qQdsAIlqM3r"
      },
      "execution_count": 48,
      "outputs": []
    },
    {
      "cell_type": "code",
      "source": [
        "# 원자 결합에 주석을 달기\n",
        "\n",
        "mol = Chem.MolFromSmiles('Cl[C@H](F)NC\\C=C\\C')\n",
        "Draw.MolToImage(mol, size=(100, 100))"
      ],
      "metadata": {
        "id": "HoTbBO8a5qCC",
        "outputId": "7c7dc8e9-aafb-4920-8a35-b27f04010645",
        "colab": {
          "base_uri": "https://localhost:8080/",
          "height": 117
        }
      },
      "execution_count": 50,
      "outputs": [
        {
          "output_type": "execute_result",
          "data": {
            "text/plain": [
              "<PIL.PngImagePlugin.PngImageFile image mode=RGB size=100x100 at 0x7FE8E8216F90>"
            ],
            "image/png": "[encoded data removed]"
          },
          "metadata": {},
          "execution_count": 50
        }
      ]
    },
    {
      "cell_type": "code",
      "source": [
        "d = Chem.Draw.rdMolDraw2D.MolDraw2DCairo(200, 200)\n",
        "mol.GetAtomWithIdx(2).SetProp('atomNote', 'foo')\n",
        "mol.GetAtomWithIdx(0).SetProp('atomNote', 'bar')\n",
        "d.drawOptions().addStereoAnnotation = True\n",
        "d.drawOptions().addAtomIndices = True\n",
        "d.DrawMolecule(mol)\n",
        "d.FinishDrawing()\n",
        "d.WriteDrawingText('b.png')"
      ],
      "metadata": {
        "id": "zhW4cVCj6EzE"
      },
      "execution_count": 57,
      "outputs": []
    },
    {
      "cell_type": "code",
      "source": [
        "# atom 에 label 하는 방법\n",
        "\n",
        "smi = 'c1nc(*)ccc1* |$;;;R1;;;;R2$|' # extened smiles grammer\n",
        "mol = Chem.MolFromSmiles(smi)\n",
        "\n",
        "Draw.MolToImage(mol, size=(100, 100))"
      ],
      "metadata": {
        "id": "MdQYemHF7ErC",
        "outputId": "2a1850cf-720f-424b-eb1c-dee9f38fb2d1",
        "colab": {
          "base_uri": "https://localhost:8080/",
          "height": 117
        }
      },
      "execution_count": 58,
      "outputs": [
        {
          "output_type": "execute_result",
          "data": {
            "text/plain": [
              "<PIL.PngImagePlugin.PngImageFile image mode=RGB size=100x100 at 0x7FE8E8216E90>"
            ],
            "image/png": "[encoded data removed]"
          },
          "metadata": {},
          "execution_count": 58
        }
      ]
    },
    {
      "cell_type": "code",
      "source": [
        "smi = 'c1nc(*)ccc1*' # extened smiles grammer\n",
        "mol = Chem.MolFromSmiles(smi)\n",
        "Draw.MolToImage(mol, size=(100, 100))"
      ],
      "metadata": {
        "id": "olrmj3pb7RW1",
        "outputId": "56a46ac7-59e1-4905-e37f-3e5fe2f2dc4c",
        "colab": {
          "base_uri": "https://localhost:8080/",
          "height": 117
        }
      },
      "execution_count": 60,
      "outputs": [
        {
          "output_type": "execute_result",
          "data": {
            "text/plain": [
              "<PIL.PngImagePlugin.PngImageFile image mode=RGB size=100x100 at 0x7FE8E824B8D0>"
            ],
            "image/png": "[encoded data removed]"
          },
          "metadata": {},
          "execution_count": 60
        }
      ]
    },
    {
      "cell_type": "code",
      "source": [
        "# atom 에 label 하는 방법\n",
        "\n",
        "smi = 'c1nc(*)ccc1* |$C0;;;R1;;;;R2$|' # extened smiles grammer\n",
        "mol = Chem.MolFromSmiles(smi)\n",
        "\n",
        "Draw.MolToImage(mol, size=(100, 100))"
      ],
      "metadata": {
        "id": "Zt4muJLT9XtA",
        "outputId": "497e996f-a0e7-4ed7-a4fc-867ba2048ee2",
        "colab": {
          "base_uri": "https://localhost:8080/",
          "height": 117
        }
      },
      "execution_count": 61,
      "outputs": [
        {
          "output_type": "execute_result",
          "data": {
            "text/plain": [
              "<PIL.PngImagePlugin.PngImageFile image mode=RGB size=100x100 at 0x7FE8E81D87D0>"
            ],
            "image/png": "[encoded data removed]"
          },
          "metadata": {},
          "execution_count": 61
        }
      ]
    },
    {
      "cell_type": "code",
      "source": [
        "# label method 2\n",
        "\n",
        "smi = 'c1nc(*)ccc1* |$;;;R1;;;;R2$|' # extened smiles grammer\n",
        "mol = Chem.MolFromSmiles(smi)\n",
        "\n",
        "mol.GetAtomWithIdx(2).SetProp('atomLabel', 'C1')\n",
        "mol.GetAtomWithIdx(4).SetProp('atomLabel', 'C2')\n",
        "\n",
        "Draw.MolToImage(mol, size=(100, 100))"
      ],
      "metadata": {
        "id": "NAuDvTyZ96dc",
        "outputId": "ef53aeb7-c07b-4a38-e791-5895c381faf3",
        "colab": {
          "base_uri": "https://localhost:8080/",
          "height": 117
        }
      },
      "execution_count": 63,
      "outputs": [
        {
          "output_type": "execute_result",
          "data": {
            "text/plain": [
              "<PIL.PngImagePlugin.PngImageFile image mode=RGB size=100x100 at 0x7FE8E824BC50>"
            ],
            "image/png": "[encoded data removed]"
          },
          "metadata": {},
          "execution_count": 63
        }
      ]
    },
    {
      "cell_type": "code",
      "source": [
        "d = Chem.Draw.rdMolDraw2D.MolDraw2DCairo(200, 200)\n",
        "d.DrawMolecule(mol)\n",
        "d.FinishDrawing()\n",
        "d.WriteDrawingText('c.png')"
      ],
      "metadata": {
        "id": "3hAxybbU-xlp"
      },
      "execution_count": 64,
      "outputs": []
    },
    {
      "cell_type": "code",
      "source": [
        "from IPython.display import Image\n",
        "Image(d.GetDrawingText())"
      ],
      "metadata": {
        "id": "S938VH6V_REg",
        "outputId": "ae65d0cd-d971-4509-ca6b-175369ee5cca",
        "colab": {
          "base_uri": "https://localhost:8080/",
          "height": 217
        }
      },
      "execution_count": 66,
      "outputs": [
        {
          "output_type": "execute_result",
          "data": {
            "text/plain": [
              "<IPython.core.display.Image object>"
            ],
            "image/png": "[encoded data removed]"
          },
          "metadata": {},
          "execution_count": 66
        }
      ]
    },
    {
      "cell_type": "code",
      "source": [
        "# Substructure searching\n",
        "\n",
        "m = Chem.MolFromSmiles('c1ccccc1O')\n",
        "Chem.Draw.MolToImage(m, size=(100, 100))"
      ],
      "metadata": {
        "id": "V4hfnkhp_aff",
        "outputId": "829c8920-0313-47e8-f3a2-e9f92222d2bc",
        "colab": {
          "base_uri": "https://localhost:8080/",
          "height": 117
        }
      },
      "execution_count": 67,
      "outputs": [
        {
          "output_type": "execute_result",
          "data": {
            "text/plain": [
              "<PIL.PngImagePlugin.PngImageFile image mode=RGB size=100x100 at 0x7FE8E824DF10>"
            ],
            "image/png": "[encoded data removed]"
          },
          "metadata": {},
          "execution_count": 67
        }
      ]
    },
    {
      "cell_type": "code",
      "source": [
        "patt = Chem.MolFromSmarts('ccO')"
      ],
      "metadata": {
        "id": "RGRKHsQD_71c"
      },
      "execution_count": 79,
      "outputs": []
    },
    {
      "cell_type": "code",
      "source": [
        "m.HasSubstructMatch(patt)"
      ],
      "metadata": {
        "id": "Xoo8CxzeAM2C",
        "outputId": "b41734e7-2bd6-45e1-abd5-02c5f6095fcf",
        "colab": {
          "base_uri": "https://localhost:8080/"
        }
      },
      "execution_count": 80,
      "outputs": [
        {
          "output_type": "execute_result",
          "data": {
            "text/plain": [
              "True"
            ]
          },
          "metadata": {},
          "execution_count": 80
        }
      ]
    },
    {
      "cell_type": "code",
      "source": [
        "m.GetSubstructMatch(patt)"
      ],
      "metadata": {
        "id": "Ejet7v08A7eD",
        "outputId": "526fe983-66a9-421f-9dab-0376b48c0fc1",
        "colab": {
          "base_uri": "https://localhost:8080/"
        }
      },
      "execution_count": 81,
      "outputs": [
        {
          "output_type": "execute_result",
          "data": {
            "text/plain": [
              "(0, 5, 6)"
            ]
          },
          "metadata": {},
          "execution_count": 81
        }
      ]
    },
    {
      "cell_type": "code",
      "source": [
        "# pattern 에 해당하는 atom 을 확인해보자\n",
        "\n",
        "for atom in m.GetAtoms():\n",
        "    i = atom.GetIdx()\n",
        "    atom.SetProp('atomNote', str(i))\n",
        "\n",
        "Chem.Draw.MolToImage(m, size=(100, 100))"
      ],
      "metadata": {
        "id": "sYGeEB5sA_Y0",
        "outputId": "46a42b24-5d38-4031-d7fc-d4c5b3881b93",
        "colab": {
          "base_uri": "https://localhost:8080/",
          "height": 117
        }
      },
      "execution_count": 82,
      "outputs": [
        {
          "output_type": "execute_result",
          "data": {
            "text/plain": [
              "<PIL.PngImagePlugin.PngImageFile image mode=RGB size=100x100 at 0x7FE8E81A8250>"
            ],
            "image/png": "[encoded data removed]"
          },
          "metadata": {},
          "execution_count": 82
        }
      ]
    },
    {
      "cell_type": "code",
      "source": [
        "hit_atoms = m.GetSubstructMatch(patt)\n",
        "\n",
        "Chem.Draw.MolToImage(m, size=(100, 100), highlightAtoms=hit_atoms)"
      ],
      "metadata": {
        "id": "dg4eBqCJBWL1",
        "outputId": "c33596e5-af77-4aca-f45e-f1e9a6e1328b",
        "colab": {
          "base_uri": "https://localhost:8080/",
          "height": 117
        }
      },
      "execution_count": 94,
      "outputs": [
        {
          "output_type": "execute_result",
          "data": {
            "text/plain": [
              "<PIL.PngImagePlugin.PngImageFile image mode=RGB size=100x100 at 0x7FE8E81A1710>"
            ],
            "image/png": "[encoded data removed]"
          },
          "metadata": {},
          "execution_count": 94
        }
      ]
    },
    {
      "cell_type": "code",
      "source": [
        "!wget https://github.com/rdkit/rdkit/raw/master/Docs/Book/data/actives_5ht3.sdf.gz"
      ],
      "metadata": {
        "id": "a9w0dbcKBq-g",
        "outputId": "00562e3c-1e9b-4f99-c4df-6e97dba2b043",
        "colab": {
          "base_uri": "https://localhost:8080/"
        }
      },
      "execution_count": 95,
      "outputs": [
        {
          "output_type": "stream",
          "name": "stdout",
          "text": [
            "--2022-08-10 13:59:02--  https://github.com/rdkit/rdkit/raw/master/Docs/Book/data/actives_5ht3.sdf.gz\n",
            "Resolving github.com (github.com)... 140.82.112.4\n",
            "Connecting to github.com (github.com)|140.82.112.4|:443... connected.\n",
            "HTTP request sent, awaiting response... 302 Found\n",
            "Location: https://raw.githubusercontent.com/rdkit/rdkit/master/Docs/Book/data/actives_5ht3.sdf.gz [following]\n",
            "--2022-08-10 13:59:03--  https://raw.githubusercontent.com/rdkit/rdkit/master/Docs/Book/data/actives_5ht3.sdf.gz\n",
            "Resolving raw.githubusercontent.com (raw.githubusercontent.com)... 185.199.108.133, 185.199.109.133, 185.199.110.133, ...\n",
            "Connecting to raw.githubusercontent.com (raw.githubusercontent.com)|185.199.108.133|:443... connected.\n",
            "HTTP request sent, awaiting response... 200 OK\n",
            "Length: 36077 (35K) [application/octet-stream]\n",
            "Saving to: ‘actives_5ht3.sdf.gz’\n",
            "\n",
            "actives_5ht3.sdf.gz 100%[===================>]  35.23K  --.-KB/s    in 0s      \n",
            "\n",
            "2022-08-10 13:59:03 (78.0 MB/s) - ‘actives_5ht3.sdf.gz’ saved [36077/36077]\n",
            "\n"
          ]
        }
      ]
    },
    {
      "cell_type": "code",
      "source": [
        "patt = Chem.MolFromSmarts('c[NH1]') # aromatic carbon 에 수소 하나 붙은 것\n",
        "matches = []\n",
        "\n",
        "# fp = Chem.SDMolSupplier('actives_5ht3.sdf')\n",
        "import gzip\n",
        "\n",
        "fp = gzip.open('actives_5ht3.sdf.gz')\n",
        "suppl = Chem.ForwardSDMolSupplier(fp)\n",
        "\n",
        "i = 0\n",
        "for mol in suppl:\n",
        "    i += 1\n",
        "    if mol.HasSubstructMatch(patt):\n",
        "        matches.append(mol)\n",
        "        \n",
        "\n",
        "print(i)\n",
        "print(len(matches))"
      ],
      "metadata": {
        "id": "6OSNx_b2BuJt",
        "outputId": "0e30e9fa-126a-4991-f954-ca250a4556ce",
        "colab": {
          "base_uri": "https://localhost:8080/"
        }
      },
      "execution_count": 101,
      "outputs": [
        {
          "output_type": "stream",
          "name": "stdout",
          "text": [
            "180\n",
            "22\n"
          ]
        }
      ]
    },
    {
      "cell_type": "code",
      "source": [
        "mol = Chem.MolFromSmiles('c1ccccc1OC')\n",
        "Chem.Draw.MolToImage(mol)"
      ],
      "metadata": {
        "id": "34v8EvdlDcRx",
        "outputId": "136b0840-8a77-4112-faea-ad9ab6579750",
        "colab": {
          "base_uri": "https://localhost:8080/",
          "height": 317
        }
      },
      "execution_count": 102,
      "outputs": [
        {
          "output_type": "execute_result",
          "data": {
            "text/plain": [
              "<PIL.PngImagePlugin.PngImageFile image mode=RGB size=300x300 at 0x7FE8E81B7C90>"
            ],
            "image/png": "[encoded data removed]"
          },
          "metadata": {},
          "execution_count": 102
        }
      ]
    },
    {
      "cell_type": "code",
      "source": [
        "mol.HasSubstructMatch(Chem.MolFromSmiles('COC'))"
      ],
      "metadata": {
        "id": "zbmXOP1mEQh8",
        "outputId": "a53d52d6-ccf9-42d5-d85a-2d6187dc5cee",
        "colab": {
          "base_uri": "https://localhost:8080/"
        }
      },
      "execution_count": 103,
      "outputs": [
        {
          "output_type": "execute_result",
          "data": {
            "text/plain": [
              "True"
            ]
          },
          "metadata": {},
          "execution_count": 103
        }
      ]
    },
    {
      "cell_type": "code",
      "source": [
        "mol.HasSubstructMatch(Chem.MolFromSmarts('COC'))"
      ],
      "metadata": {
        "id": "qJat8r1sE4bP",
        "outputId": "72cf3e8b-2c3e-4f48-fc0a-ae2729af78d3",
        "colab": {
          "base_uri": "https://localhost:8080/"
        }
      },
      "execution_count": 105,
      "outputs": [
        {
          "output_type": "execute_result",
          "data": {
            "text/plain": [
              "False"
            ]
          },
          "metadata": {},
          "execution_count": 105
        }
      ]
    },
    {
      "cell_type": "code",
      "source": [
        "mol.HasSubstructMatch(Chem.MolFromSmarts('cOC'))"
      ],
      "metadata": {
        "id": "gcxK77LRFsz6",
        "outputId": "ef8f513b-8757-4281-8f4c-95b60ea806ad",
        "colab": {
          "base_uri": "https://localhost:8080/"
        }
      },
      "execution_count": 106,
      "outputs": [
        {
          "output_type": "execute_result",
          "data": {
            "text/plain": [
              "True"
            ]
          },
          "metadata": {},
          "execution_count": 106
        }
      ]
    },
    {
      "cell_type": "code",
      "source": [
        "# 일반적으로 substructrue에서는 chiraity 를 고려하지 않는다\n",
        "\n",
        "m = Chem.MolFromSmiles()"
      ],
      "metadata": {
        "id": "hQ8JHz9WF0gp"
      },
      "execution_count": null,
      "outputs": []
    }
  ]
}