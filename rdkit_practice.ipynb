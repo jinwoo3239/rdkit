{
  "nbformat": 4,
  "nbformat_minor": 0,
  "metadata": {
    "colab": {
      "name": "rdkit_practice.ipynb",
      "provenance": [],
      "authorship_tag": "ABX9TyNveyD+9zfEqV/rogfUsAws",
      "include_colab_link": true
    },
    "kernelspec": {
      "name": "python3",
      "display_name": "Python 3"
    },
    "language_info": {
      "name": "python"
    }
  },
  "cells": [
    {
      "cell_type": "markdown",
      "metadata": {
        "id": "view-in-github",
        "colab_type": "text"
      },
      "source": [
        "<a href=\"https://colab.research.google.com/github/jinwoo3239/rdkit/blob/main/rdkit_practice.ipynb\" target=\"_parent\"><img src=\"https://colab.research.google.com/assets/colab-badge.svg\" alt=\"Open In Colab\"/></a>"
      ]
    },
    {
      "cell_type": "code",
      "execution_count": 2,
      "metadata": {
        "colab": {
          "base_uri": "https://localhost:8080/"
        },
        "id": "kXyHWmEXFbP3",
        "outputId": "262dccde-fd71-40c2-b643-b8875a062876"
      },
      "outputs": [
        {
          "output_type": "stream",
          "name": "stdout",
          "text": [
            "Looking in indexes: https://pypi.org/simple, https://us-python.pkg.dev/colab-wheels/public/simple/\n",
            "Collecting DeepChem\n",
            "  Downloading deepchem-2.6.1-py3-none-any.whl (608 kB)\n",
            "\u001b[K     |████████████████████████████████| 608 kB 8.6 MB/s \n",
            "\u001b[?25hRequirement already satisfied: numpy>=1.21 in /usr/local/lib/python3.7/dist-packages (from DeepChem) (1.21.6)\n",
            "Requirement already satisfied: scipy in /usr/local/lib/python3.7/dist-packages (from DeepChem) (1.7.3)\n",
            "Requirement already satisfied: scikit-learn in /usr/local/lib/python3.7/dist-packages (from DeepChem) (1.0.2)\n",
            "Requirement already satisfied: joblib in /usr/local/lib/python3.7/dist-packages (from DeepChem) (1.1.0)\n",
            "Requirement already satisfied: pandas in /usr/local/lib/python3.7/dist-packages (from DeepChem) (1.3.5)\n",
            "Collecting rdkit-pypi\n",
            "  Downloading rdkit_pypi-2022.3.4-cp37-cp37m-manylinux_2_17_x86_64.manylinux2014_x86_64.whl (22.7 MB)\n",
            "\u001b[K     |████████████████████████████████| 22.7 MB 64.9 MB/s \n",
            "\u001b[?25hRequirement already satisfied: python-dateutil>=2.7.3 in /usr/local/lib/python3.7/dist-packages (from pandas->DeepChem) (2.8.2)\n",
            "Requirement already satisfied: pytz>=2017.3 in /usr/local/lib/python3.7/dist-packages (from pandas->DeepChem) (2022.1)\n",
            "Requirement already satisfied: six>=1.5 in /usr/local/lib/python3.7/dist-packages (from python-dateutil>=2.7.3->pandas->DeepChem) (1.15.0)\n",
            "Requirement already satisfied: Pillow in /usr/local/lib/python3.7/dist-packages (from rdkit-pypi->DeepChem) (7.1.2)\n",
            "Requirement already satisfied: threadpoolctl>=2.0.0 in /usr/local/lib/python3.7/dist-packages (from scikit-learn->DeepChem) (3.1.0)\n",
            "Installing collected packages: rdkit-pypi, DeepChem\n",
            "Successfully installed DeepChem-2.6.1 rdkit-pypi-2022.3.4\n"
          ]
        }
      ],
      "source": [
        "!pip install DeepChem"
      ]
    },
    {
      "cell_type": "code",
      "source": [
        "import rdkit\n",
        "from rdkit import Chem\n",
        "from rdkit.Chem import Draw"
      ],
      "metadata": {
        "id": "guSg28gJwUeQ"
      },
      "execution_count": 4,
      "outputs": []
    },
    {
      "cell_type": "code",
      "source": [
        "rdkit.__version__"
      ],
      "metadata": {
        "id": "-p5TxKXvFcB-",
        "colab": {
          "base_uri": "https://localhost:8080/",
          "height": 36
        },
        "outputId": "83c1acdf-8f93-4582-e720-8801c2f01ad8"
      },
      "execution_count": 5,
      "outputs": [
        {
          "output_type": "execute_result",
          "data": {
            "text/plain": [
              "'2022.03.4'"
            ],
            "application/vnd.google.colaboratory.intrinsic+json": {
              "type": "string"
            }
          },
          "metadata": {},
          "execution_count": 5
        }
      ]
    },
    {
      "cell_type": "code",
      "source": [
        "m = Chem.MolFromSmiles('Cc1ccccc1')\n",
        "m"
      ],
      "metadata": {
        "colab": {
          "base_uri": "https://localhost:8080/"
        },
        "id": "ZQhn6pwVFnlq",
        "outputId": "6759905a-5b25-46d6-ce58-fbdd66eeab1f"
      },
      "execution_count": 6,
      "outputs": [
        {
          "output_type": "execute_result",
          "data": {
            "text/plain": [
              "<rdkit.Chem.rdchem.Mol at 0x7f2d1e7923f0>"
            ]
          },
          "metadata": {},
          "execution_count": 6
        }
      ]
    },
    {
      "cell_type": "code",
      "source": [
        "Chem.Draw.MolToImage(m, size=(150, 150))"
      ],
      "metadata": {
        "colab": {
          "base_uri": "https://localhost:8080/",
          "height": 167
        },
        "id": "CGRr3cpA6U-1",
        "outputId": "680df47d-2f9a-4fc6-b509-519a6e2ca436"
      },
      "execution_count": 34,
      "outputs": [
        {
          "output_type": "execute_result",
          "data": {
            "text/plain": [
              "<PIL.PngImagePlugin.PngImageFile image mode=RGB size=150x150 at 0x7F2D1E59CBD0>"
            ],
            "image/png": "[encoded data removed]"
          },
          "metadata": {},
          "execution_count": 34
        }
      ]
    },
    {
      "cell_type": "code",
      "source": [
        "print(Chem.MolToSmiles(m)) # Caconical form\n",
        "print(Chem.MolToSmiles(m, kekuleSmiles=True)) # Kekular form"
      ],
      "metadata": {
        "colab": {
          "base_uri": "https://localhost:8080/"
        },
        "id": "yjFYj4NK6VHu",
        "outputId": "aacd11de-a0f7-4a57-dfc3-7632199c2684"
      },
      "execution_count": 39,
      "outputs": [
        {
          "output_type": "stream",
          "name": "stdout",
          "text": [
            "Cc1cccc2[nH]ccc12\n",
            "CC1=CC=CC2=C1C=CN2\n"
          ]
        }
      ]
    },
    {
      "cell_type": "code",
      "source": [
        "!wget https://raw.githubusercontent.com/rdkit/rdkit/master/Docs/Book/data/input.mol"
      ],
      "metadata": {
        "colab": {
          "base_uri": "https://localhost:8080/"
        },
        "id": "8c0psRBaI_q-",
        "outputId": "44484490-5cf1-47e0-c2b2-b60c8c5b216a"
      },
      "execution_count": 19,
      "outputs": [
        {
          "output_type": "stream",
          "name": "stdout",
          "text": [
            "--2022-08-07 01:01:33--  https://raw.githubusercontent.com/rdkit/rdkit/master/Docs/Book/data/input.mol\n",
            "Resolving raw.githubusercontent.com (raw.githubusercontent.com)... 185.199.108.133, 185.199.109.133, 185.199.110.133, ...\n",
            "Connecting to raw.githubusercontent.com (raw.githubusercontent.com)|185.199.108.133|:443... connected.\n",
            "HTTP request sent, awaiting response... 200 OK\n",
            "Length: 1024 (1.0K) [text/plain]\n",
            "Saving to: ‘input.mol’\n",
            "\n",
            "\rinput.mol             0%[                    ]       0  --.-KB/s               \rinput.mol           100%[===================>]   1.00K  --.-KB/s    in 0s      \n",
            "\n",
            "2022-08-07 01:01:34 (63.8 MB/s) - ‘input.mol’ saved [1024/1024]\n",
            "\n"
          ]
        }
      ]
    },
    {
      "cell_type": "code",
      "source": [
        "m = Chem.MolFromMolFile('input.mol')\n",
        "m\n",
        "Chem.Draw.MolToImage(m, size=(100, 100))"
      ],
      "metadata": {
        "colab": {
          "base_uri": "https://localhost:8080/",
          "height": 117
        },
        "id": "4lIqBP6LJQqK",
        "outputId": "4f7318a7-0bae-428b-d485-364d85f69ecd"
      },
      "execution_count": 21,
      "outputs": [
        {
          "output_type": "execute_result",
          "data": {
            "text/plain": [
              "<PIL.PngImagePlugin.PngImageFile image mode=RGB size=100x100 at 0x7F2D1E689B50>"
            ],
            "image/png": "[encoded data removed]"
          },
          "metadata": {},
          "execution_count": 21
        }
      ]
    },
    {
      "cell_type": "code",
      "source": [
        "type(m)"
      ],
      "metadata": {
        "colab": {
          "base_uri": "https://localhost:8080/"
        },
        "id": "ze4IiuAEFukM",
        "outputId": "344fb32f-0fbd-4545-9e00-b08ecb68eddd"
      },
      "execution_count": 22,
      "outputs": [
        {
          "output_type": "execute_result",
          "data": {
            "text/plain": [
              "rdkit.Chem.rdchem.Mol"
            ]
          },
          "metadata": {},
          "execution_count": 22
        }
      ]
    },
    {
      "cell_type": "code",
      "source": [
        "!wget https://raw.githubusercontent.com/rdkit/rdkit/master/Docs/Book/data/5ht3ligs.sdf"
      ],
      "metadata": {
        "colab": {
          "base_uri": "https://localhost:8080/"
        },
        "id": "G2000ftBGRSy",
        "outputId": "72dce98e-b356-4926-d5a6-0954f8c60b23"
      },
      "execution_count": 23,
      "outputs": [
        {
          "output_type": "stream",
          "name": "stdout",
          "text": [
            "--2022-08-07 01:10:16--  https://raw.githubusercontent.com/rdkit/rdkit/master/Docs/Book/data/5ht3ligs.sdf\n",
            "Resolving raw.githubusercontent.com (raw.githubusercontent.com)... 185.199.110.133, 185.199.109.133, 185.199.108.133, ...\n",
            "Connecting to raw.githubusercontent.com (raw.githubusercontent.com)|185.199.110.133|:443... connected.\n",
            "HTTP request sent, awaiting response... 200 OK\n",
            "Length: 9578 (9.4K) [text/plain]\n",
            "Saving to: ‘5ht3ligs.sdf’\n",
            "\n",
            "\r5ht3ligs.sdf          0%[                    ]       0  --.-KB/s               \r5ht3ligs.sdf        100%[===================>]   9.35K  --.-KB/s    in 0s      \n",
            "\n",
            "2022-08-07 01:10:16 (68.5 MB/s) - ‘5ht3ligs.sdf’ saved [9578/9578]\n",
            "\n"
          ]
        }
      ]
    },
    {
      "cell_type": "code",
      "source": [
        "# $$$$ 로 끊어져서 있음\n",
        "# sdf 파일은 여러개의 분자 표현식"
      ],
      "metadata": {
        "id": "QwYhbgvR3DME"
      },
      "execution_count": 24,
      "outputs": []
    },
    {
      "cell_type": "code",
      "source": [
        "suppl = Chem.SDMolSupplier('5ht3ligs.sdf')\n",
        "\n",
        "mols = []\n",
        "for mol in suppl:\n",
        "    mols.append(mol)\n",
        "    print(mol.GetNumAtoms())"
      ],
      "metadata": {
        "colab": {
          "base_uri": "https://localhost:8080/"
        },
        "id": "rIiakYl5GZgT",
        "outputId": "9e7dba47-b416-4e36-a160-1ec432c932d0"
      },
      "execution_count": 25,
      "outputs": [
        {
          "output_type": "stream",
          "name": "stdout",
          "text": [
            "20\n",
            "24\n",
            "24\n",
            "26\n"
          ]
        }
      ]
    },
    {
      "cell_type": "code",
      "source": [
        "# 3차원 구조를 2차원 구조로 표현하다가 보니까, 링이 찌그러져 있는 것 처럼 보인다\n",
        "Chem.Draw.MolsToGridImage(mols, molsPerRow=4)"
      ],
      "metadata": {
        "colab": {
          "base_uri": "https://localhost:8080/",
          "height": 217
        },
        "id": "tmseS0cGHfIt",
        "outputId": "0084c7f6-e907-467a-9f82-b27766b3f36b"
      },
      "execution_count": 28,
      "outputs": [
        {
          "output_type": "execute_result",
          "data": {
            "text/plain": [
              "<PIL.PngImagePlugin.PngImageFile image mode=RGB size=800x200 at 0x7F2D1E6891D0>"
            ],
            "image/png": "[encoded data removed]"
          },
          "metadata": {},
          "execution_count": 28
        }
      ]
    },
    {
      "cell_type": "code",
      "source": [
        "# Caconical smiles 로 내보니기로 해준다."
      ],
      "metadata": {
        "id": "u9jrtjqR69of"
      },
      "execution_count": null,
      "outputs": []
    },
    {
      "cell_type": "code",
      "source": [
        "Chem.MolToSmiles(Chem.MolFromSmiles('C1=CC=CN=C1'))"
      ],
      "metadata": {
        "colab": {
          "base_uri": "https://localhost:8080/",
          "height": 36
        },
        "id": "7V6QN5nj5ZGH",
        "outputId": "11639f16-d4e7-4163-c381-e51833220b52"
      },
      "execution_count": 36,
      "outputs": [
        {
          "output_type": "execute_result",
          "data": {
            "text/plain": [
              "'c1ccncc1'"
            ],
            "application/vnd.google.colaboratory.intrinsic+json": {
              "type": "string"
            }
          },
          "metadata": {},
          "execution_count": 36
        }
      ]
    },
    {
      "cell_type": "code",
      "source": [
        "Chem.MolToSmiles(Chem.MolFromSmiles('c1cccnc1'))"
      ],
      "metadata": {
        "colab": {
          "base_uri": "https://localhost:8080/",
          "height": 36
        },
        "id": "qv1uLhmb625K",
        "outputId": "f83e3b2f-2456-4ff2-fa05-3fff000230a4"
      },
      "execution_count": 37,
      "outputs": [
        {
          "output_type": "execute_result",
          "data": {
            "text/plain": [
              "'c1ccncc1'"
            ],
            "application/vnd.google.colaboratory.intrinsic+json": {
              "type": "string"
            }
          },
          "metadata": {},
          "execution_count": 37
        }
      ]
    },
    {
      "cell_type": "code",
      "source": [
        "Chem.MolToSmiles(Chem.MolFromSmiles('c1cccnc1'))"
      ],
      "metadata": {
        "colab": {
          "base_uri": "https://localhost:8080/",
          "height": 36
        },
        "id": "8QeforQ366c9",
        "outputId": "fd097c33-cd26-4b59-9d22-92ff5f6d0721"
      },
      "execution_count": 38,
      "outputs": [
        {
          "output_type": "execute_result",
          "data": {
            "text/plain": [
              "'c1ccncc1'"
            ],
            "application/vnd.google.colaboratory.intrinsic+json": {
              "type": "string"
            }
          },
          "metadata": {},
          "execution_count": 38
        }
      ]
    },
    {
      "cell_type": "code",
      "source": [
        "Chem.MolToMolFile(m, \"test.mol\")"
      ],
      "metadata": {
        "id": "hzszYF_Q68ip"
      },
      "execution_count": 40,
      "outputs": []
    },
    {
      "cell_type": "code",
      "source": [
        "m_test = Chem.MolFromMolFile('test.mol')\n",
        "Chem.Draw.MolToImage(m_test, size=(100, 100))"
      ],
      "metadata": {
        "colab": {
          "base_uri": "https://localhost:8080/",
          "height": 117
        },
        "id": "R4D905CW8ePn",
        "outputId": "9a19dd5f-c374-4756-9e71-4958b260d4b8"
      },
      "execution_count": 41,
      "outputs": [
        {
          "output_type": "execute_result",
          "data": {
            "text/plain": [
              "<PIL.PngImagePlugin.PngImageFile image mode=RGB size=100x100 at 0x7F2D25E7F210>"
            ],
            "image/png": "[encoded data removed]"
          },
          "metadata": {},
          "execution_count": 41
        }
      ]
    },
    {
      "cell_type": "code",
      "source": [
        "m_test.SetProp(\"_Name\", 'test_name')\n",
        "print(Chem.MolToMolBlock(m_test))"
      ],
      "metadata": {
        "colab": {
          "base_uri": "https://localhost:8080/"
        },
        "id": "W93zef4V8u27",
        "outputId": "5ed2e3da-33aa-4603-f602-33e23e1a1140"
      },
      "execution_count": 44,
      "outputs": [
        {
          "output_type": "stream",
          "name": "stdout",
          "text": [
            "test_name\n",
            "     RDKit          2D\n",
            "\n",
            " 10 11  0  0  0  0  0  0  0  0999 V2000\n",
            "   -3.2411   -0.5303    0.0000 C   0  0  0  0  0  0  0  0  0  0  0  0\n",
            "   -3.9555   -0.9428    0.0000 C   0  0  0  0  0  0  0  0  0  0  0  0\n",
            "   -3.9555   -1.7679    0.0000 C   0  0  0  0  0  0  0  0  0  0  0  0\n",
            "   -3.2411   -2.1804    0.0000 C   0  0  0  0  0  0  0  0  0  0  0  0\n",
            "   -2.5266   -1.7679    0.0000 C   0  0  0  0  0  0  0  0  0  0  0  0\n",
            "   -2.5266   -0.9428    0.0000 C   0  0  0  0  0  0  0  0  0  0  0  0\n",
            "   -1.8122   -2.1803    0.0000 N   0  0  0  0  0  0  0  0  0  0  0  0\n",
            "   -1.0977   -0.9428    0.0000 C   0  0  0  0  0  0  0  0  0  0  0  0\n",
            "   -1.0977   -1.7678    0.0000 C   0  0  0  0  0  0  0  0  0  0  0  0\n",
            "   -3.2411    0.2947    0.0000 C   0  0  0  0  0  0  0  0  0  0  0  0\n",
            "  1  2  2  0\n",
            "  1  6  1  0\n",
            "  2  3  1  0\n",
            "  3  4  2  0\n",
            "  4  5  1  0\n",
            "  6  8  1  0\n",
            "  5  6  2  0\n",
            "  7  5  1  0\n",
            "  7  9  1  0\n",
            "  8  9  2  0\n",
            "  1 10  1  0\n",
            "M  END\n",
            "\n"
          ]
        }
      ]
    },
    {
      "cell_type": "code",
      "source": [
        "# 분자에 문제가 있으면 none 을 return\n",
        "import gzip\n",
        "\n",
        "fp = gzip.open('actives_5ht3.sdf.gz')\n",
        "suppl = Chem.ForwardSDMolSupplier(fp)\n",
        "\n",
        "mols = [mol for mol in suppl if mol is not None]\n",
        "len(mols)"
      ],
      "metadata": {
        "colab": {
          "base_uri": "https://localhost:8080/"
        },
        "id": "Bi-Jf-KK9qZN",
        "outputId": "dd1ec591-7fbe-4b19-b02b-d51eb02471e0"
      },
      "execution_count": 45,
      "outputs": [
        {
          "output_type": "execute_result",
          "data": {
            "text/plain": [
              "180"
            ]
          },
          "metadata": {},
          "execution_count": 45
        }
      ]
    },
    {
      "cell_type": "code",
      "source": [
        "mols[0]"
      ],
      "metadata": {
        "colab": {
          "base_uri": "https://localhost:8080/"
        },
        "id": "mRJCZWyFBG9e",
        "outputId": "4c8d92ad-822b-4395-f4bc-70c7ec3f2e77"
      },
      "execution_count": 46,
      "outputs": [
        {
          "output_type": "execute_result",
          "data": {
            "text/plain": [
              "<rdkit.Chem.rdchem.Mol at 0x7f2d1e5f6cb0>"
            ]
          },
          "metadata": {},
          "execution_count": 46
        }
      ]
    },
    {
      "cell_type": "code",
      "source": [
        "Chem.Draw.MolToImage(mols[0], size=(150, 150))"
      ],
      "metadata": {
        "colab": {
          "base_uri": "https://localhost:8080/",
          "height": 167
        },
        "id": "K70lbYufBkIZ",
        "outputId": "2a51ea40-2999-4d3a-eec0-36f9d900a6aa"
      },
      "execution_count": 47,
      "outputs": [
        {
          "output_type": "execute_result",
          "data": {
            "text/plain": [
              "<PIL.PngImagePlugin.PngImageFile image mode=RGB size=150x150 at 0x7F2D1E576FD0>"
            ],
            "image/png": "[encoded data removed]"
          },
          "metadata": {},
          "execution_count": 47
        }
      ]
    },
    {
      "cell_type": "code",
      "source": [
        "# file 로 저장하기\n",
        "with Chem.SDWriter('test_mols.sdf') as fout:\n",
        "    for mol in mols:\n",
        "        fout.write(mol)"
      ],
      "metadata": {
        "id": "j3xAeQmHBp9w"
      },
      "execution_count": 48,
      "outputs": []
    },
    {
      "cell_type": "code",
      "source": [
        "# 이 분자들은 수소가 보통 없음...\n",
        "test_suppl = Chem.SDMolSupplier('test_mols.sdf')\n",
        "\n",
        "# Chem.Draw.MolsToGridImage(test_suppl, molsPerRow=4, )"
      ],
      "metadata": {
        "id": "9y53Gb6WChOu"
      },
      "execution_count": 52,
      "outputs": []
    },
    {
      "cell_type": "code",
      "source": [
        "# 수소를 붙여보기\n",
        "\n",
        "# Chem.AddHs function 을 이용함.. 이때 새로운 분자를 return\n",
        "\n",
        "m1 = test_suppl[0]"
      ],
      "metadata": {
        "id": "lJPQbL9aC7qv"
      },
      "execution_count": 54,
      "outputs": []
    },
    {
      "cell_type": "code",
      "source": [
        "Chem.AddHs(m1)"
      ],
      "metadata": {
        "colab": {
          "base_uri": "https://localhost:8080/"
        },
        "id": "p_MfGNeoDyaF",
        "outputId": "68e91842-6100-4ba5-e710-fc7b6c09a4ac"
      },
      "execution_count": 55,
      "outputs": [
        {
          "output_type": "execute_result",
          "data": {
            "text/plain": [
              "<rdkit.Chem.rdchem.Mol at 0x7f2d1e568990>"
            ]
          },
          "metadata": {},
          "execution_count": 55
        }
      ]
    },
    {
      "cell_type": "code",
      "source": [
        "Chem.Draw.MolToImage(Chem.AddHs(m1), size=(150, 150))\n",
        "# 단순히 수소를 붙이면, 수소의 좌표가 입력이 되지 않는다"
      ],
      "metadata": {
        "colab": {
          "base_uri": "https://localhost:8080/",
          "height": 167
        },
        "id": "W7HMGPbNEVRZ",
        "outputId": "5a10a9ae-4dd0-4a61-ffb8-8f25c8867c8f"
      },
      "execution_count": 60,
      "outputs": [
        {
          "output_type": "execute_result",
          "data": {
            "text/plain": [
              "<PIL.PngImagePlugin.PngImageFile image mode=RGB size=150x150 at 0x7F2D1E587950>"
            ],
            "image/png": "[encoded data removed]"
          },
          "metadata": {},
          "execution_count": 60
        }
      ]
    },
    {
      "cell_type": "code",
      "source": [
        "print(Chem.MolToMolBlock(m1))"
      ],
      "metadata": {
        "colab": {
          "base_uri": "https://localhost:8080/"
        },
        "id": "axhTUDnbD6RA",
        "outputId": "ca852290-9998-455c-a30b-65e0e728e3ea"
      },
      "execution_count": 56,
      "outputs": [
        {
          "output_type": "stream",
          "name": "stdout",
          "text": [
            "tpls\\mol-1.tpl\n",
            "     RDKit          3D\n",
            "\n",
            " 20 22  0  0  0  0  0  0  0  0999 V2000\n",
            "    1.1200   -0.6200   -1.0800 C   0  0  2  0  0  0  0  0  0  0  0  0\n",
            "    1.5400    0.8200   -1.0600 N   0  0  0  0  0  0  0  0  0  0  0  0\n",
            "   -0.4200   -0.6400   -1.3200 C   0  0  0  0  0  0  0  0  0  0  0  0\n",
            "    1.5600   -1.1800    0.3000 C   0  0  0  0  0  0  0  0  0  0  0  0\n",
            "    1.1400    1.2200    0.3200 C   0  0  2  0  0  0  0  0  0  0  0  0\n",
            "    2.9600    1.0600   -1.3800 C   0  0  0  0  0  0  0  0  0  0  0  0\n",
            "   -1.2400    0.2400   -0.3000 C   0  0  2  0  0  0  0  0  0  0  0  0\n",
            "    1.5600    0.0600    1.2400 C   0  0  0  0  0  0  0  0  0  0  0  0\n",
            "   -0.4200    1.4600    0.2600 C   0  0  0  0  0  0  0  0  0  0  0  0\n",
            "   -1.7800   -0.5600    0.7600 N   0  0  0  0  0  0  0  0  0  0  0  0\n",
            "   -2.6400   -0.1600    1.7400 C   0  0  0  0  0  0  0  0  0  0  0  0\n",
            "   -3.0600   -1.0400    2.6800 N   0  0  0  0  0  0  0  0  0  0  0  0\n",
            "   -3.0200    1.0000    1.7600 O   0  0  0  0  0  0  0  0  0  0  0  0\n",
            "   -3.9400   -0.9400    3.7800 C   0  0  0  0  0  0  0  0  0  0  0  0\n",
            "   -4.2000   -2.0200    4.6000 C   0  0  0  0  0  0  0  0  0  0  0  0\n",
            "   -4.7400    0.5200    4.2000 S   0  0  0  0  0  0  0  0  0  0  0  0\n",
            "   -5.1000   -1.6400    5.6200 C   0  0  0  0  0  0  0  0  0  0  0  0\n",
            "   -3.7000   -3.1800    4.4200 O   0  0  0  0  0  0  0  0  0  0  0  0\n",
            "   -5.4600   -0.3200    5.5200 C   0  0  0  0  0  0  0  0  0  0  0  0\n",
            "   -3.7800   -4.3600    5.0400 C   0  0  0  0  0  0  0  0  0  0  0  0\n",
            "  1  2  1  0\n",
            "  1  3  1  1\n",
            "  1  4  1  0\n",
            "  2  5  1  0\n",
            "  2  6  1  0\n",
            "  3  7  1  0\n",
            "  4  8  1  0\n",
            "  5  9  1  6\n",
            "  7 10  1  1\n",
            " 10 11  1  0\n",
            " 11 12  1  0\n",
            " 11 13  2  0\n",
            " 12 14  1  0\n",
            " 14 15  2  0\n",
            " 14 16  1  0\n",
            " 15 17  1  0\n",
            " 15 18  1  0\n",
            " 16 19  1  0\n",
            " 18 20  1  0\n",
            "  5  8  1  0\n",
            "  7  9  1  0\n",
            " 17 19  2  0\n",
            "M  END\n",
            "\n"
          ]
        }
      ]
    },
    {
      "cell_type": "code",
      "source": [
        "# 수소의 좌표가 존재하지 않음\n",
        "\n",
        "m2 = Chem.AddHs(m1)\n",
        "print(Chem.MolToMolBlock(m2))"
      ],
      "metadata": {
        "colab": {
          "base_uri": "https://localhost:8080/"
        },
        "id": "mUNT04EuEIMy",
        "outputId": "71731c3d-548b-42bc-f2c6-ba90f966555c"
      },
      "execution_count": 61,
      "outputs": [
        {
          "output_type": "stream",
          "name": "stdout",
          "text": [
            "tpls\\mol-1.tpl\n",
            "     RDKit          3D\n",
            "\n",
            " 41 43  0  0  0  0  0  0  0  0999 V2000\n",
            "    1.1200   -0.6200   -1.0800 C   0  0  1  0  0  0  0  0  0  0  0  0\n",
            "    1.5400    0.8200   -1.0600 N   0  0  0  0  0  0  0  0  0  0  0  0\n",
            "   -0.4200   -0.6400   -1.3200 C   0  0  0  0  0  0  0  0  0  0  0  0\n",
            "    1.5600   -1.1800    0.3000 C   0  0  0  0  0  0  0  0  0  0  0  0\n",
            "    1.1400    1.2200    0.3200 C   0  0  1  0  0  0  0  0  0  0  0  0\n",
            "    2.9600    1.0600   -1.3800 C   0  0  0  0  0  0  0  0  0  0  0  0\n",
            "   -1.2400    0.2400   -0.3000 C   0  0  1  0  0  0  0  0  0  0  0  0\n",
            "    1.5600    0.0600    1.2400 C   0  0  0  0  0  0  0  0  0  0  0  0\n",
            "   -0.4200    1.4600    0.2600 C   0  0  0  0  0  0  0  0  0  0  0  0\n",
            "   -1.7800   -0.5600    0.7600 N   0  0  0  0  0  0  0  0  0  0  0  0\n",
            "   -2.6400   -0.1600    1.7400 C   0  0  0  0  0  0  0  0  0  0  0  0\n",
            "   -3.0600   -1.0400    2.6800 N   0  0  0  0  0  0  0  0  0  0  0  0\n",
            "   -3.0200    1.0000    1.7600 O   0  0  0  0  0  0  0  0  0  0  0  0\n",
            "   -3.9400   -0.9400    3.7800 C   0  0  0  0  0  0  0  0  0  0  0  0\n",
            "   -4.2000   -2.0200    4.6000 C   0  0  0  0  0  0  0  0  0  0  0  0\n",
            "   -4.7400    0.5200    4.2000 S   0  0  0  0  0  0  0  0  0  0  0  0\n",
            "   -5.1000   -1.6400    5.6200 C   0  0  0  0  0  0  0  0  0  0  0  0\n",
            "   -3.7000   -3.1800    4.4200 O   0  0  0  0  0  0  0  0  0  0  0  0\n",
            "   -5.4600   -0.3200    5.5200 C   0  0  0  0  0  0  0  0  0  0  0  0\n",
            "   -3.7800   -4.3600    5.0400 C   0  0  0  0  0  0  0  0  0  0  0  0\n",
            "    0.0000    0.0000    0.0000 H   0  0  0  0  0  0  0  0  0  0  0  0\n",
            "    0.0000    0.0000    0.0000 H   0  0  0  0  0  0  0  0  0  0  0  0\n",
            "    0.0000    0.0000    0.0000 H   0  0  0  0  0  0  0  0  0  0  0  0\n",
            "    0.0000    0.0000    0.0000 H   0  0  0  0  0  0  0  0  0  0  0  0\n",
            "    0.0000    0.0000    0.0000 H   0  0  0  0  0  0  0  0  0  0  0  0\n",
            "    0.0000    0.0000    0.0000 H   0  0  0  0  0  0  0  0  0  0  0  0\n",
            "    0.0000    0.0000    0.0000 H   0  0  0  0  0  0  0  0  0  0  0  0\n",
            "    0.0000    0.0000    0.0000 H   0  0  0  0  0  0  0  0  0  0  0  0\n",
            "    0.0000    0.0000    0.0000 H   0  0  0  0  0  0  0  0  0  0  0  0\n",
            "    0.0000    0.0000    0.0000 H   0  0  0  0  0  0  0  0  0  0  0  0\n",
            "    0.0000    0.0000    0.0000 H   0  0  0  0  0  0  0  0  0  0  0  0\n",
            "    0.0000    0.0000    0.0000 H   0  0  0  0  0  0  0  0  0  0  0  0\n",
            "    0.0000    0.0000    0.0000 H   0  0  0  0  0  0  0  0  0  0  0  0\n",
            "    0.0000    0.0000    0.0000 H   0  0  0  0  0  0  0  0  0  0  0  0\n",
            "    0.0000    0.0000    0.0000 H   0  0  0  0  0  0  0  0  0  0  0  0\n",
            "    0.0000    0.0000    0.0000 H   0  0  0  0  0  0  0  0  0  0  0  0\n",
            "    0.0000    0.0000    0.0000 H   0  0  0  0  0  0  0  0  0  0  0  0\n",
            "    0.0000    0.0000    0.0000 H   0  0  0  0  0  0  0  0  0  0  0  0\n",
            "    0.0000    0.0000    0.0000 H   0  0  0  0  0  0  0  0  0  0  0  0\n",
            "    0.0000    0.0000    0.0000 H   0  0  0  0  0  0  0  0  0  0  0  0\n",
            "    0.0000    0.0000    0.0000 H   0  0  0  0  0  0  0  0  0  0  0  0\n",
            "  1  2  1  0\n",
            "  1  3  1  0\n",
            "  1  4  1  0\n",
            "  2  5  1  0\n",
            "  2  6  1  0\n",
            "  3  7  1  0\n",
            "  4  8  1  0\n",
            "  5  9  1  0\n",
            "  7 10  1  0\n",
            " 10 11  1  0\n",
            " 11 12  1  0\n",
            " 11 13  2  0\n",
            " 12 14  1  0\n",
            " 14 15  2  0\n",
            " 14 16  1  0\n",
            " 15 17  1  0\n",
            " 15 18  1  0\n",
            " 16 19  1  0\n",
            " 18 20  1  0\n",
            "  5  8  1  0\n",
            "  7  9  1  0\n",
            " 17 19  2  0\n",
            "  1 21  1  6\n",
            "  3 22  1  0\n",
            "  3 23  1  0\n",
            "  4 24  1  0\n",
            "  4 25  1  0\n",
            "  5 26  1  1\n",
            "  6 27  1  0\n",
            "  6 28  1  0\n",
            "  6 29  1  0\n",
            "  7 30  1  6\n",
            "  8 31  1  0\n",
            "  8 32  1  0\n",
            "  9 33  1  0\n",
            "  9 34  1  0\n",
            " 10 35  1  0\n",
            " 12 36  1  0\n",
            " 17 37  1  0\n",
            " 19 38  1  0\n",
            " 20 39  1  0\n",
            " 20 40  1  0\n",
            " 20 41  1  0\n",
            "M  END\n",
            "\n"
          ]
        }
      ]
    },
    {
      "cell_type": "code",
      "source": [
        "# 수소를 지울 때에는 Chem.RemoveHs..\n",
        "\n",
        "m3 = Chem.RemoveHs(m2)\n",
        "Chem.Draw.MolToImage(m3, size=(150, 150))"
      ],
      "metadata": {
        "colab": {
          "base_uri": "https://localhost:8080/",
          "height": 167
        },
        "id": "yg3hguPsEstK",
        "outputId": "981ed9b7-ed9e-461f-b9f0-c41f2bb06ce3"
      },
      "execution_count": 62,
      "outputs": [
        {
          "output_type": "execute_result",
          "data": {
            "text/plain": [
              "<PIL.PngImagePlugin.PngImageFile image mode=RGB size=150x150 at 0x7F2D1CD3E450>"
            ],
            "image/png": "[encoded data removed]"
          },
          "metadata": {},
          "execution_count": 62
        }
      ]
    },
    {
      "cell_type": "code",
      "source": [
        "print(Chem.MolToMolBlock(m3))"
      ],
      "metadata": {
        "colab": {
          "base_uri": "https://localhost:8080/"
        },
        "id": "AFtuXugjFkfJ",
        "outputId": "b88b2683-7065-4c25-c9db-008bf342b81a"
      },
      "execution_count": 63,
      "outputs": [
        {
          "output_type": "stream",
          "name": "stdout",
          "text": [
            "tpls\\mol-1.tpl\n",
            "     RDKit          3D\n",
            "\n",
            " 20 22  0  0  0  0  0  0  0  0999 V2000\n",
            "    1.1200   -0.6200   -1.0800 C   0  0  2  0  0  0  0  0  0  0  0  0\n",
            "    1.5400    0.8200   -1.0600 N   0  0  0  0  0  0  0  0  0  0  0  0\n",
            "   -0.4200   -0.6400   -1.3200 C   0  0  0  0  0  0  0  0  0  0  0  0\n",
            "    1.5600   -1.1800    0.3000 C   0  0  0  0  0  0  0  0  0  0  0  0\n",
            "    1.1400    1.2200    0.3200 C   0  0  2  0  0  0  0  0  0  0  0  0\n",
            "    2.9600    1.0600   -1.3800 C   0  0  0  0  0  0  0  0  0  0  0  0\n",
            "   -1.2400    0.2400   -0.3000 C   0  0  2  0  0  0  0  0  0  0  0  0\n",
            "    1.5600    0.0600    1.2400 C   0  0  0  0  0  0  0  0  0  0  0  0\n",
            "   -0.4200    1.4600    0.2600 C   0  0  0  0  0  0  0  0  0  0  0  0\n",
            "   -1.7800   -0.5600    0.7600 N   0  0  0  0  0  0  0  0  0  0  0  0\n",
            "   -2.6400   -0.1600    1.7400 C   0  0  0  0  0  0  0  0  0  0  0  0\n",
            "   -3.0600   -1.0400    2.6800 N   0  0  0  0  0  0  0  0  0  0  0  0\n",
            "   -3.0200    1.0000    1.7600 O   0  0  0  0  0  0  0  0  0  0  0  0\n",
            "   -3.9400   -0.9400    3.7800 C   0  0  0  0  0  0  0  0  0  0  0  0\n",
            "   -4.2000   -2.0200    4.6000 C   0  0  0  0  0  0  0  0  0  0  0  0\n",
            "   -4.7400    0.5200    4.2000 S   0  0  0  0  0  0  0  0  0  0  0  0\n",
            "   -5.1000   -1.6400    5.6200 C   0  0  0  0  0  0  0  0  0  0  0  0\n",
            "   -3.7000   -3.1800    4.4200 O   0  0  0  0  0  0  0  0  0  0  0  0\n",
            "   -5.4600   -0.3200    5.5200 C   0  0  0  0  0  0  0  0  0  0  0  0\n",
            "   -3.7800   -4.3600    5.0400 C   0  0  0  0  0  0  0  0  0  0  0  0\n",
            "  1  2  1  0\n",
            "  1  3  1  1\n",
            "  1  4  1  0\n",
            "  2  5  1  0\n",
            "  2  6  1  0\n",
            "  3  7  1  0\n",
            "  4  8  1  0\n",
            "  5  9  1  6\n",
            "  7 10  1  1\n",
            " 10 11  1  0\n",
            " 11 12  1  0\n",
            " 11 13  2  0\n",
            " 12 14  1  0\n",
            " 14 15  2  0\n",
            " 14 16  1  0\n",
            " 15 17  1  0\n",
            " 15 18  1  0\n",
            " 16 19  1  0\n",
            " 18 20  1  0\n",
            "  5  8  1  0\n",
            "  7  9  1  0\n",
            " 17 19  2  0\n",
            "M  END\n",
            "\n"
          ]
        }
      ]
    },
    {
      "cell_type": "code",
      "source": [
        "# 분자의 3차원 구조 만들기\n",
        "# 분자의 3차원 crystal 구조를 만드는 것은 매우 어려움\n",
        "# 아주 정확한 3차원 구조를 얻기 위해서는 양자 계산 및 전역 최적화 (Global optimization)\n",
        "# 회전 가능한 bond 의 수가 많은 수록 기하 급수적으로 늘어나게 됨...\n",
        "# 3차원 구조를 만들어주는 알고리즘은, 어느 정도의 가정하고 만들게 됨... (정확하지 않음)\n",
        "\n",
        "# RDkit 에서는 ETKDG\n",
        "# AllChem.EmbedMolecule\n",
        "# 입력 받은 변수를 inplace 변화를 일으킴\n"
      ],
      "metadata": {
        "id": "nM3D17wcFsF4"
      },
      "execution_count": null,
      "outputs": []
    },
    {
      "cell_type": "code",
      "source": [
        "from rdkit.Chem import AllChem\n",
        "\n",
        "Chem.Draw.MolToImage(m2, size=(150, 150))"
      ],
      "metadata": {
        "colab": {
          "base_uri": "https://localhost:8080/",
          "height": 167
        },
        "id": "wGZvqG4rHLUd",
        "outputId": "e8cfc7d7-2da8-4b34-b917-ce101c926a86"
      },
      "execution_count": 64,
      "outputs": [
        {
          "output_type": "execute_result",
          "data": {
            "text/plain": [
              "<PIL.PngImagePlugin.PngImageFile image mode=RGB size=150x150 at 0x7F2D1E576110>"
            ],
            "image/png": "[encoded data removed]"
          },
          "metadata": {},
          "execution_count": 64
        }
      ]
    },
    {
      "cell_type": "code",
      "source": [
        "AllChem.EmbedMolecule(m2) # error 가 생성되지 않으면 0 이 return "
      ],
      "metadata": {
        "colab": {
          "base_uri": "https://localhost:8080/"
        },
        "id": "Kf6N7JKfHXvp",
        "outputId": "4a925016-b792-414f-8959-ab66a80ecaed"
      },
      "execution_count": 65,
      "outputs": [
        {
          "output_type": "execute_result",
          "data": {
            "text/plain": [
              "0"
            ]
          },
          "metadata": {},
          "execution_count": 65
        }
      ]
    },
    {
      "cell_type": "code",
      "source": [
        "Chem.Draw.MolToImage(m2, size=(150, 150))"
      ],
      "metadata": {
        "colab": {
          "base_uri": "https://localhost:8080/",
          "height": 167
        },
        "id": "o71EdZ5DHcVF",
        "outputId": "bb8ef994-4dc9-4347-cf7a-f041c52a4825"
      },
      "execution_count": 66,
      "outputs": [
        {
          "output_type": "execute_result",
          "data": {
            "text/plain": [
              "<PIL.PngImagePlugin.PngImageFile image mode=RGB size=150x150 at 0x7F2D1CD44890>"
            ],
            "image/png": "[encoded data removed]"
          },
          "metadata": {},
          "execution_count": 66
        }
      ]
    },
    {
      "cell_type": "code",
      "source": [
        "print(Chem.MolToMolBlock(m2))"
      ],
      "metadata": {
        "colab": {
          "base_uri": "https://localhost:8080/"
        },
        "id": "qlZJMZ8-HfPQ",
        "outputId": "de218c48-46b7-4d69-e9ad-cfe6c53252d6"
      },
      "execution_count": 67,
      "outputs": [
        {
          "output_type": "stream",
          "name": "stdout",
          "text": [
            "tpls\\mol-1.tpl\n",
            "     RDKit          3D\n",
            "\n",
            " 41 43  0  0  0  0  0  0  0  0999 V2000\n",
            "   -3.2477    0.0333   -1.6341 C   0  0  2  0  0  0  0  0  0  0  0  0\n",
            "   -3.5614   -0.6266   -0.3905 N   0  0  0  0  0  0  0  0  0  0  0  0\n",
            "   -1.7722    0.3722   -1.6891 C   0  0  0  0  0  0  0  0  0  0  0  0\n",
            "   -4.0795    1.2988   -1.5942 C   0  0  0  0  0  0  0  0  0  0  0  0\n",
            "   -3.4943    0.4722    0.5551 C   0  0  2  0  0  0  0  0  0  0  0  0\n",
            "   -4.8329   -1.2725   -0.3870 C   0  0  0  0  0  0  0  0  0  0  0  0\n",
            "   -1.1730    0.1250   -0.3443 C   0  0  2  0  0  0  0  0  0  0  0  0\n",
            "   -4.2942    1.5383   -0.1205 C   0  0  0  0  0  0  0  0  0  0  0  0\n",
            "   -2.0248    0.8488    0.6808 C   0  0  0  0  0  0  0  0  0  0  0  0\n",
            "    0.1789    0.5563   -0.2038 N   0  0  0  0  0  0  0  0  0  0  0  0\n",
            "    1.2636   -0.2823    0.1786 C   0  0  0  0  0  0  0  0  0  0  0  0\n",
            "    2.5871    0.1608    0.3115 N   0  0  0  0  0  0  0  0  0  0  0  0\n",
            "    1.0007   -1.4856    0.4059 O   0  0  0  0  0  0  0  0  0  0  0  0\n",
            "    3.6165   -0.7554    0.7016 C   0  0  0  0  0  0  0  0  0  0  0  0\n",
            "    4.9458   -0.5173    0.8822 C   0  0  0  0  0  0  0  0  0  0  0  0\n",
            "    3.4703   -2.4146    1.0528 S   0  0  0  0  0  0  0  0  0  0  0  0\n",
            "    5.7180   -1.5529    1.2540 C   0  0  0  0  0  0  0  0  0  0  0  0\n",
            "    5.4687    0.7839    0.6789 O   0  0  0  0  0  0  0  0  0  0  0  0\n",
            "    5.1003   -2.7646    1.4203 C   0  0  0  0  0  0  0  0  0  0  0  0\n",
            "    6.8140    1.1058    0.8433 C   0  0  0  0  0  0  0  0  0  0  0  0\n",
            "   -3.5706   -0.6101   -2.4587 H   0  0  0  0  0  0  0  0  0  0  0  0\n",
            "   -1.3364   -0.2566   -2.4911 H   0  0  0  0  0  0  0  0  0  0  0  0\n",
            "   -1.6878    1.4456   -1.9344 H   0  0  0  0  0  0  0  0  0  0  0  0\n",
            "   -3.5235    2.1425   -2.0634 H   0  0  0  0  0  0  0  0  0  0  0  0\n",
            "   -5.0160    1.1342   -2.1464 H   0  0  0  0  0  0  0  0  0  0  0  0\n",
            "   -3.8744    0.1977    1.5528 H   0  0  0  0  0  0  0  0  0  0  0  0\n",
            "   -5.5584   -0.6321    0.1548 H   0  0  0  0  0  0  0  0  0  0  0  0\n",
            "   -5.2513   -1.4543   -1.3958 H   0  0  0  0  0  0  0  0  0  0  0  0\n",
            "   -4.7687   -2.2183    0.2112 H   0  0  0  0  0  0  0  0  0  0  0  0\n",
            "   -1.2612   -0.9574   -0.1130 H   0  0  0  0  0  0  0  0  0  0  0  0\n",
            "   -5.3631    1.3982    0.1290 H   0  0  0  0  0  0  0  0  0  0  0  0\n",
            "   -3.9727    2.5652    0.1448 H   0  0  0  0  0  0  0  0  0  0  0  0\n",
            "   -1.6412    0.7196    1.7026 H   0  0  0  0  0  0  0  0  0  0  0  0\n",
            "   -1.9731    1.9425    0.4401 H   0  0  0  0  0  0  0  0  0  0  0  0\n",
            "    0.4047    1.5582   -0.3919 H   0  0  0  0  0  0  0  0  0  0  0  0\n",
            "    2.8348    1.1535    0.1296 H   0  0  0  0  0  0  0  0  0  0  0  0\n",
            "    6.8180   -1.4959    1.4353 H   0  0  0  0  0  0  0  0  0  0  0  0\n",
            "    5.5740   -3.7193    1.7209 H   0  0  0  0  0  0  0  0  0  0  0  0\n",
            "    7.2056    0.4961    1.7028 H   0  0  0  0  0  0  0  0  0  0  0  0\n",
            "    7.3781    0.9360   -0.0799 H   0  0  0  0  0  0  0  0  0  0  0  0\n",
            "    6.8993    2.1618    1.1491 H   0  0  0  0  0  0  0  0  0  0  0  0\n",
            "  1  2  1  0\n",
            "  1  3  1  0\n",
            "  1  4  1  0\n",
            "  2  5  1  0\n",
            "  2  6  1  0\n",
            "  3  7  1  0\n",
            "  4  8  1  0\n",
            "  5  9  1  0\n",
            "  7 10  1  0\n",
            " 10 11  1  0\n",
            " 11 12  1  0\n",
            " 11 13  2  0\n",
            " 12 14  1  0\n",
            " 14 15  2  0\n",
            " 14 16  1  0\n",
            " 15 17  1  0\n",
            " 15 18  1  0\n",
            " 16 19  1  0\n",
            " 18 20  1  0\n",
            "  5  8  1  0\n",
            "  7  9  1  0\n",
            " 17 19  2  0\n",
            "  1 21  1  6\n",
            "  3 22  1  0\n",
            "  3 23  1  0\n",
            "  4 24  1  0\n",
            "  4 25  1  0\n",
            "  5 26  1  1\n",
            "  6 27  1  0\n",
            "  6 28  1  0\n",
            "  6 29  1  0\n",
            "  7 30  1  1\n",
            "  8 31  1  0\n",
            "  8 32  1  0\n",
            "  9 33  1  0\n",
            "  9 34  1  0\n",
            " 10 35  1  0\n",
            " 12 36  1  0\n",
            " 17 37  1  0\n",
            " 19 38  1  0\n",
            " 20 39  1  0\n",
            " 20 40  1  0\n",
            " 20 41  1  0\n",
            "M  END\n",
            "\n"
          ]
        }
      ]
    },
    {
      "cell_type": "code",
      "source": [
        "m = Chem.MolFromSmiles('c1ccccc1')\n",
        "\n",
        "Chem.Draw.MolToImage(m, size=(150, 150))"
      ],
      "metadata": {
        "colab": {
          "base_uri": "https://localhost:8080/",
          "height": 167
        },
        "id": "VyuqNqYuHvTt",
        "outputId": "34ae076f-cc25-4704-b62c-3f5de71d56dc"
      },
      "execution_count": 68,
      "outputs": [
        {
          "output_type": "execute_result",
          "data": {
            "text/plain": [
              "<PIL.PngImagePlugin.PngImageFile image mode=RGB size=150x150 at 0x7F2D1A216910>"
            ],
            "image/png": "[encoded data removed]"
          },
          "metadata": {},
          "execution_count": 68
        }
      ]
    },
    {
      "cell_type": "code",
      "source": [
        "m_H = Chem.AddHs(m)\n",
        "Chem.Draw.MolToImage(m_H, size=(150, 150))"
      ],
      "metadata": {
        "colab": {
          "base_uri": "https://localhost:8080/",
          "height": 167
        },
        "id": "D05gjsTZIFPp",
        "outputId": "49065467-8a3e-4798-8215-d37ef0070dad"
      },
      "execution_count": 70,
      "outputs": [
        {
          "output_type": "execute_result",
          "data": {
            "text/plain": [
              "<PIL.PngImagePlugin.PngImageFile image mode=RGB size=150x150 at 0x7F2D1A201550>"
            ],
            "image/png": "[encoded data removed]"
          },
          "metadata": {},
          "execution_count": 70
        }
      ]
    },
    {
      "cell_type": "code",
      "source": [
        "AllChem.EmbedMolecule(m_H)\n",
        "Chem.Draw.MolToImage(m_H, size=(150, 150))"
      ],
      "metadata": {
        "colab": {
          "base_uri": "https://localhost:8080/",
          "height": 167
        },
        "id": "JIUhfuVpISza",
        "outputId": "3b67713e-3197-46c1-890a-129df1716793"
      },
      "execution_count": 72,
      "outputs": [
        {
          "output_type": "execute_result",
          "data": {
            "text/plain": [
              "<PIL.PngImagePlugin.PngImageFile image mode=RGB size=150x150 at 0x7F2D1ADD7FD0>"
            ],
            "image/png": "[encoded data removed]"
          },
          "metadata": {},
          "execution_count": 72
        }
      ]
    },
    {
      "cell_type": "code",
      "source": [
        "# Fingerprint using RDKits\n",
        "\n",
        "from rdkit import DataStructs\n",
        "\n",
        "ms = [Chem.MolFromSmiles('CCOC'), Chem.MolFromSmiles('CCO'), Chem.MolFromSmiles('COC')]\n",
        "\n",
        "fps = [Chem.RDKFingerprint(mol) for mol in ms]"
      ],
      "metadata": {
        "id": "gExRF3DxIdJN"
      },
      "execution_count": 73,
      "outputs": []
    },
    {
      "cell_type": "code",
      "source": [
        "fps"
      ],
      "metadata": {
        "colab": {
          "base_uri": "https://localhost:8080/"
        },
        "id": "4eUuR8HUOiTj",
        "outputId": "cca3222f-fbca-435c-a5a5-0fa0c7cff3a8"
      },
      "execution_count": 74,
      "outputs": [
        {
          "output_type": "execute_result",
          "data": {
            "text/plain": [
              "[<rdkit.DataStructs.cDataStructs.ExplicitBitVect at 0x7f2d1a21c3f0>,\n",
              " <rdkit.DataStructs.cDataStructs.ExplicitBitVect at 0x7f2d1cd0f6c0>,\n",
              " <rdkit.DataStructs.cDataStructs.ExplicitBitVect at 0x7f2d1cd0fa30>]"
            ]
          },
          "metadata": {},
          "execution_count": 74
        }
      ]
    },
    {
      "cell_type": "code",
      "source": [
        "# Similarity\n",
        "\n",
        "DataStructs.FingerprintSimilarity(fps[0], fps[1]) # Taminoto smiliary"
      ],
      "metadata": {
        "colab": {
          "base_uri": "https://localhost:8080/"
        },
        "id": "trEzbPi4Oixo",
        "outputId": "8f84ac0e-8d9d-4ba0-be70-6e0b0b805cec"
      },
      "execution_count": 82,
      "outputs": [
        {
          "output_type": "execute_result",
          "data": {
            "text/plain": [
              "0.6"
            ]
          },
          "metadata": {},
          "execution_count": 82
        }
      ]
    },
    {
      "cell_type": "code",
      "source": [
        "DataStructs.FingerprintSimilarity(fps[0], fps[1], metric=DataStructs.DiceSimilarity)"
      ],
      "metadata": {
        "colab": {
          "base_uri": "https://localhost:8080/"
        },
        "id": "IwPj6SZVOtbc",
        "outputId": "a770cd05-f0fa-4d5f-8413-e4f3f611a971"
      },
      "execution_count": 83,
      "outputs": [
        {
          "output_type": "execute_result",
          "data": {
            "text/plain": [
              "0.75"
            ]
          },
          "metadata": {},
          "execution_count": 83
        }
      ]
    },
    {
      "cell_type": "code",
      "source": [
        "# MACCSKeys - 166 public keys\n",
        "\n",
        "from rdkit.Chem import MACCSkeys\n",
        "\n",
        "fps = [MACCSkeys.GenMACCSKeys(mol) for mol in ms]\n",
        "fps"
      ],
      "metadata": {
        "colab": {
          "base_uri": "https://localhost:8080/"
        },
        "id": "2jfES6iaP_iP",
        "outputId": "7cbbde5f-77fd-4ce9-a2e7-34be9a4f81c7"
      },
      "execution_count": 86,
      "outputs": [
        {
          "output_type": "execute_result",
          "data": {
            "text/plain": [
              "[<rdkit.DataStructs.cDataStructs.ExplicitBitVect at 0x7f2d1a21cdf0>,\n",
              " <rdkit.DataStructs.cDataStructs.ExplicitBitVect at 0x7f2d1a21c8f0>,\n",
              " <rdkit.DataStructs.cDataStructs.ExplicitBitVect at 0x7f2d1a1c7ee0>]"
            ]
          },
          "metadata": {},
          "execution_count": 86
        }
      ]
    },
    {
      "cell_type": "code",
      "source": [
        "DataStructs.FingerprintSimilarity(fps[0], fps[1])"
      ],
      "metadata": {
        "colab": {
          "base_uri": "https://localhost:8080/"
        },
        "id": "zJN--cJFQbNT",
        "outputId": "8abf96b4-7fc1-4080-adba-2b765103e3ba"
      },
      "execution_count": 87,
      "outputs": [
        {
          "output_type": "execute_result",
          "data": {
            "text/plain": [
              "0.5"
            ]
          },
          "metadata": {},
          "execution_count": 87
        }
      ]
    },
    {
      "cell_type": "code",
      "source": [
        "DataStructs.FingerprintSimilarity(fps[0], fps[1], metric=DataStructs.DiceSimilarity)\n"
      ],
      "metadata": {
        "colab": {
          "base_uri": "https://localhost:8080/"
        },
        "id": "Mw0c0SemQyl0",
        "outputId": "a0270567-1ce7-4315-8f72-13d5b5660877"
      },
      "execution_count": 88,
      "outputs": [
        {
          "output_type": "execute_result",
          "data": {
            "text/plain": [
              "0.6666666666666666"
            ]
          },
          "metadata": {},
          "execution_count": 88
        }
      ]
    },
    {
      "cell_type": "code",
      "source": [
        "# Morgan FingerPrints, 다른 말로 ECFP\n",
        "# radius 를 확인해봐야함 1 - ECFP2, 2 - ECFP4\n",
        "\n",
        "from rdkit.Chem import AllChem\n",
        "\n",
        "fps = [AllChem.GetMorganFingerprint(mol, 2) for mol in ms]\n",
        "fps"
      ],
      "metadata": {
        "colab": {
          "base_uri": "https://localhost:8080/"
        },
        "id": "MyalE5PkQy-k",
        "outputId": "a51f49c3-fd65-40da-ae13-1548a9dee077"
      },
      "execution_count": 96,
      "outputs": [
        {
          "output_type": "execute_result",
          "data": {
            "text/plain": [
              "[<rdkit.DataStructs.cDataStructs.UIntSparseIntVect at 0x7f2d1a1e9210>,\n",
              " <rdkit.DataStructs.cDataStructs.UIntSparseIntVect at 0x7f2d1a1e98a0>,\n",
              " <rdkit.DataStructs.cDataStructs.UIntSparseIntVect at 0x7f2d1a1e9620>]"
            ]
          },
          "metadata": {},
          "execution_count": 96
        }
      ]
    },
    {
      "cell_type": "code",
      "source": [
        "# 정수 list 가 아니라 bit vector 로 변환하여 보통 사용\n",
        "\n",
        "fps = [AllChem.GetMorganFingerprintAsBitVect(mol, 2) for mol in ms]\n",
        "fps"
      ],
      "metadata": {
        "colab": {
          "base_uri": "https://localhost:8080/"
        },
        "id": "nQ5tNb-wRMeM",
        "outputId": "5f42ac1d-57c9-4c79-8c33-54b026bf7653"
      },
      "execution_count": 98,
      "outputs": [
        {
          "output_type": "execute_result",
          "data": {
            "text/plain": [
              "[<rdkit.DataStructs.cDataStructs.ExplicitBitVect at 0x7f2d1a215b20>,\n",
              " <rdkit.DataStructs.cDataStructs.ExplicitBitVect at 0x7f2d1a221170>,\n",
              " <rdkit.DataStructs.cDataStructs.ExplicitBitVect at 0x7f2d1a221e40>]"
            ]
          },
          "metadata": {},
          "execution_count": 98
        }
      ]
    },
    {
      "cell_type": "code",
      "source": [
        "fps[0]"
      ],
      "metadata": {
        "colab": {
          "base_uri": "https://localhost:8080/"
        },
        "id": "DcuUD4VuRmRL",
        "outputId": "501f73f8-6ca5-42d8-f7ab-1c363b403efd"
      },
      "execution_count": 99,
      "outputs": [
        {
          "output_type": "execute_result",
          "data": {
            "text/plain": [
              "<rdkit.DataStructs.cDataStructs.ExplicitBitVect at 0x7f2d1a215b20>"
            ]
          },
          "metadata": {},
          "execution_count": 99
        }
      ]
    },
    {
      "cell_type": "code",
      "source": [
        "len(fps[0])"
      ],
      "metadata": {
        "colab": {
          "base_uri": "https://localhost:8080/"
        },
        "id": "KQyyCEhOSdJR",
        "outputId": "35e361c3-4245-45e6-97e9-9a5a2395f5da"
      },
      "execution_count": 100,
      "outputs": [
        {
          "output_type": "execute_result",
          "data": {
            "text/plain": [
              "2048"
            ]
          },
          "metadata": {},
          "execution_count": 100
        }
      ]
    },
    {
      "cell_type": "code",
      "source": [
        "DataStructs.FingerprintSimilarity(fps[0], fps[1])\n",
        "# 특정 분자와 매우 유사한 것들만 고르겠다... 이런 것에 이용 한다"
      ],
      "metadata": {
        "colab": {
          "base_uri": "https://localhost:8080/"
        },
        "id": "Nxyrf-UnSpDz",
        "outputId": "14c20153-9b8c-46d5-e74b-6fe1e28dba02"
      },
      "execution_count": 102,
      "outputs": [
        {
          "output_type": "execute_result",
          "data": {
            "text/plain": [
              "0.2727272727272727"
            ]
          },
          "metadata": {},
          "execution_count": 102
        }
      ]
    },
    {
      "cell_type": "code",
      "source": [
        ""
      ],
      "metadata": {
        "id": "TMudTJnoS4MY"
      },
      "execution_count": null,
      "outputs": []
    }
  ]
}