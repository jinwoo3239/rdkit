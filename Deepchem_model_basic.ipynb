{
  "nbformat": 4,
  "nbformat_minor": 0,
  "metadata": {
    "colab": {
      "name": "Deepchem_model_basic.ipynb",
      "provenance": [],
      "collapsed_sections": [],
      "toc_visible": true,
      "authorship_tag": "ABX9TyOzTR3OxLIc4fiUj6/Th9h9",
      "include_colab_link": true
    },
    "kernelspec": {
      "name": "python3",
      "display_name": "Python 3"
    },
    "language_info": {
      "name": "python"
    }
  },
  "cells": [
    {
      "cell_type": "markdown",
      "metadata": {
        "id": "view-in-github",
        "colab_type": "text"
      },
      "source": [
        "<a href=\"https://colab.research.google.com/github/jinwoo3239/rdkit/blob/main/Deepchem_model_basic.ipynb\" target=\"_parent\"><img src=\"https://colab.research.google.com/assets/colab-badge.svg\" alt=\"Open In Colab\"/></a>"
      ]
    },
    {
      "cell_type": "code",
      "execution_count": null,
      "metadata": {
        "colab": {
          "base_uri": "https://localhost:8080/"
        },
        "id": "Vv0Y7bnYBKHV",
        "outputId": "93ab358a-231f-469a-987c-bf116307988d"
      },
      "outputs": [
        {
          "output_type": "stream",
          "name": "stdout",
          "text": [
            "Looking in indexes: https://pypi.org/simple, https://us-python.pkg.dev/colab-wheels/public/simple/\n",
            "Collecting deepchem\n",
            "  Downloading deepchem-2.6.1-py3-none-any.whl (608 kB)\n",
            "\u001b[K     |████████████████████████████████| 608 kB 30.0 MB/s \n",
            "\u001b[?25hRequirement already satisfied: scipy in /usr/local/lib/python3.7/dist-packages (from deepchem) (1.7.3)\n",
            "Requirement already satisfied: numpy>=1.21 in /usr/local/lib/python3.7/dist-packages (from deepchem) (1.21.6)\n",
            "Requirement already satisfied: scikit-learn in /usr/local/lib/python3.7/dist-packages (from deepchem) (1.0.2)\n",
            "Collecting rdkit-pypi\n",
            "  Downloading rdkit_pypi-2022.3.5-cp37-cp37m-manylinux_2_17_x86_64.manylinux2014_x86_64.whl (36.8 MB)\n",
            "\u001b[K     |████████████████████████████████| 36.8 MB 43 kB/s \n",
            "\u001b[?25hRequirement already satisfied: joblib in /usr/local/lib/python3.7/dist-packages (from deepchem) (1.1.0)\n",
            "Requirement already satisfied: pandas in /usr/local/lib/python3.7/dist-packages (from deepchem) (1.3.5)\n",
            "Requirement already satisfied: python-dateutil>=2.7.3 in /usr/local/lib/python3.7/dist-packages (from pandas->deepchem) (2.8.2)\n",
            "Requirement already satisfied: pytz>=2017.3 in /usr/local/lib/python3.7/dist-packages (from pandas->deepchem) (2022.2.1)\n",
            "Requirement already satisfied: six>=1.5 in /usr/local/lib/python3.7/dist-packages (from python-dateutil>=2.7.3->pandas->deepchem) (1.15.0)\n",
            "Requirement already satisfied: Pillow in /usr/local/lib/python3.7/dist-packages (from rdkit-pypi->deepchem) (7.1.2)\n",
            "Requirement already satisfied: threadpoolctl>=2.0.0 in /usr/local/lib/python3.7/dist-packages (from scikit-learn->deepchem) (3.1.0)\n",
            "Installing collected packages: rdkit-pypi, deepchem\n",
            "Successfully installed deepchem-2.6.1 rdkit-pypi-2022.3.5\n"
          ]
        }
      ],
      "source": [
        "!pip install deepchem"
      ]
    },
    {
      "cell_type": "code",
      "source": [
        "import deepchem as dc\n",
        "\n",
        "import torch\n",
        "import torch.nn as nn\n",
        "\n",
        "import tensorflow as tf\n",
        "from tensorflow.keras import layers"
      ],
      "metadata": {
        "id": "-bxVIOZuBr06"
      },
      "execution_count": null,
      "outputs": []
    },
    {
      "cell_type": "markdown",
      "source": [
        "## Tensorflow keras model, Regression"
      ],
      "metadata": {
        "id": "m90P3NxGE4ct"
      }
    },
    {
      "cell_type": "code",
      "source": [
        "keras_model = tf.keras.Sequential([\n",
        "    tf.keras.layers.Dense(128, activation='relu'),\n",
        "    tf.keras.layers.Dense(32, activation='relu'),\n",
        "    tf.keras.layers.Dense(1)\n",
        "])\n",
        "\n",
        "model_tf = dc.models.KerasModel(model=keras_model, loss=dc.models.losses.L2Loss())"
      ],
      "metadata": {
        "id": "LiUCexPyCJKR"
      },
      "execution_count": null,
      "outputs": []
    },
    {
      "cell_type": "code",
      "source": [
        "task, datasets, transforms = dc.molnet.load_delaney(featurizer='ECFP', splitter='random')\n",
        "train_datasets, validation_datasets, test_datasets = datasets\n",
        "\n",
        "metric = dc.metrics.Metric(dc.metrics.r2_score)\n",
        "\n",
        "model_tf.fit(train_datasets, nb_epoch=50)"
      ],
      "metadata": {
        "colab": {
          "base_uri": "https://localhost:8080/"
        },
        "id": "LUXov5AlCvNy",
        "outputId": "038bfb3a-94e8-404b-cc0b-62de65b20d7a"
      },
      "execution_count": null,
      "outputs": [
        {
          "output_type": "execute_result",
          "data": {
            "text/plain": [
              "0.02209074258804321"
            ]
          },
          "metadata": {},
          "execution_count": 12
        }
      ]
    },
    {
      "cell_type": "code",
      "source": [
        "print(model_tf.evaluate(train_datasets, metrics=[metric]))\n",
        "print(model_tf.evaluate(validation_datasets, metrics=[metric]))\n",
        "print(model_tf.evaluate(test_datasets, metrics=[metric]))"
      ],
      "metadata": {
        "colab": {
          "base_uri": "https://localhost:8080/"
        },
        "id": "hG2df_TVCrTQ",
        "outputId": "0bad5567-7b61-4204-cd75-593b9cd4c8a2"
      },
      "execution_count": null,
      "outputs": [
        {
          "output_type": "stream",
          "name": "stdout",
          "text": [
            "{'r2_score': 0.9772463197424119}\n",
            "{'r2_score': 0.7550559321417838}\n",
            "{'r2_score': 0.6656071487929602}\n"
          ]
        }
      ]
    },
    {
      "cell_type": "markdown",
      "source": [
        "## Torch model, Regression"
      ],
      "metadata": {
        "id": "5Pk9DnsIFEhq"
      }
    },
    {
      "cell_type": "code",
      "source": [
        "train_datasets.X.shape"
      ],
      "metadata": {
        "colab": {
          "base_uri": "https://localhost:8080/"
        },
        "id": "00wp8D6WFR9n",
        "outputId": "112589f4-14f0-42a7-c5e2-afe4fa2365cf"
      },
      "execution_count": null,
      "outputs": [
        {
          "output_type": "execute_result",
          "data": {
            "text/plain": [
              "(902, 1024)"
            ]
          },
          "metadata": {},
          "execution_count": 20
        }
      ]
    },
    {
      "cell_type": "code",
      "source": [
        "torch_model = nn.Sequential(nn.Linear(1024, 128),\n",
        "                            nn.ReLU(),\n",
        "                            nn.Linear(128, 32),\n",
        "                            nn.ReLU(),\n",
        "                            nn.Linear(32, 1))\n",
        "\n",
        "model_torch = dc.models.TorchModel(model=torch_model,\n",
        "                                   loss=dc.models.losses.L2Loss())\n",
        "\n",
        "model_torch.fit(train_datasets)"
      ],
      "metadata": {
        "colab": {
          "base_uri": "https://localhost:8080/"
        },
        "id": "HzEkhHlAFTN5",
        "outputId": "cae23b8d-69c4-40ba-bb34-21c44d6f9d8c"
      },
      "execution_count": null,
      "outputs": [
        {
          "output_type": "execute_result",
          "data": {
            "text/plain": [
              "0.3304560089111328"
            ]
          },
          "metadata": {},
          "execution_count": 21
        }
      ]
    },
    {
      "cell_type": "code",
      "source": [
        "metric = dc.metrics.Metric(dc.metrics.r2_score)\n",
        "\n",
        "print(model_torch.evaluate(train_datasets, metrics=[metric]))\n",
        "print(model_torch.evaluate(validation_datasets, metrics=[metric]))\n",
        "print(model_torch.evaluate(test_datasets, metrics=[metric]))"
      ],
      "metadata": {
        "colab": {
          "base_uri": "https://localhost:8080/"
        },
        "id": "X06JlOyGF_0n",
        "outputId": "4f22562a-8622-4df6-a57d-2fb5a4c436de"
      },
      "execution_count": null,
      "outputs": [
        {
          "output_type": "stream",
          "name": "stdout",
          "text": [
            "{'r2_score': 0.9186426908785275}\n",
            "{'r2_score': 0.6893643042280762}\n",
            "{'r2_score': 0.5619844997067731}\n"
          ]
        }
      ]
    },
    {
      "cell_type": "markdown",
      "source": [
        "# Classification (Binary)"
      ],
      "metadata": {
        "id": "qW-CGN9oHAQw"
      }
    },
    {
      "cell_type": "code",
      "source": [
        "tasks, datasets, transforms = dc.molnet.load_bace_classification(featurizer='ECFP', splitter='random')\n",
        "train_dataset, validation_dataset, test_dataset = datasets\n",
        "\n",
        "train_dataset"
      ],
      "metadata": {
        "colab": {
          "base_uri": "https://localhost:8080/"
        },
        "id": "nu6pj1SDHAYs",
        "outputId": "1983b022-6fee-45f1-be5d-b40bdf9ada50"
      },
      "execution_count": null,
      "outputs": [
        {
          "output_type": "execute_result",
          "data": {
            "text/plain": [
              "<DiskDataset X.shape: (1210, 1024), y.shape: (1210, 1), w.shape: (1210, 1), task_names: ['Class']>"
            ]
          },
          "metadata": {},
          "execution_count": 30
        }
      ]
    },
    {
      "cell_type": "markdown",
      "source": [
        "## tensorflow_model"
      ],
      "metadata": {
        "id": "5-TP0ouwHAoJ"
      }
    },
    {
      "cell_type": "code",
      "source": [
        "class tf_model(tf.keras.Model):\n",
        "\n",
        "    def __init__(self, ):\n",
        "        super(tf_model, self).__init__()\n",
        "\n",
        "        self.layer1 = tf.keras.Sequential([layers.Dense(128, activation='relu'),\n",
        "                                           layers.Dense(64, activation='relu'),\n",
        "                                           layers.Dense(32, activation='relu'),\n",
        "                                           layers.Dropout(0.1),\n",
        "                                           layers.Dense(1, activation='sigmoid')])\n",
        "        \n",
        "    def call(self, x):\n",
        "        x = self.layer1(x)\n",
        "        return x\n",
        "\n",
        "model = tf_model()"
      ],
      "metadata": {
        "id": "8avX17TYGQ9M"
      },
      "execution_count": null,
      "outputs": []
    },
    {
      "cell_type": "code",
      "source": [
        "output_type = ['precision', 'loss']\n",
        "\n",
        "\n",
        "model = dc.models.KerasModel(model=model, loss=dc.models.losses.BinaryCrossEntropy(),\n",
        "                             output_type=output_type, optimizer=dc.models.optimizers.RMSProp())\n",
        "\n",
        "model.fit(train_dataset, nb_epoch=10)"
      ],
      "metadata": {
        "colab": {
          "base_uri": "https://localhost:8080/"
        },
        "id": "yy1C8g-GH0lB",
        "outputId": "03f91cfd-2caa-4fee-9db4-fa36f5f9a6f6"
      },
      "execution_count": null,
      "outputs": [
        {
          "output_type": "execute_result",
          "data": {
            "text/plain": [
              "0.33840678532918295"
            ]
          },
          "metadata": {},
          "execution_count": 28
        }
      ]
    },
    {
      "cell_type": "code",
      "source": [
        "metric1 = dc.metrics.Metric(dc.metrics.roc_auc_score)\n",
        "metric2 = dc.metrics.Metric(dc.metrics.accuracy_score)\n",
        "\n",
        "print('training set score:', model.evaluate(train_dataset, [metric1, metric2]))\n",
        "print('test set score:', model.evaluate(test_dataset, [metric1, metric2]))"
      ],
      "metadata": {
        "colab": {
          "base_uri": "https://localhost:8080/"
        },
        "id": "amVxQo46IpTN",
        "outputId": "be3ec17d-a933-4105-b4e4-c6d8373046f4"
      },
      "execution_count": null,
      "outputs": [
        {
          "output_type": "stream",
          "name": "stdout",
          "text": [
            "training set score: {'roc_auc_score': 0.9952230571882863, 'accuracy_score': 0.9619834710743802}\n",
            "test set score: {'roc_auc_score': 0.8838833595250568, 'accuracy_score': 0.8092105263157895}\n"
          ]
        }
      ]
    },
    {
      "cell_type": "markdown",
      "source": [
        "# Multitask Model\n",
        "\n",
        "-  데이터 수가 적거나, 비대칭성일 때 멀티태스킹 작업이 성능을 개선시킬 수 있다\n",
        "- MUV 데이터를 이용 예\n",
        "- MUV dataset에는 17개의 타겟에 대해서 소수의 액티브 샘플만 보유하고 있다\n",
        "- 총 93,087 개의 화합물이 있는데 태스크별로 30개 이하의 액티브 샘플만 존재한다\n",
        "- 멀티태스크 모델을 사용하여 이러한 문제를 일부 개선할 수 있다. 한가지 태스크 예측에 도움이 되는 특성은 다른 태스크에도 도움이 될 것임"
      ],
      "metadata": {
        "id": "7RqF0Y09IwIM"
      }
    },
    {
      "cell_type": "code",
      "source": [
        "tasks, datasets, transformers = dc.molnet.load_muv(splitter='stratified')\n",
        "train_dataset, valid_dataset, test_dataset = datasets\n",
        "train_dataset"
      ],
      "metadata": {
        "colab": {
          "base_uri": "https://localhost:8080/"
        },
        "id": "Qiwqcc3qJO8V",
        "outputId": "23d4088b-4b26-4b86-ad18-3d1a17e3cec5"
      },
      "execution_count": null,
      "outputs": [
        {
          "output_type": "execute_result",
          "data": {
            "text/plain": [
              "<DiskDataset X.shape: (74470, 1024), y.shape: (74470, 17), w.shape: (74470, 17), task_names: ['MUV-466' 'MUV-548' 'MUV-600' ... 'MUV-852' 'MUV-858' 'MUV-859']>"
            ]
          },
          "metadata": {},
          "execution_count": 32
        }
      ]
    },
    {
      "cell_type": "code",
      "source": [
        "n_tasks = len(tasks)\n",
        "n_features = train_dataset.get_data_shape()[0]\n",
        "model = dc.models.MultitaskClassifier(n_tasks, n_features)\n",
        "model.fit(train_dataset, nb_epoch=2)"
      ],
      "metadata": {
        "colab": {
          "base_uri": "https://localhost:8080/"
        },
        "id": "8qAc6ypvJTue",
        "outputId": "53b544ed-8d3c-4e6d-92db-84ee34c44dc5"
      },
      "execution_count": null,
      "outputs": [
        {
          "output_type": "execute_result",
          "data": {
            "text/plain": [
              "0.16953183280097114"
            ]
          },
          "metadata": {},
          "execution_count": 43
        }
      ]
    }
  ]
}